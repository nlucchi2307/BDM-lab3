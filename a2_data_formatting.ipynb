{
 "cells": [
  {
   "cell_type": "markdown",
   "id": "02ed6593",
   "metadata": {},
   "source": [
    "## Setting system variables location"
   ]
  },
  {
   "cell_type": "code",
   "execution_count": 1,
   "id": "4df6ebbb",
   "metadata": {},
   "outputs": [],
   "source": [
    "import os\n",
    "\n",
    "# Set HADOOP_HOME to the parent folder of the 'bin' with winutils.exe\n",
    "os.environ[\"HADOOP_HOME\"] = r\"C:\\winutils-master\\hadoop-3.0.0\"\n",
    "os.environ[\"PATH\"] += r\";C:\\winutils-master\\hadoop-3.0.0\\bin\"\n",
    "\n",
    "# (Optional: Set JAVA_HOME if not already set)\n",
    "os.environ[\"JAVA_HOME\"] = r\"C:\\Program Files\\Eclipse Adoptium\\jdk-17.0.15.6-hotspot\""
   ]
  },
  {
   "cell_type": "code",
   "execution_count": 2,
   "id": "6ce278ca",
   "metadata": {},
   "outputs": [],
   "source": [
    "from pyspark.sql import SparkSession\n",
    "from pyspark.sql.functions import col, count, avg, when, array_contains\n",
    "from pyspark.sql import functions as F"
   ]
  },
  {
   "cell_type": "code",
   "execution_count": 3,
   "id": "d56c1839",
   "metadata": {},
   "outputs": [],
   "source": [
    "# set a Spark session\n",
    "spark = SparkSession.builder \\\n",
    "    .appName(\"DataFormatting\") \\\n",
    "    .master(\"local[*]\") \\\n",
    "    .getOrCreate()\n"
   ]
  },
  {
   "cell_type": "code",
   "execution_count": 4,
   "id": "966b8037",
   "metadata": {},
   "outputs": [],
   "source": [
    "# set the paths for the input and output data\n",
    "landing_zone = (\"landing_zone\")\n",
    "formatted_zone = (\"formatted_zone\")"
   ]
  },
  {
   "cell_type": "code",
   "execution_count": 5,
   "id": "a39fa981",
   "metadata": {},
   "outputs": [],
   "source": [
    "# load all files from each folder of the landing zone\n",
    "df_idealista = spark.read.option(\"multiline\", True).json(f\"{landing_zone}/idealista\")\n",
    "df_income = spark.read.option(\"header\", True).csv(f\"{landing_zone}/Income\")\n",
    "df_lookup = spark.read.option(\"header\", True).csv(f\"{landing_zone}/lookup_tables\")"
   ]
  },
  {
   "cell_type": "markdown",
   "id": "a9028c7b",
   "metadata": {},
   "source": [
    "## Idealista data"
   ]
  },
  {
   "cell_type": "code",
   "execution_count": 6,
   "id": "a83137ff",
   "metadata": {},
   "outputs": [
    {
     "name": "stdout",
     "output_type": "stream",
     "text": [
      "+--------------------+---------+-------+--------------------+--------+--------------+--------+-----------------+-----+------+---------+-------+-------+----------+--------+----------+---------+--------------------+--------------------+--------------+----------------------+---------+---------+------------------+---------+-----------+------------+------------+---------+-----+-----------+-----+------+--------------------+--------------------+-----------------+--------------------+\n",
      "|             address|bathrooms|country|        detailedType|distance|      district|exterior|externalReference|floor|has360|has3DTour|hasLift|hasPlan|hasStaging|hasVideo|  latitude|longitude|        municipality|        neighborhood|newDevelopment|newDevelopmentFinished|numPhotos|operation|      parkingSpace|    price|priceByArea|propertyCode|propertyType| province|rooms|showAddress| size|status|      suggestedTexts|           thumbnail|topNewDevelopment|                 url|\n",
      "+--------------------+---------+-------+--------------------+--------+--------------+--------+-----------------+-----+------+---------+-------+-------+----------+--------+----------+---------+--------------------+--------------------+--------------+----------------------+---------+---------+------------------+---------+-----------+------------+------------+---------+-----+-----------+-----+------+--------------------+--------------------+-----------------+--------------------+\n",
      "|     Calle de Berlín|        2|     es|        {NULL, flat}|    2937|Sants-Montjuïc|   false|  145VE22REBSIB13|    3| false|     true|   true|   true|     false|   false|41.3829925|2.1370918|           Barcelona|               Sants|         false|                  NULL|       25|     sale|              NULL| 379000.0|     4407.0|    92205752|        flat|Barcelona|    3|      false| 86.0|  good|{Sants, Barcelona...|https://img3.idea...|            false|https://www.ideal...|\n",
      "|barrio Santa Eulàlia|        2|     es|        {NULL, flat}|     606| Santa Eulàlia|    true|            v7272|    5| false|     true|   true|   true|     false|    true|41.3615306|2.1282983|Hospitalet de Llo...|       Santa Eulàlia|         false|                  NULL|       51|     sale|              NULL| 530000.0|     3841.0|    91694960|        flat|Barcelona|    4|      false|138.0|  good|{Santa Eulàlia, H...|https://img3.idea...|            false|https://www.ideal...|\n",
      "|Gran Via de Carle...|        2|     es|        {NULL, flat}|    3161|     Les Corts|    true|             4399|    7|  true|    false|   true|   true|     false|    true|41.3848586|2.1255646|           Barcelona|La Maternitat i S...|         false|                  NULL|       32|     sale|              NULL| 490000.0|     3920.0|    92228558|        flat|Barcelona|    4|      false|125.0| renew|{La Maternitat i ...|https://img3.idea...|            false|https://www.ideal...|\n",
      "|barrio La Marina ...|        2|     es|        {NULL, flat}|     768|Sants-Montjuïc|    true|           230935|    1| false|    false|   true|   true|     false|    true|41.3593648|2.1405988|           Barcelona|  La Marina del Port|         false|                  NULL|       27|     sale|              NULL| 352000.0|     3229.0|    91082776|        flat|Barcelona|    4|      false|109.0|  good|{La Marina del Po...|https://img3.idea...|            false|https://www.ideal...|\n",
      "|   Calle de Calàbria|        2|     es|   {penthouse, flat}|    2990|      Eixample|    true|        VB2010010|    6|  true|    false|   true|   true|     false|    true|41.3747549|2.1587567|           Barcelona|         Sant Antoni|         false|                  NULL|       27|     sale|              NULL| 695000.0|     4427.0|    91312447|   penthouse|Barcelona|    4|      false|157.0|  good|{Sant Antoni, Bar...|https://img3.idea...|            false|https://www.ideal...|\n",
      "|barrio Sants - Badal|        1|     es|        {NULL, flat}|    1990|Sants-Montjuïc|    true|           246454|    1|  true|    false|  false|   true|     false|   false|41.3746552|2.1296516|           Barcelona|       Sants - Badal|         false|                  NULL|       21|     sale|              NULL| 235000.0|     4273.0|    92966417|        flat|Barcelona|    2|      false| 55.0|  good|{Sants - Badal, B...|https://img3.idea...|            false|https://www.ideal...|\n",
      "|barrio Sants - Badal|        1|     es|        {NULL, flat}|    1594|Sants-Montjuïc|    true|           246248|    4|  true|     true|   true|   true|     false|   false|41.3710978|2.1299119|           Barcelona|       Sants - Badal|         false|                  NULL|       25|     sale|              NULL| 210000.0|     3088.0|    92818839|        flat|Barcelona|    4|      false| 68.0|  good|{Sants - Badal, B...|https://img3.idea...|            false|https://www.ideal...|\n",
      "|Calle del Comanda...|        2|     es|   {penthouse, flat}|    2585|     Les Corts|    true|    CB_BCN_0376_V|    9|  true|    false|   true|   true|     false|    true|41.3799546|2.1285386|           Barcelona|La Maternitat i S...|         false|                  NULL|       33|     sale|              NULL| 475000.0|     3831.0|    91903585|   penthouse|Barcelona|    3|      false|124.0|  good|{La Maternitat i ...|https://img3.idea...|            false|https://www.ideal...|\n",
      "|         Calle Major|        5|     es|{semidetachedHous...|    2842|        Centre|   false|             6502| NULL|  true|    false|   NULL|   true|     false|   false| 41.358062|2.0980035|Hospitalet de Llo...|              Centre|         false|                  NULL|       58|     sale|{true, true, NULL}| 625000.0|     2551.0|    91417634|      chalet|Barcelona|    4|      false|245.0|  good|{Centre, Hospital...|https://img3.idea...|            false|https://www.ideal...|\n",
      "|barrio El Poble S...|        1|     es|        {NULL, flat}|    2611|Sants-Montjuïc|    true|        VB2012026|    1|  true|    false|  false|   true|     false|    true|41.3726605|2.1551583|           Barcelona|El Poble Sec - Pa...|         false|                  NULL|       25|     sale|              NULL| 250000.0|     4717.0|    92197943|        flat|Barcelona|    2|      false| 53.0|  good|{El Poble Sec - P...|https://img3.idea...|            false|https://www.ideal...|\n",
      "|barrio La Materni...|        2|     es|        {NULL, flat}|    2509|     Les Corts|    true|        VB2012017|    3|  true|    false|   true|   true|     false|    true|41.3784791|2.1234518|           Barcelona|La Maternitat i S...|         false|                  NULL|       27|     sale|              NULL| 410000.0|     4184.0|    92108611|        flat|Barcelona|    4|      false| 98.0|  good|{La Maternitat i ...|https://img3.idea...|            false|https://www.ideal...|\n",
      "|barrio El Poble S...|        3|     es|        {NULL, flat}|    3069|Sants-Montjuïc|   false|         BCN06428|   bj| false|    false|   true|   true|     false|    true| 41.373318|2.1615491|           Barcelona|El Poble Sec - Pa...|         false|                  NULL|       30|     sale|              NULL| 650000.0|     2851.0|    91279610|        flat|Barcelona|    3|      false|228.0|  good|{El Poble Sec - P...|https://img3.idea...|            false|https://www.ideal...|\n",
      "|   Calle Benavent, 8|        2|     es|        {NULL, flat}|    2413|     Les Corts|    true|              v40|    3|  true|    false|   true|   true|     false|    true|41.3779791|2.1254518|           Barcelona|La Maternitat i S...|         false|                  NULL|       30|     sale|              NULL| 410000.0|     4059.0|    92002091|        flat|Barcelona|    4|       true|101.0|  good|{La Maternitat i ...|https://img3.idea...|            false|https://www.ideal...|\n",
      "|Calle de Sabino A...|        3|     es|        {NULL, flat}|    3161|     Les Corts|    true|          GVVSA38|    2|  true|    false|   true|   true|     false|    true|41.3844759|2.1230717|           Barcelona|La Maternitat i S...|         false|                  NULL|       27|     sale|              NULL| 695000.0|     4760.0|    92811075|        flat|Barcelona|    4|      false|146.0|  good|{La Maternitat i ...|https://img3.idea...|            false|https://www.ideal...|\n",
      "|     Calle d'Entença|        1|     es|        {NULL, flat}|    2997|      Eixample|    true|          836-21V|    3|  true|    false|   true|   true|     false|   false| 41.378928|2.1526336|           Barcelona|La Nova Esquerra ...|         false|                  NULL|       22|     sale|              NULL| 299000.0|     3477.0|    92567198|        flat|Barcelona|    4|      false| 86.0|  good|{La Nova Esquerra...|https://img3.idea...|            false|https://www.ideal...|\n",
      "|  Carretera del Prat|        2|     es|{terracedHouse, c...|     323|Sants-Montjuïc|   false|           B20325| NULL|  true|    false|   NULL|   true|     false|    true|41.3585747|2.1351485|           Barcelona|  La Marina del Port|         false|                  NULL|       44|     sale|{true, true, NULL}|1075000.0|     3644.0|    88129785|      chalet|Barcelona|    5|      false|295.0|  good|{La Marina del Po...|https://img3.idea...|            false|https://www.ideal...|\n",
      "|  barrio Sant Antoni|        2|     es|        {NULL, flat}|    3106|      Eixample|    true|         BCN06476|    6|  true|    false|   true|   true|     false|   false|41.3797156|2.1534071|           Barcelona|         Sant Antoni|         false|                  NULL|       34|     sale|              NULL| 795000.0|     5679.0|    92710736|        flat|Barcelona|    4|      false|140.0|  good|{Sant Antoni, Bar...|https://img3.idea...|            false|https://www.ideal...|\n",
      "|  barrio Sant Antoni|        2|     es|   {penthouse, flat}|    2952|      Eixample|    true|         BCN06427|    6|  true|    false|   true|   true|     false|   false|41.3741549|2.1588567|           Barcelona|         Sant Antoni|         false|                  NULL|       27|     sale|              NULL| 695000.0|     4162.0|    91237754|   penthouse|Barcelona|    4|      false|167.0|  good|{Sant Antoni, Bar...|https://img3.idea...|            false|https://www.ideal...|\n",
      "|barrio La Nova Es...|        2|     es|        {NULL, flat}|    2927|      Eixample|    true|           240866|    5|  true|    false|   true|   true|     false|   false|41.3808537|2.1464343|           Barcelona|La Nova Esquerra ...|         false|                  NULL|       20|     sale|              NULL| 395000.0|     4293.0|    90716884|        flat|Barcelona|    3|      false| 92.0| renew|{La Nova Esquerra...|https://img3.idea...|            false|https://www.ideal...|\n",
      "|barrio El Poble S...|        2|     es|   {penthouse, flat}|    2917|Sants-Montjuïc|    true|          SP115TV|    3|  true|    false|   true|   true|     false|   false|41.3738406|2.1586686|           Barcelona|El Poble Sec - Pa...|         false|                  NULL|       28|     sale|              NULL| 348000.0|     3663.0|    91866036|   penthouse|Barcelona|    3|      false| 95.0|  good|{El Poble Sec - P...|https://img3.idea...|            false|https://www.ideal...|\n",
      "+--------------------+---------+-------+--------------------+--------+--------------+--------+-----------------+-----+------+---------+-------+-------+----------+--------+----------+---------+--------------------+--------------------+--------------+----------------------+---------+---------+------------------+---------+-----------+------------+------------+---------+-----+-----------+-----+------+--------------------+--------------------+-----------------+--------------------+\n",
      "only showing top 20 rows\n"
     ]
    }
   ],
   "source": [
    "df_idealista.show()"
   ]
  },
  {
   "cell_type": "markdown",
   "id": "4170d10d",
   "metadata": {},
   "source": [
    "We will only predict price for the Municipality of Barcelona, filtering the data"
   ]
  },
  {
   "cell_type": "code",
   "execution_count": 7,
   "id": "69b4cbe3",
   "metadata": {},
   "outputs": [],
   "source": [
    "df_idealista = df_idealista.filter(F.col(\"municipality\") == \"Barcelona\")"
   ]
  },
  {
   "cell_type": "markdown",
   "id": "c7a8e5ae",
   "metadata": {},
   "source": [
    "We will check next how many rows we have in our data frame"
   ]
  },
  {
   "cell_type": "code",
   "execution_count": 8,
   "id": "a6645aa5",
   "metadata": {},
   "outputs": [
    {
     "name": "stdout",
     "output_type": "stream",
     "text": [
      "7856\n"
     ]
    }
   ],
   "source": [
    "n_rows = df_idealista.count()\n",
    "print(n_rows)"
   ]
  },
  {
   "cell_type": "markdown",
   "id": "c8f437e2",
   "metadata": {},
   "source": [
    "For our specific task, we want to include only unique properties, so we will also check for duplicates next"
   ]
  },
  {
   "cell_type": "code",
   "execution_count": 9,
   "id": "48f15dd9",
   "metadata": {},
   "outputs": [
    {
     "name": "stdout",
     "output_type": "stream",
     "text": [
      "+------------+-----------+\n",
      "|propertyCode|occurrences|\n",
      "+------------+-----------+\n",
      "|90204735    |5          |\n",
      "|92524329    |6          |\n",
      "|91622667    |4          |\n",
      "|91358097    |3          |\n",
      "|87258588    |4          |\n",
      "|91903585    |12         |\n",
      "|91901786    |9          |\n",
      "|92771991    |5          |\n",
      "|91560330    |4          |\n",
      "|92108611    |10         |\n",
      "|92411589    |2          |\n",
      "|92557089    |2          |\n",
      "|87265378    |3          |\n",
      "|92962742    |6          |\n",
      "|40084649    |2          |\n",
      "|92474319    |3          |\n",
      "|91566532    |2          |\n",
      "|88667699    |4          |\n",
      "|88863152    |4          |\n",
      "|91671895    |3          |\n",
      "+------------+-----------+\n",
      "only showing top 20 rows\n"
     ]
    }
   ],
   "source": [
    "df_idealista.groupBy(\"propertyCode\") \\\n",
    "    .agg(count(\"*\").alias(\"occurrences\")) \\\n",
    "    .filter(\"occurrences > 1\") \\\n",
    "    .show(truncate=False)\n"
   ]
  },
  {
   "cell_type": "code",
   "execution_count": 10,
   "id": "18345b0e",
   "metadata": {},
   "outputs": [
    {
     "data": {
      "text/markdown": [
       "We identified **1389** duplicated properties in our data."
      ],
      "text/plain": [
       "<IPython.core.display.Markdown object>"
      ]
     },
     "metadata": {},
     "output_type": "display_data"
    }
   ],
   "source": [
    "from IPython.display import Markdown, display\n",
    "n_duplicates = (\n",
    "    df_idealista\n",
    "    .groupBy(\"propertyCode\") \n",
    "    .agg(count(\"*\").alias(\"occurrences\"))\n",
    "    .filter(\"occurrences > 1\")\n",
    "    .count()\n",
    ")\n",
    "\n",
    "display(Markdown(f\"We identified **{n_duplicates}** duplicated properties in our data.\"))"
   ]
  },
  {
   "cell_type": "markdown",
   "id": "651efdc4",
   "metadata": {},
   "source": [
    "The Idealista JSON files were originally split by year, month, and day, but since distinguishing between dates is not relevant for our analysis—and property prices do not show significant variation within our timeframe—we will remove these duplicate entries. Additionally, we cannot leverage temporal information, as the Idealista dataset spans 2020–2021, whereas the income dataset covers 2007–2017.\n",
    "\n",
    "Therefore, we will ignore the time dimension entirely and proceed with an analysis that does not consider temporal aspects.\n",
    "\n",
    "Additionally, this approach resolves the issue of repeated files—for example, cases like 2020_12_28_idealista(1).json and 2020_12_28_idealista.json, which are likely duplicates. By retaining only unique propertyCode values, we ensure that such repetitions do not introduce bias into our analysis."
   ]
  },
  {
   "cell_type": "code",
   "execution_count": 11,
   "id": "97098732",
   "metadata": {},
   "outputs": [],
   "source": [
    "# remove duplicates\n",
    "df_idealista = df_idealista.dropDuplicates([\"propertyCode\"])"
   ]
  },
  {
   "cell_type": "code",
   "execution_count": 12,
   "id": "64e393d5",
   "metadata": {},
   "outputs": [
    {
     "data": {
      "text/markdown": [
       "We will perform our analysis using information for **4062** properties."
      ],
      "text/plain": [
       "<IPython.core.display.Markdown object>"
      ]
     },
     "metadata": {},
     "output_type": "display_data"
    }
   ],
   "source": [
    "n_rows = df_idealista.count()\n",
    "display(Markdown(f\"We will perform our analysis using information for **{n_rows}** properties.\"))"
   ]
  },
  {
   "cell_type": "code",
   "execution_count": 13,
   "id": "249fdb83",
   "metadata": {},
   "outputs": [
    {
     "name": "stdout",
     "output_type": "stream",
     "text": [
      "Total rows: 4062\n",
      "Unique property codes: 4062\n",
      "propertyCode is unique for all rows.\n"
     ]
    }
   ],
   "source": [
    "# Count total rows\n",
    "total_rows = df_idealista.count()\n",
    "\n",
    "# Count unique propertyCodes\n",
    "unique_property_codes = df_idealista.select(\"propertyCode\").distinct().count()\n",
    "\n",
    "print(f\"Total rows: {total_rows}\")\n",
    "print(f\"Unique property codes: {unique_property_codes}\")\n",
    "\n",
    "# Check if propertyCode is unique\n",
    "if total_rows == unique_property_codes:\n",
    "    print(\"propertyCode is unique for all rows.\")\n",
    "else:\n",
    "    print(\"There are duplicate propertyCode values.\")\n"
   ]
  },
  {
   "cell_type": "markdown",
   "id": "a7a61f47",
   "metadata": {},
   "source": [
    "## Income Data"
   ]
  },
  {
   "cell_type": "code",
   "execution_count": 14,
   "id": "fceb1075",
   "metadata": {},
   "outputs": [
    {
     "name": "stdout",
     "output_type": "stream",
     "text": [
      "+----+--------------+--------------+----------+--------------------+--------+-------------------------+\n",
      "| Any|Codi_Districte| Nom_Districte|Codi_Barri|           Nom_Barri|Població|Índex RFD Barcelona = 100|\n",
      "+----+--------------+--------------+----------+--------------------+--------+-------------------------+\n",
      "|2007|             1|  Ciutat Vella|         1|            el Raval|   46595|                     64.7|\n",
      "|2007|             1|  Ciutat Vella|         2|      el Barri Gòtic|   27946|                     86.5|\n",
      "|2007|             1|  Ciutat Vella|         3|      la Barceloneta|   15921|                     66.7|\n",
      "|2007|             1|  Ciutat Vella|         4|Sant Pere, Santa ...|   22572|                     80.2|\n",
      "|2007|             2|      Eixample|         5|       el Fort Pienc|   31521|                    107.9|\n",
      "|2007|             2|      Eixample|         6|  la Sagrada Família|   52185|                    101.8|\n",
      "|2007|             2|      Eixample|         7|la Dreta de l'Eix...|   42504|                    137.6|\n",
      "|2007|             2|      Eixample|         8|l'Antiga Esquerra...|   41413|                    126.5|\n",
      "|2007|             2|      Eixample|         9|la Nova Esquerra ...|   58146|                    116.9|\n",
      "|2007|             2|      Eixample|        10|         Sant Antoni|   37988|                    103.8|\n",
      "|2007|             3|Sants-Montjuïc|        11|        el Poble Sec|   39579|                     73.3|\n",
      "|2007|             3|Sants-Montjuïc|        12|la Marina del Pra...|    1005|                     80.4|\n",
      "|2007|             3|Sants-Montjuïc|        13|   la Marina de Port|   29327|                     80.2|\n",
      "|2007|             3|Sants-Montjuïc|        14|la Font de la Gua...|   10064|                     90.4|\n",
      "|2007|             3|Sants-Montjuïc|        15|         Hostafrancs|   15771|                     82.7|\n",
      "|2007|             3|Sants-Montjuïc|        16|          la Bordeta|   18592|                     81.9|\n",
      "|2007|             3|Sants-Montjuïc|        17|       Sants - Badal|   24085|                     85.9|\n",
      "|2007|             3|Sants-Montjuïc|        18|               Sants|   40272|                     89.5|\n",
      "|2007|             4|     Les Corts|        19|           les Corts|   46400|                    130.4|\n",
      "|2007|             4|     Les Corts|        20|la Maternitat i S...|   23938|                    127.9|\n",
      "+----+--------------+--------------+----------+--------------------+--------+-------------------------+\n",
      "only showing top 20 rows\n"
     ]
    }
   ],
   "source": [
    "df_income.show()"
   ]
  },
  {
   "cell_type": "markdown",
   "id": "8c03ecb0",
   "metadata": {},
   "source": [
    "In the 'income' dataframe we won't have exact duplicates since the population and the RDF index change over the years, so we used a different mechanism to remove the time dimension:\n",
    "- we grouped by the neighborhood,\n",
    "- we computed average population and average RDF index"
   ]
  },
  {
   "cell_type": "code",
   "execution_count": 15,
   "id": "845da7df",
   "metadata": {},
   "outputs": [],
   "source": [
    "# we tried to normally groupby 'Nom_Barri' and then average the 'Població' and 'Índex RFD Barcelona = 100' columns, \n",
    "# but we found that some values were not numeric, so here we handle this. \n",
    "df_income_cleaned = df_income.withColumn(\n",
    "    \"Poblacio_num\", when(col(\"Població\").rlike(\"^\\d+$\"), col(\"Població\").cast(\"double\"))).withColumn(\n",
    "    \"Index_RFD_num\", when(col(\"Índex RFD Barcelona = 100\").rlike(\"^\\d+(\\.\\d+)?$\"), col(\"Índex RFD Barcelona = 100\").cast(\"double\")))\n",
    "\n",
    "# normal groupby and average\n",
    "df_income_barri = df_income_cleaned.groupBy(\"Nom_Barri\").agg(\n",
    "    avg(\"Poblacio_num\").alias(\"Poblacio_average\"),\n",
    "    avg(\"Index_RFD_num\").alias(\"Index_RFD_average\"))\n"
   ]
  },
  {
   "cell_type": "code",
   "execution_count": 16,
   "id": "d5334033",
   "metadata": {},
   "outputs": [
    {
     "name": "stdout",
     "output_type": "stream",
     "text": [
      "+--------------------+------------------+------------------+\n",
      "|           Nom_Barri|  Poblacio_average| Index_RFD_average|\n",
      "+--------------------+------------------+------------------+\n",
      "|         el Poblenou|32450.454545454544| 92.63636363636364|\n",
      "|   la Vila de Gràcia| 51166.63636363636|104.81818181818181|\n",
      "|el Besòs i el Mar...|23435.454545454544| 56.07272727272727|\n",
      "|        la Guineueta|15231.727272727272|63.818181818181806|\n",
      "|        la Teixonera|11400.727272727272| 71.89999999999999|\n",
      "|la Dreta de l'Eix...| 43410.36363636364|155.25454545454548|\n",
      "|      el Barri Gòtic| 18795.81818181818| 98.14545454545454|\n",
      "|         el Guinardó|35770.818181818184| 85.58181818181818|\n",
      "|            Vallbona|1338.1818181818182| 48.96363636363637|\n",
      "|           Canyelles| 7169.181818181818| 64.53636363636365|\n",
      "|Provençals del Po...|19809.090909090908| 87.87272727272727|\n",
      "| la Verneda i la Pau|29134.545454545456| 62.77272727272727|\n",
      "|Vilapicina i la T...| 25575.81818181818| 72.43636363636364|\n",
      "|l'Antiga Esquerra...| 41887.63636363636|126.95454545454545|\n",
      "|               Navas|21835.272727272728| 83.12727272727273|\n",
      "|   la Marina de Port| 30139.18181818182| 72.42727272727271|\n",
      "|la Marina del Pra...|1109.6363636363637| 56.15454545454545|\n",
      "|              Sarrià|24255.636363636364|185.66363636363639|\n",
      "|          Torre Baró|2393.3636363636365| 52.59090909090909|\n",
      "|    la Trinitat Nova| 7655.727272727273|              43.6|\n",
      "+--------------------+------------------+------------------+\n",
      "only showing top 20 rows\n"
     ]
    }
   ],
   "source": [
    "df_income_barri.show()"
   ]
  },
  {
   "cell_type": "markdown",
   "id": "b30db180",
   "metadata": {},
   "source": [
    "## Lookup Data"
   ]
  },
  {
   "cell_type": "markdown",
   "id": "198fd96f",
   "metadata": {},
   "source": [
    " To merge the datasets, we will use the `neighborhood` column as the key. For the Idealista properties, we have neighborhood information available for all properties located within the municipality of Barcelona."
   ]
  },
  {
   "cell_type": "code",
   "execution_count": 17,
   "id": "c326fbe1",
   "metadata": {},
   "outputs": [
    {
     "data": {
      "text/markdown": [
       "We identified **0** missing values for neighborhood in the idealista df."
      ],
      "text/plain": [
       "<IPython.core.display.Markdown object>"
      ]
     },
     "metadata": {},
     "output_type": "display_data"
    }
   ],
   "source": [
    "# Checking missing values for neighborhood\n",
    "missing_neighborhood = df_idealista.filter(col(\"neighborhood\").isNull()).count()\n",
    "display(Markdown(f\"We identified **{missing_neighborhood}** missing values for neighborhood in the idealista df.\"))"
   ]
  },
  {
   "cell_type": "markdown",
   "id": "ec4e07d8",
   "metadata": {},
   "source": [
    "First, we will create a comprehensive mapping of all possible neighborhood names by aggregating the different naming conventions found in the neighborhood, neighborhood_n_reconciled, and neighborhood_n columns of df_lookup, grouped by neighborhood_id. We will then merge df_idealista with this enhanced lookup table, ensuring that each property is matched to its correct neighborhood regardless of naming variations. Next, we bring in the neighborhood-level income index by merging with df_income_barri, matching any of the possible neighborhood names to df_income_barri.Nom_Barri. This process ensures that each property receives the most granular income index available."
   ]
  },
  {
   "cell_type": "code",
   "execution_count": 18,
   "id": "f9b78b83",
   "metadata": {},
   "outputs": [],
   "source": [
    "# Step 1: Stack all three columns into one column with the corresponding id\n",
    "grouped = (\n",
    "    df_lookup\n",
    "    .select(\"neighborhood_id\", \"neighborhood\")\n",
    "    .unionByName(df_lookup.select(\"neighborhood_id\", \"neighborhood_n_reconciled\").withColumnRenamed(\"neighborhood_n_reconciled\", \"neighborhood\"))\n",
    "    .unionByName(df_lookup.select(\"neighborhood_id\", \"neighborhood_n\").withColumnRenamed(\"neighborhood_n\", \"neighborhood\"))\n",
    "    .filter(F.col(\"neighborhood\").isNotNull())\n",
    "    .dropDuplicates()\n",
    ")\n",
    "\n",
    "# Step 2: Group by id, collect all unique names in a list\n",
    "lookup_collapsed = (\n",
    "    grouped\n",
    "    .groupBy(\"neighborhood_id\")\n",
    "    .agg(F.collect_set(\"neighborhood\").alias(\"all_names\"))\n",
    ")"
   ]
  },
  {
   "cell_type": "code",
   "execution_count": 19,
   "id": "84b8f3a5",
   "metadata": {},
   "outputs": [
    {
     "name": "stdout",
     "output_type": "stream",
     "text": [
      "+---------------+--------------------+\n",
      "|neighborhood_id|           all_names|\n",
      "+---------------+--------------------+\n",
      "|       Q3320806|[vilapicina i la ...|\n",
      "|       Q3321805|[el putxet i el f...|\n",
      "|       Q3291762|[L'Antiga Esquerr...|\n",
      "|       Q3813818|[el Congrés i els...|\n",
      "|       Q3320705|[La Teixonera, la...|\n",
      "|       Q3045547|[el guinardo, El ...|\n",
      "|       Q1932090|[el coll, el Coll...|\n",
      "|       Q3773169|[sant marti de pr...|\n",
      "|       Q3294602|[el camp de l arp...|\n",
      "|       Q1425291|[Baró de Viver, b...|\n",
      "|       Q3296693|[Les Corts, les C...|\n",
      "|       Q1026658|[la nova esquerra...|\n",
      "|        Q542473|[La Verneda i la ...|\n",
      "|       Q3751072|[vallbona, Vallbona]|\n",
      "|       Q2562684|[pedralbes, Pedra...|\n",
      "|        Q524311|[El Turó de la Pe...|\n",
      "|       Q3773462|[la sagrera, la S...|\n",
      "|       Q1627690|[les roquetes, Le...|\n",
      "|       Q3320699|[La Salut, la Sal...|\n",
      "|       Q3750558|      [porta, Porta]|\n",
      "+---------------+--------------------+\n",
      "only showing top 20 rows\n"
     ]
    }
   ],
   "source": [
    "lookup_collapsed.show()"
   ]
  },
  {
   "cell_type": "code",
   "execution_count": 20,
   "id": "df8a57d2",
   "metadata": {},
   "outputs": [],
   "source": [
    "# Merge df_idealista with lookup_collapsed using array_contains on 'all_names'\n",
    "df_idealista_lookup = df_idealista.join(\n",
    "    lookup_collapsed,\n",
    "    array_contains(lookup_collapsed['all_names'], df_idealista['neighborhood']),\n",
    "    how='left'\n",
    ")"
   ]
  },
  {
   "cell_type": "code",
   "execution_count": 21,
   "id": "f2a0a712",
   "metadata": {},
   "outputs": [
    {
     "data": {
      "text/markdown": [
       "The row count should match between **4062** and **4062**."
      ],
      "text/plain": [
       "<IPython.core.display.Markdown object>"
      ]
     },
     "metadata": {},
     "output_type": "display_data"
    }
   ],
   "source": [
    "# Sanity check\n",
    "display(Markdown(f\"The row count should match between **{df_idealista_lookup.count()}** and **{df_idealista.count()}**.\"))"
   ]
  },
  {
   "cell_type": "code",
   "execution_count": 22,
   "id": "8b2e3620",
   "metadata": {},
   "outputs": [],
   "source": [
    "# Merge df_idealista_lookup with df_income_barri using array_contains on 'all_names'\n",
    "df_idealista_barri = df_idealista_lookup.join(\n",
    "    df_income_barri.select('Nom_Barri', 'Index_RFD_average', 'Poblacio_average'),\n",
    "    array_contains(df_idealista_lookup['all_names'], df_income_barri['Nom_Barri']),\n",
    "    how='left'\n",
    ").drop('Nom_Barri')\n"
   ]
  },
  {
   "cell_type": "code",
   "execution_count": 23,
   "id": "7901a233",
   "metadata": {},
   "outputs": [
    {
     "data": {
      "text/markdown": [
       "The row count should match between **4062** and **4062**."
      ],
      "text/plain": [
       "<IPython.core.display.Markdown object>"
      ]
     },
     "metadata": {},
     "output_type": "display_data"
    }
   ],
   "source": [
    "# Sanity check\n",
    "display(Markdown(f\"The row count should match between **{df_idealista_barri.count()}** and **{df_idealista_lookup.count()}**.\"))"
   ]
  },
  {
   "cell_type": "markdown",
   "id": "d19d1d21",
   "metadata": {},
   "source": [
    "We check how many properties are missing an Index\\_RFD\\_average value. Any property without a match did not have its neighborhood name present in any of the entries in the lookup table."
   ]
  },
  {
   "cell_type": "code",
   "execution_count": 24,
   "id": "4f3a84f8",
   "metadata": {},
   "outputs": [
    {
     "data": {
      "text/markdown": [
       "Rows with non-null <b>neighborhood_id</b> but missing <b>Index_RFD_average</b>: <b>0</b>.<br><span style='color:green'>PASS</span>"
      ],
      "text/plain": [
       "<IPython.core.display.Markdown object>"
      ]
     },
     "metadata": {},
     "output_type": "display_data"
    }
   ],
   "source": [
    "# Count rows where there is a valid neighborhood_id but missing Index_RFD_average\n",
    "missing_income = df_idealista_barri.filter(\n",
    "    (F.col('neighborhood_id').isNotNull()) &\n",
    "    (F.col('Index_RFD_average').isNull())\n",
    ").count()\n",
    "\n",
    "display(Markdown(\n",
    "    f\"Rows with non-null <b>neighborhood_id</b> but missing <b>Index_RFD_average</b>: <b>{missing_income}</b>.<br>\"\n",
    "    + (\"<span style='color:green'>PASS</span>\" if missing_income == 0 else \"<span style='color:red'>CHECK DATA</span>\")\n",
    "))\n"
   ]
  },
  {
   "cell_type": "code",
   "execution_count": 25,
   "id": "ac6516af",
   "metadata": {},
   "outputs": [
    {
     "data": {
      "text/plain": [
       "0"
      ]
     },
     "execution_count": 25,
     "metadata": {},
     "output_type": "execute_result"
    }
   ],
   "source": [
    "df_idealista_barri.filter(F.col(\"Index_RFD_average\").isNull()).count()"
   ]
  },
  {
   "cell_type": "markdown",
   "id": "4bef018c",
   "metadata": {},
   "source": [
    "We remove columns that won't be useful for our analysis"
   ]
  },
  {
   "cell_type": "code",
   "execution_count": 26,
   "id": "f8d13152",
   "metadata": {},
   "outputs": [],
   "source": [
    "final_cleaned = df_idealista_barri \\\n",
    "    .drop(\"address\", \"country\", \"detailedType\", \"externalReference\", \"municipality\", \"operation\", \"province\", \"suggestedTexts\", \"thumbnail\",\n",
    "          \"url\", \"all_names\") "
   ]
  },
  {
   "cell_type": "code",
   "execution_count": 27,
   "id": "c4987002",
   "metadata": {},
   "outputs": [
    {
     "name": "stdout",
     "output_type": "stream",
     "text": [
      "+---------+--------+-------------------+--------+-----+------+---------+-------+-------+----------+--------+----------+---------+--------------------+--------------+----------------------+---------+------------------+---------+-----------+------------+------------+-----+-----------+-----+------+-----------------+---------------+------------------+------------------+\n",
      "|bathrooms|distance|           district|exterior|floor|has360|has3DTour|hasLift|hasPlan|hasStaging|hasVideo|  latitude|longitude|        neighborhood|newDevelopment|newDevelopmentFinished|numPhotos|      parkingSpace|    price|priceByArea|propertyCode|propertyType|rooms|showAddress| size|status|topNewDevelopment|neighborhood_id| Index_RFD_average|  Poblacio_average|\n",
      "+---------+--------+-------------------+--------+-----+------+---------+-------+-------+----------+--------+----------+---------+--------------------+--------------+----------------------+---------+------------------+---------+-----------+------------+------------+-----+-----------+-----+------+-----------------+---------------+------------------+------------------+\n",
      "|        5|    2444|Sarrià-Sant Gervasi|   false| NULL| false|    false|   NULL|  false|     false|   false|41.4118644|2.1076647|Vallvidrera - El ...|         false|                  NULL|       12|{true, true, NULL}|2750000.0|     3438.0|     1394150|      chalet|    6|      false|800.0|  good|            false|       Q3310216|             159.7| 4422.727272727273|\n",
      "|        2|    2249|Sarrià-Sant Gervasi|   false| NULL| false|    false|   NULL|   true|     false|    true|41.4254327|2.1016874|Vallvidrera - El ...|         false|                  NULL|       32|{true, true, NULL}| 510000.0|     2550.0|    25435010|      chalet|    4|      false|200.0|  good|            false|       Q3310216|             159.7| 4422.727272727273|\n",
      "|        4|     468|Sarrià-Sant Gervasi|   false|   bj| false|    false|   NULL|   true|     false|   false|41.4135558|2.1296544|Sant Gervasi - La...|         false|                  NULL|        9|{true, true, NULL}|3730000.0|     7597.0|    25868030|      chalet|    9|      false|491.0|  good|            false|       Q3321657|186.79090909090908|24792.545454545456|\n",
      "|        5|    1685|Sarrià-Sant Gervasi|   false| NULL| false|    false|   NULL|  false|     false|   false|41.4253985|2.0929354|Vallvidrera - El ...|         false|                  NULL|       23|{true, true, NULL}|1750000.0|     3205.0|    27869059|      chalet|    6|      false|546.0|  good|            false|       Q3310216|             159.7| 4422.727272727273|\n",
      "|        2|     439|             Gràcia|    true|    1| false|    false|   true|  false|     false|    true|41.4092016|2.1587664|El Camp d'En Gras...|         false|                  NULL|       21|              NULL| 349000.0|     3878.0|    29369498|        flat|    4|      false| 90.0|  good|            false|       Q2994821|102.44545454545455|           34472.0|\n",
      "|        2|     466|           Eixample|    true|    4|  true|    false|   true|  false|     false|   false|41.3883547| 2.175292|La Dreta de l'Eix...|         false|                  NULL|       22|              NULL|2500000.0|     7862.0|    29714252|        flat|    3|      false|318.0|  good|            false|       Q1904302|155.25454545454548| 43410.36363636364|\n",
      "|        4|     526|Sarrià-Sant Gervasi|   false| NULL| false|    false|   NULL|   true|     false|    true|41.4133508|2.1304364|Sant Gervasi - La...|         false|                  NULL|       19|              NULL|3750000.0|     7576.0|    30538104|      chalet|   12|      false|495.0|  good|            false|       Q3321657|186.79090909090908|24792.545454545456|\n",
      "|        1|     377|Sarrià-Sant Gervasi|   false| NULL| false|    false|   NULL|  false|     false|   false|41.4149558|2.1300544|Sant Gervasi - La...|         false|                  NULL|       25|              NULL|3750000.0|     6818.0|    31171106|      chalet|    1|      false|550.0|  good|            false|       Q3321657|186.79090909090908|24792.545454545456|\n",
      "|        1|     820|     Sants-Montjuïc|    true|    5| false|    false|   true|  false|     false|   false|41.3628229|2.1377974|  La Marina del Port|         false|                  NULL|       24|              NULL| 185000.0|     2569.0|    31262745|        flat|    3|      false| 72.0|  good|            false|       Q3751076| 72.42727272727271| 30139.18181818182|\n",
      "|        4|     575|Sarrià-Sant Gervasi|   false| NULL| false|    false|   NULL|  false|     false|   false|41.4149093|2.1327563|Sant Gervasi - La...|         false|                  NULL|       37|              NULL|3800000.0|     5621.0|    31467524|      chalet|   11|      false|676.0|  good|            false|       Q3321657|186.79090909090908|24792.545454545456|\n",
      "|        5|     829|Sarrià-Sant Gervasi|   false| NULL| false|    false|   NULL|   true|     false|   false|  41.40973|  2.12148|              Sarrià|         false|                  NULL|       15|{true, true, NULL}|3000000.0|     5000.0|    31563299|      chalet|    5|      false|600.0| renew|            false|       Q3043699|185.66363636363639|24255.636363636364|\n",
      "|        5|    2743|Sarrià-Sant Gervasi|   false| NULL| false|    false|   NULL|   true|     false|    true|41.4118001|2.1113062|              Sarrià|         false|                  NULL|       26|{true, true, NULL}|2100000.0|     4200.0|    32037022|      chalet|    5|      false|500.0|  good|            false|       Q3043699|185.66363636363639|24255.636363636364|\n",
      "|        1|    2933|           Eixample|   false|    1| false|    false|   true|  false|     false|   false|41.3776585|2.1536206|         Sant Antoni|         false|                  NULL|       12|              NULL| 319000.0|     1994.0|    32431762|        flat|    2|      false|160.0|  good|            false|        Q720994| 99.94545454545455| 38300.72727272727|\n",
      "|        3|    3169|           Eixample|    true|    2|  true|    false|   true|   true|     false|   false|41.3818376|2.1502826|La Nova Esquerra ...|         false|                  NULL|       11|              NULL| 595000.0|     4250.0|    32719442|        flat|    4|      false|140.0|  good|            false|       Q1026658|110.32727272727271|           58016.0|\n",
      "|        3|     279|       Ciutat Vella|    true|    1| false|    false|   true|  false|     false|   false|41.3883666|2.1728152|            El Gòtic|         false|                  NULL|       34|              NULL| 590000.0|     3933.0|    32851115|        flat|    3|      false|150.0|  good|            false|         Q17154| 98.14545454545454| 18795.81818181818|\n",
      "|        8|     643|Sarrià-Sant Gervasi|   false| NULL| false|    false|   NULL|  false|     false|   false|41.4061366|2.1213645|Sant Gervasi - La...|         false|                  NULL|       32|{true, true, NULL}|2600000.0|     5328.0|    33743918|      chalet|    7|      false|488.0|  good|            false|       Q3321657|186.79090909090908|24792.545454545456|\n",
      "|        5|     250|       Ciutat Vella|    true| NULL| false|    false|   true|  false|     false|   false|41.3848123|2.1707164|            El Gòtic|         false|                  NULL|       29|{true, true, NULL}|1700000.0|     5862.0|    33806860|        flat|    4|      false|290.0|  good|            false|         Q17154| 98.14545454545454| 18795.81818181818|\n",
      "|        6|    2468|Sarrià-Sant Gervasi|   false| NULL|  true|    false|   NULL|  false|     false|    true|41.4152481| 2.108565|Vallvidrera - El ...|         false|                  NULL|       25|              NULL|1850000.0|     4868.0|    33932885|      chalet|    6|      false|380.0|  good|            false|       Q3310216|             159.7| 4422.727272727273|\n",
      "|        7|     363|Sarrià-Sant Gervasi|   false| NULL| false|    false|   NULL|  false|     false|   false| 41.413874|2.1276171|Sant Gervasi - La...|         false|                  NULL|       31|{true, true, NULL}|6800000.0|     7816.0|    34234916|      chalet|    5|      false|870.0|  good|            false|       Q3321657|186.79090909090908|24792.545454545456|\n",
      "|        8|    2993|Sarrià-Sant Gervasi|   false| NULL| false|    false|   NULL|   true|     false|   false|41.4007566|2.1081092|              Sarrià|         false|                  NULL|       38|{true, true, NULL}|3000000.0|     4464.0|    34591620|      chalet|    5|      false|672.0|  good|            false|       Q3043699|185.66363636363639|24255.636363636364|\n",
      "+---------+--------+-------------------+--------+-----+------+---------+-------+-------+----------+--------+----------+---------+--------------------+--------------+----------------------+---------+------------------+---------+-----------+------------+------------+-----+-----------+-----+------+-----------------+---------------+------------------+------------------+\n",
      "only showing top 20 rows\n"
     ]
    }
   ],
   "source": [
    "final_cleaned.show()"
   ]
  },
  {
   "cell_type": "code",
   "execution_count": 28,
   "id": "4f5b7e7c",
   "metadata": {},
   "outputs": [],
   "source": [
    "# transform in parquet file\n",
    "final_cleaned.write.mode(\"overwrite\").parquet(f\"{formatted_zone}/formatted_data\")"
   ]
  }
 ],
 "metadata": {
  "kernelspec": {
   "display_name": "myenv",
   "language": "python",
   "name": "python3"
  },
  "language_info": {
   "codemirror_mode": {
    "name": "ipython",
    "version": 3
   },
   "file_extension": ".py",
   "mimetype": "text/x-python",
   "name": "python",
   "nbconvert_exporter": "python",
   "pygments_lexer": "ipython3",
   "version": "3.9.20"
  }
 },
 "nbformat": 4,
 "nbformat_minor": 5
}
