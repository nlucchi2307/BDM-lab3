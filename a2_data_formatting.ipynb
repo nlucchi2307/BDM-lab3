{
 "cells": [
  {
   "cell_type": "code",
   "execution_count": 1,
   "id": "a9ff2a9b",
   "metadata": {},
   "outputs": [],
   "source": [
    "from pyspark.sql import SparkSession\n",
    "from pyspark.sql.functions import col, count, avg, when "
   ]
  },
  {
   "cell_type": "code",
   "execution_count": 2,
   "id": "33580d31",
   "metadata": {},
   "outputs": [
    {
     "name": "stderr",
     "output_type": "stream",
     "text": [
      "WARNING: Using incubator modules: jdk.incubator.vector\n",
      "Using Spark's default log4j profile: org/apache/spark/log4j2-defaults.properties\n",
      "25/06/23 11:55:13 WARN Utils: Your hostname, MacBook-Air.local, resolves to a loopback address: 127.0.0.1; using 192.168.1.134 instead (on interface en0)\n",
      "25/06/23 11:55:13 WARN Utils: Set SPARK_LOCAL_IP if you need to bind to another address\n",
      "Using Spark's default log4j profile: org/apache/spark/log4j2-defaults.properties\n",
      "Setting default log level to \"WARN\".\n",
      "To adjust logging level use sc.setLogLevel(newLevel). For SparkR, use setLogLevel(newLevel).\n",
      "25/06/23 11:55:13 WARN NativeCodeLoader: Unable to load native-hadoop library for your platform... using builtin-java classes where applicable\n",
      "25/06/23 11:55:14 WARN Utils: Service 'SparkUI' could not bind on port 4040. Attempting port 4041.\n"
     ]
    }
   ],
   "source": [
    "# set a Spark session\n",
    "spark = SparkSession.builder \\\n",
    "    .appName(\"DataFormatting\") \\\n",
    "    .master(\"local[*]\") \\\n",
    "    .getOrCreate()"
   ]
  },
  {
   "cell_type": "code",
   "execution_count": 3,
   "id": "966b8037",
   "metadata": {},
   "outputs": [],
   "source": [
    "# set the paths for the input and output data\n",
    "landing_zone = (\"landing_zone\")\n",
    "formatted_zone = (\"formatted_zone\")"
   ]
  },
  {
   "cell_type": "code",
   "execution_count": 4,
   "id": "a39fa981",
   "metadata": {},
   "outputs": [
    {
     "name": "stderr",
     "output_type": "stream",
     "text": [
      "                                                                                \r"
     ]
    }
   ],
   "source": [
    "# load all files from each folder of the landing zone\n",
    "df_idealista = spark.read.option(\"multiline\", True).json(f\"{landing_zone}/idealista\")\n",
    "df_income = spark.read.option(\"header\", True).csv(f\"{landing_zone}/Income\")\n",
    "df_lookup = spark.read.option(\"header\", True).csv(f\"{landing_zone}/lookup_tables\")"
   ]
  },
  {
   "cell_type": "code",
   "execution_count": 5,
   "id": "a83137ff",
   "metadata": {},
   "outputs": [
    {
     "name": "stderr",
     "output_type": "stream",
     "text": [
      "25/06/23 11:55:18 WARN SparkStringUtils: Truncated the string representation of a plan since it was too large. This behavior can be adjusted by setting 'spark.sql.debug.maxToStringFields'.\n"
     ]
    },
    {
     "name": "stdout",
     "output_type": "stream",
     "text": [
      "+--------------------+---------+-------+--------------------+--------+--------------+--------+-----------------+-----+------+---------+-------+-------+----------+--------+----------+---------+--------------------+--------------------+--------------+----------------------+---------+---------+------------------+---------+-----------+------------+------------+---------+-----+-----------+-----+------+--------------------+--------------------+-----------------+--------------------+\n",
      "|             address|bathrooms|country|        detailedType|distance|      district|exterior|externalReference|floor|has360|has3DTour|hasLift|hasPlan|hasStaging|hasVideo|  latitude|longitude|        municipality|        neighborhood|newDevelopment|newDevelopmentFinished|numPhotos|operation|      parkingSpace|    price|priceByArea|propertyCode|propertyType| province|rooms|showAddress| size|status|      suggestedTexts|           thumbnail|topNewDevelopment|                 url|\n",
      "+--------------------+---------+-------+--------------------+--------+--------------+--------+-----------------+-----+------+---------+-------+-------+----------+--------+----------+---------+--------------------+--------------------+--------------+----------------------+---------+---------+------------------+---------+-----------+------------+------------+---------+-----+-----------+-----+------+--------------------+--------------------+-----------------+--------------------+\n",
      "|     Calle de Berlín|        2|     es|        {NULL, flat}|    2937|Sants-Montjuïc|   false|  145VE22REBSIB13|    3| false|     true|   true|   true|     false|   false|41.3829925|2.1370918|           Barcelona|               Sants|         false|                  NULL|       25|     sale|              NULL| 379000.0|     4407.0|    92205752|        flat|Barcelona|    3|      false| 86.0|  good|{Sants, Barcelona...|https://img3.idea...|            false|https://www.ideal...|\n",
      "|barrio Santa Eulàlia|        2|     es|        {NULL, flat}|     606| Santa Eulàlia|    true|            v7272|    5| false|     true|   true|   true|     false|    true|41.3615306|2.1282983|Hospitalet de Llo...|       Santa Eulàlia|         false|                  NULL|       51|     sale|              NULL| 530000.0|     3841.0|    91694960|        flat|Barcelona|    4|      false|138.0|  good|{Santa Eulàlia, H...|https://img3.idea...|            false|https://www.ideal...|\n",
      "|Gran Via de Carle...|        2|     es|        {NULL, flat}|    3161|     Les Corts|    true|             4399|    7|  true|    false|   true|   true|     false|    true|41.3848586|2.1255646|           Barcelona|La Maternitat i S...|         false|                  NULL|       32|     sale|              NULL| 490000.0|     3920.0|    92228558|        flat|Barcelona|    4|      false|125.0| renew|{La Maternitat i ...|https://img3.idea...|            false|https://www.ideal...|\n",
      "|barrio La Marina ...|        2|     es|        {NULL, flat}|     768|Sants-Montjuïc|    true|           230935|    1| false|    false|   true|   true|     false|    true|41.3593648|2.1405988|           Barcelona|  La Marina del Port|         false|                  NULL|       27|     sale|              NULL| 352000.0|     3229.0|    91082776|        flat|Barcelona|    4|      false|109.0|  good|{La Marina del Po...|https://img3.idea...|            false|https://www.ideal...|\n",
      "|   Calle de Calàbria|        2|     es|   {penthouse, flat}|    2990|      Eixample|    true|        VB2010010|    6|  true|    false|   true|   true|     false|    true|41.3747549|2.1587567|           Barcelona|         Sant Antoni|         false|                  NULL|       27|     sale|              NULL| 695000.0|     4427.0|    91312447|   penthouse|Barcelona|    4|      false|157.0|  good|{Sant Antoni, Bar...|https://img3.idea...|            false|https://www.ideal...|\n",
      "|barrio Sants - Badal|        1|     es|        {NULL, flat}|    1990|Sants-Montjuïc|    true|           246454|    1|  true|    false|  false|   true|     false|   false|41.3746552|2.1296516|           Barcelona|       Sants - Badal|         false|                  NULL|       21|     sale|              NULL| 235000.0|     4273.0|    92966417|        flat|Barcelona|    2|      false| 55.0|  good|{Sants - Badal, B...|https://img3.idea...|            false|https://www.ideal...|\n",
      "|barrio Sants - Badal|        1|     es|        {NULL, flat}|    1594|Sants-Montjuïc|    true|           246248|    4|  true|     true|   true|   true|     false|   false|41.3710978|2.1299119|           Barcelona|       Sants - Badal|         false|                  NULL|       25|     sale|              NULL| 210000.0|     3088.0|    92818839|        flat|Barcelona|    4|      false| 68.0|  good|{Sants - Badal, B...|https://img3.idea...|            false|https://www.ideal...|\n",
      "|Calle del Comanda...|        2|     es|   {penthouse, flat}|    2585|     Les Corts|    true|    CB_BCN_0376_V|    9|  true|    false|   true|   true|     false|    true|41.3799546|2.1285386|           Barcelona|La Maternitat i S...|         false|                  NULL|       33|     sale|              NULL| 475000.0|     3831.0|    91903585|   penthouse|Barcelona|    3|      false|124.0|  good|{La Maternitat i ...|https://img3.idea...|            false|https://www.ideal...|\n",
      "|         Calle Major|        5|     es|{semidetachedHous...|    2842|        Centre|   false|             6502| NULL|  true|    false|   NULL|   true|     false|   false| 41.358062|2.0980035|Hospitalet de Llo...|              Centre|         false|                  NULL|       58|     sale|{true, true, NULL}| 625000.0|     2551.0|    91417634|      chalet|Barcelona|    4|      false|245.0|  good|{Centre, Hospital...|https://img3.idea...|            false|https://www.ideal...|\n",
      "|barrio El Poble S...|        1|     es|        {NULL, flat}|    2611|Sants-Montjuïc|    true|        VB2012026|    1|  true|    false|  false|   true|     false|    true|41.3726605|2.1551583|           Barcelona|El Poble Sec - Pa...|         false|                  NULL|       25|     sale|              NULL| 250000.0|     4717.0|    92197943|        flat|Barcelona|    2|      false| 53.0|  good|{El Poble Sec - P...|https://img3.idea...|            false|https://www.ideal...|\n",
      "|barrio La Materni...|        2|     es|        {NULL, flat}|    2509|     Les Corts|    true|        VB2012017|    3|  true|    false|   true|   true|     false|    true|41.3784791|2.1234518|           Barcelona|La Maternitat i S...|         false|                  NULL|       27|     sale|              NULL| 410000.0|     4184.0|    92108611|        flat|Barcelona|    4|      false| 98.0|  good|{La Maternitat i ...|https://img3.idea...|            false|https://www.ideal...|\n",
      "|barrio El Poble S...|        3|     es|        {NULL, flat}|    3069|Sants-Montjuïc|   false|         BCN06428|   bj| false|    false|   true|   true|     false|    true| 41.373318|2.1615491|           Barcelona|El Poble Sec - Pa...|         false|                  NULL|       30|     sale|              NULL| 650000.0|     2851.0|    91279610|        flat|Barcelona|    3|      false|228.0|  good|{El Poble Sec - P...|https://img3.idea...|            false|https://www.ideal...|\n",
      "|   Calle Benavent, 8|        2|     es|        {NULL, flat}|    2413|     Les Corts|    true|              v40|    3|  true|    false|   true|   true|     false|    true|41.3779791|2.1254518|           Barcelona|La Maternitat i S...|         false|                  NULL|       30|     sale|              NULL| 410000.0|     4059.0|    92002091|        flat|Barcelona|    4|       true|101.0|  good|{La Maternitat i ...|https://img3.idea...|            false|https://www.ideal...|\n",
      "|Calle de Sabino A...|        3|     es|        {NULL, flat}|    3161|     Les Corts|    true|          GVVSA38|    2|  true|    false|   true|   true|     false|    true|41.3844759|2.1230717|           Barcelona|La Maternitat i S...|         false|                  NULL|       27|     sale|              NULL| 695000.0|     4760.0|    92811075|        flat|Barcelona|    4|      false|146.0|  good|{La Maternitat i ...|https://img3.idea...|            false|https://www.ideal...|\n",
      "|     Calle d'Entença|        1|     es|        {NULL, flat}|    2997|      Eixample|    true|          836-21V|    3|  true|    false|   true|   true|     false|   false| 41.378928|2.1526336|           Barcelona|La Nova Esquerra ...|         false|                  NULL|       22|     sale|              NULL| 299000.0|     3477.0|    92567198|        flat|Barcelona|    4|      false| 86.0|  good|{La Nova Esquerra...|https://img3.idea...|            false|https://www.ideal...|\n",
      "|  Carretera del Prat|        2|     es|{terracedHouse, c...|     323|Sants-Montjuïc|   false|           B20325| NULL|  true|    false|   NULL|   true|     false|    true|41.3585747|2.1351485|           Barcelona|  La Marina del Port|         false|                  NULL|       44|     sale|{true, true, NULL}|1075000.0|     3644.0|    88129785|      chalet|Barcelona|    5|      false|295.0|  good|{La Marina del Po...|https://img3.idea...|            false|https://www.ideal...|\n",
      "|  barrio Sant Antoni|        2|     es|        {NULL, flat}|    3106|      Eixample|    true|         BCN06476|    6|  true|    false|   true|   true|     false|   false|41.3797156|2.1534071|           Barcelona|         Sant Antoni|         false|                  NULL|       34|     sale|              NULL| 795000.0|     5679.0|    92710736|        flat|Barcelona|    4|      false|140.0|  good|{Sant Antoni, Bar...|https://img3.idea...|            false|https://www.ideal...|\n",
      "|  barrio Sant Antoni|        2|     es|   {penthouse, flat}|    2952|      Eixample|    true|         BCN06427|    6|  true|    false|   true|   true|     false|   false|41.3741549|2.1588567|           Barcelona|         Sant Antoni|         false|                  NULL|       27|     sale|              NULL| 695000.0|     4162.0|    91237754|   penthouse|Barcelona|    4|      false|167.0|  good|{Sant Antoni, Bar...|https://img3.idea...|            false|https://www.ideal...|\n",
      "|barrio La Nova Es...|        2|     es|        {NULL, flat}|    2927|      Eixample|    true|           240866|    5|  true|    false|   true|   true|     false|   false|41.3808537|2.1464343|           Barcelona|La Nova Esquerra ...|         false|                  NULL|       20|     sale|              NULL| 395000.0|     4293.0|    90716884|        flat|Barcelona|    3|      false| 92.0| renew|{La Nova Esquerra...|https://img3.idea...|            false|https://www.ideal...|\n",
      "|barrio El Poble S...|        2|     es|   {penthouse, flat}|    2917|Sants-Montjuïc|    true|          SP115TV|    3|  true|    false|   true|   true|     false|   false|41.3738406|2.1586686|           Barcelona|El Poble Sec - Pa...|         false|                  NULL|       28|     sale|              NULL| 348000.0|     3663.0|    91866036|   penthouse|Barcelona|    3|      false| 95.0|  good|{El Poble Sec - P...|https://img3.idea...|            false|https://www.ideal...|\n",
      "+--------------------+---------+-------+--------------------+--------+--------------+--------+-----------------+-----+------+---------+-------+-------+----------+--------+----------+---------+--------------------+--------------------+--------------+----------------------+---------+---------+------------------+---------+-----------+------------+------------+---------+-----+-----------+-----+------+--------------------+--------------------+-----------------+--------------------+\n",
      "only showing top 20 rows\n"
     ]
    }
   ],
   "source": [
    "df_idealista.show()"
   ]
  },
  {
   "cell_type": "code",
   "execution_count": 6,
   "id": "48f15dd9",
   "metadata": {},
   "outputs": [
    {
     "name": "stderr",
     "output_type": "stream",
     "text": [
      "[Stage 4:===================================================>       (7 + 1) / 8]\r"
     ]
    },
    {
     "name": "stdout",
     "output_type": "stream",
     "text": [
      "+----------------------------------+---------+-------+--------------------------+--------+----------------------------------+--------+-----------------+-----+------+---------+-------+-------+----------+--------+----------+---------+-----------------------+--------------------------------------+--------------+----------------------+---------+---------+------------------+---------+-----------+------------+------------+---------+-----+-----------+------+------+------------------------------------------------------------------------------------+-------------------------------------------------------------------------------------------+-----------------+--------------------------------------------+-----------+\n",
      "|address                           |bathrooms|country|detailedType              |distance|district                          |exterior|externalReference|floor|has360|has3DTour|hasLift|hasPlan|hasStaging|hasVideo|latitude  |longitude|municipality           |neighborhood                          |newDevelopment|newDevelopmentFinished|numPhotos|operation|parkingSpace      |price    |priceByArea|propertyCode|propertyType|province |rooms|showAddress|size  |status|suggestedTexts                                                                      |thumbnail                                                                                  |topNewDevelopment|url                                         |occurrences|\n",
      "+----------------------------------+---------+-------+--------------------------+--------+----------------------------------+--------+-----------------+-----+------+---------+-------+-------+----------+--------+----------+---------+-----------------------+--------------------------------------+--------------+----------------------+---------+---------+------------------+---------+-----------+------------+------------+---------+-----+-----------+------+------+------------------------------------------------------------------------------------+-------------------------------------------------------------------------------------------+-----------------+--------------------------------------------+-----------+\n",
      "|Bonaventura Calopa                |2        |es     |{duplex, flat}            |833     |Plaça Catalunya - Vinyets         |true    |NULL             |2    |false |false    |true   |false  |false     |false   |41.3414364|2.0445094|Sant Boi de Llobregat  |NULL                                  |false         |NULL                  |33       |sale     |NULL              |315000.0 |3247.0     |91557197    |duplex      |Barcelona|3    |false      |97.0  |good  |{Plaça Catalunya - Vinyets, Sant Boi de Llobregat, Dúplex en Bonaventura Calopa}    |https://img3.idealista.com/blur/WEB_LISTING/0/id.pro.es.image.master/bd/59/a5/817425391.jpg|false            |https://www.idealista.com/inmueble/91557197/|2          |\n",
      "|SANT PERE MITJÀ                   |1        |es     |{NULL, flat}              |481     |Ciutat Vella                      |true    |NULL             |3    |false |false    |false  |false  |false     |false   |41.3860278|2.1756273|Barcelona              |Sant Pere - Santa Caterina i la Ribera|false         |NULL                  |10       |sale     |NULL              |240000.0 |4000.0     |87849814    |flat        |Barcelona|3    |false      |60.0  |good  |{Sant Pere - Santa Caterina i la Ribera, Barcelona, Piso en SANT PERE MITJÀ}        |https://img3.idealista.com/blur/WEB_LISTING/0/id.pro.es.image.master/36/47/f3/732465846.jpg|false            |https://www.idealista.com/inmueble/87849814/|3          |\n",
      "|Parc Empresarial                  |2        |es     |{NULL, flat}              |2090    |Parc Empresarial                  |false   |W-02BKGF         |2    |false |false    |false  |false  |false     |false   |41.31798  |2.0275   |Viladecans             |NULL                                  |false         |NULL                  |16       |sale     |{true, true, NULL}|270000.0 |2195.0     |39589284    |flat        |Barcelona|3    |false      |123.0 |good  |{Parc Empresarial, Viladecans, Piso}                                                |https://img3.idealista.com/blur/WEB_LISTING/0/id.pro.es.image.master/0c/d6/e1/755922519.jpg|false            |https://www.idealista.com/inmueble/39589284/|3          |\n",
      "|Carretera de Sant Climent         |1        |es     |{NULL, flat}              |2889    |Barri Antic - Centre              |true    |CSC3823          |1    |false |false    |false  |false  |false     |false   |41.31977  |2.0180852|Viladecans             |NULL                                  |false         |NULL                  |25       |sale     |NULL              |159900.0 |2579.0     |91744699    |flat        |Barcelona|2    |false      |62.0  |good  |{Barri Antic - Centre, Viladecans, Piso en Carretera de Sant Climent}               |https://img3.idealista.com/blur/WEB_LISTING/0/id.pro.es.image.master/34/e0/47/833905800.jpg|false            |https://www.idealista.com/inmueble/91744699/|2          |\n",
      "|Mossen Jacint Verdaguer           |1        |es     |{NULL, flat}              |2479    |Plaça Catalunya - Vinyets         |true    |80515            |3    |false |false    |true   |false  |false     |false   |41.33803  |2.04248  |Sant Boi de Llobregat  |NULL                                  |false         |NULL                  |10       |sale     |NULL              |175500.0 |2250.0     |91328946    |flat        |Barcelona|3    |false      |78.0  |good  |{Plaça Catalunya - Vinyets, Sant Boi de Llobregat, Piso en Mossen Jacint Verdaguer} |https://img3.idealista.com/blur/WEB_LISTING/0/id.pro.es.image.master/ba/22/97/812080386.jpg|false            |https://www.idealista.com/inmueble/91328946/|2          |\n",
      "|Camps Blancs - Casablanca - Canons|1        |es     |{NULL, flat}              |1954    |Camps Blancs - Casablanca - Canons|true    |003381           |5    |false |false    |true   |false  |false     |false   |41.3316731|2.0395407|Sant Boi de Llobregat  |NULL                                  |false         |NULL                  |14       |sale     |NULL              |150000.0 |2143.0     |90098285    |flat        |Barcelona|3    |false      |70.0  |good  |{Camps Blancs - Casablanca - Canons, Sant Boi de Llobregat, Piso}                   |https://img3.idealista.com/blur/WEB_LISTING/0/id.pro.es.image.master/45/0f/bb/783074028.jpg|false            |https://www.idealista.com/inmueble/90098285/|2          |\n",
      "|barrio La Maternitat i Sant Ramon |2        |es     |{NULL, flat}              |2660    |Les Corts                         |false   |W-02D6M9         |3    |false |false    |true   |true   |false     |false   |41.3780895|2.1173664|Barcelona              |La Maternitat i Sant Ramon            |false         |NULL                  |26       |sale     |NULL              |399000.0 |3410.0     |91561354    |flat        |Barcelona|3    |false      |117.0 |good  |{La Maternitat i Sant Ramon, Barcelona, Piso}                                       |https://img3.idealista.com/blur/WEB_LISTING/0/id.pro.es.image.master/27/cb/e4/817510035.jpg|false            |https://www.idealista.com/inmueble/91561354/|2          |\n",
      "|Marianao                          |3        |es     |{independantHouse, chalet}|2768    |Marianao                          |false   |3682V            |NULL |false |false    |NULL   |false  |false     |false   |41.3506768|2.0248388|Sant Boi de Llobregat  |NULL                                  |false         |NULL                  |31       |sale     |{true, true, NULL}|765000.0 |437.0      |81594600    |chalet      |Barcelona|4    |false      |1750.0|good  |{Marianao, Sant Boi de Llobregat, Casa independiente}                               |https://img3.idealista.com/blur/WEB_LISTING/0/id.pro.es.image.master/63/f9/6f/580262151.jpg|false            |https://www.idealista.com/inmueble/81594600/|2          |\n",
      "|Plaça Catalunya - Vinyets         |2        |es     |{NULL, flat}              |2774    |Plaça Catalunya - Vinyets         |true    |003461           |2    |false |false    |false  |true   |false     |false   |41.3405377|2.0413386|Sant Boi de Llobregat  |NULL                                  |false         |NULL                  |20       |sale     |NULL              |325000.0 |1923.0     |92574055    |flat        |Barcelona|4    |false      |169.0 |good  |{Plaça Catalunya - Vinyets, Sant Boi de Llobregat, Piso}                            |https://img3.idealista.com/blur/WEB_LISTING/0/id.pro.es.image.master/7f/fd/6c/843021411.jpg|false            |https://www.idealista.com/inmueble/92574055/|2          |\n",
      "|Centre - Casco Antiguo            |4        |es     |{terracedHouse, chalet}   |2995    |Centre - Casco Antiguo            |false   |A2619            |NULL |false |false    |NULL   |false  |false     |false   |41.3424491|2.0405794|Sant Boi de Llobregat  |NULL                                  |false         |NULL                  |30       |sale     |{true, true, NULL}|1030000.0|1157.0     |87864853    |chalet      |Barcelona|5    |false      |890.0 |good  |{Centre - Casco Antiguo, Sant Boi de Llobregat, Chalet adosado}                     |https://img3.idealista.com/blur/WEB_LISTING/0/id.pro.es.image.master/b9/ca/45/732768640.jpg|false            |https://www.idealista.com/inmueble/87864853/|2          |\n",
      "|Pau Casals s/n                    |1        |es     |{NULL, flat}              |2540    |Centre                            |true    |HOSPITALET CENTRO|2    |false |false    |true   |true   |false     |true    |41.359773 |2.1041944|Hospitalet de Llobregat|Centre                                |false         |NULL                  |33       |sale     |NULL              |242000.0 |2547.0     |92247297    |flat        |Barcelona|4    |true       |95.0  |good  |{Centre, Hospitalet de Llobregat, Piso en Pau Casals s/n}                           |https://img3.idealista.com/blur/WEB_LISTING/0/id.pro.es.image.master/0d/d7/1f/834693067.jpg|false            |https://www.idealista.com/inmueble/92247297/|2          |\n",
      "|ALMADEN s/n                       |1        |es     |{NULL, flat}              |3058    |Centre                            |true    |SANT JOSEP       |en   |false |false    |true   |true   |false     |true    |41.3644461|2.1055984|Hospitalet de Llobregat|Sant Josep                            |false         |NULL                  |29       |sale     |NULL              |184000.0 |2831.0     |91250774    |flat        |Barcelona|3    |true       |65.0  |good  |{Sant Josep, Hospitalet de Llobregat, Piso en ALMADEN s/n}                          |https://img3.idealista.com/blur/WEB_LISTING/0/id.pro.es.image.master/e6/e3/35/810225045.jpg|false            |https://www.idealista.com/inmueble/91250774/|2          |\n",
      "|Rambla de Catalunya               |2        |es     |{NULL, flat}              |208     |Eixample                          |true    |SH-300           |2    |false |false    |true   |false  |false     |false   |41.3888678|2.1701788|Barcelona              |La Dreta de l'Eixample                |false         |NULL                  |1        |sale     |NULL              |1500000.0|5556.0     |84314148    |flat        |Barcelona|4    |false      |270.0 |renew |{La Dreta de l'Eixample, Barcelona, Piso en Rambla de Catalunya}                    |https://img3.idealista.com/blur/WEB_LISTING/0/id.pro.es.image.master/2c/f3/5d/636385022.jpg|false            |https://www.idealista.com/inmueble/84314148/|2          |\n",
      "|barrio El Gòtic                   |2        |es     |{NULL, flat}              |202     |Ciutat Vella                      |false   |1808A            |NULL |false |false    |false  |false  |false     |false   |41.385456 |2.1712856|Barcelona              |El Gòtic                              |false         |NULL                  |10       |sale     |NULL              |790000.0 |7453.0     |88091849    |flat        |Barcelona|2    |false      |106.0 |good  |{El Gòtic, Barcelona, Piso}                                                         |https://img3.idealista.com/blur/WEB_LISTING/0/id.pro.es.image.master/ec/f1/9d/738392924.jpg|false            |https://www.idealista.com/inmueble/88091849/|2          |\n",
      "|Once de Septiembre - Sant Jordi   |1        |es     |{NULL, flat}              |2488    |Once de Septiembre - Sant Jordi   |true    |MCO4106FG        |2    |false |false    |false  |false  |false     |false   |41.3152947|2.0822097|El Prat de Llobregat   |NULL                                  |false         |NULL                  |20       |sale     |NULL              |153773.0 |1437.0     |87777601    |flat        |Barcelona|3    |false      |107.0 |good  |{Once de Septiembre - Sant Jordi, El Prat de Llobregat, Piso}                       |https://img3.idealista.com/blur/WEB_LISTING/0/id.pro.es.image.master/cf/79/f5/817516687.jpg|false            |https://www.idealista.com/inmueble/87777601/|2          |\n",
      "|Calle Jaume Balmes s/n            |3        |es     |{duplex, flat}            |2337    |Plaça Catalunya - Vinyets         |true    |388              |3    |false |false    |true   |false  |false     |true    |41.3369428|2.0434883|Sant Boi de Llobregat  |NULL                                  |false         |NULL                  |55       |sale     |{true, true, NULL}|395000.0 |1881.0     |90999360    |duplex      |Barcelona|3    |true       |210.0 |good  |{Plaça Catalunya - Vinyets, Sant Boi de Llobregat, Dúplex en Calle Jaume Balmes s/n}|https://img3.idealista.com/blur/WEB_LISTING/0/id.pro.es.image.master/d6/ca/69/808129000.jpg|false            |https://www.idealista.com/inmueble/90999360/|2          |\n",
      "|igualtat                          |1        |es     |{NULL, flat}              |3022    |Santa Eulàlia                     |false   |IgualGrego       |3    |false |false    |true   |false  |false     |true    |41.3597371|2.1252444|Hospitalet de Llobregat|Santa Eulàlia                         |false         |NULL                  |19       |sale     |NULL              |159000.0 |2446.0     |92695011    |flat        |Barcelona|3    |false      |65.0  |good  |{Santa Eulàlia, Hospitalet de Llobregat, Piso en igualtat}                          |https://img3.idealista.com/blur/WEB_LISTING/0/id.pro.es.image.master/51/6e/ef/845880224.jpg|false            |https://www.idealista.com/inmueble/92695011/|2          |\n",
      "|barrio El Gòtic                   |2        |es     |{NULL, flat}              |474     |Ciutat Vella                      |true    |BCNP2605         |3    |false |false    |true   |false  |false     |true    |41.3858028|2.1754541|Barcelona              |El Gòtic                              |false         |NULL                  |22       |sale     |NULL              |540000.0 |5143.0     |85645539    |flat        |Barcelona|3    |false      |105.0 |good  |{El Gòtic, Barcelona, Piso}                                                         |https://img3.idealista.com/blur/WEB_LISTING/0/id.pro.es.image.master/d6/30/f2/670678384.jpg|false            |https://www.idealista.com/inmueble/85645539/|2          |\n",
      "|barrio Les Corts                  |4        |es     |{NULL, flat}              |3069    |Les Corts                         |true    |VB2101024        |1    |false |false    |true   |true   |false     |true    |41.3842202|2.136812 |Barcelona              |Les Corts                             |false         |NULL                  |35       |sale     |NULL              |645000.0 |4243.0     |92554672    |flat        |Barcelona|3    |false      |152.0 |good  |{Les Corts, Barcelona, Piso}                                                        |https://img3.idealista.com/blur/WEB_LISTING/0/id.pro.es.image.master/6c/9a/15/842535808.jpg|false            |https://www.idealista.com/inmueble/92554672/|2          |\n",
      "|generalitat                       |1        |es     |{terracedHouse, chalet}   |2759    |Barri Antic - Centre              |false   |AIV0655          |NULL |false |false    |NULL   |false  |false     |false   |41.3172132|2.0194544|Viladecans             |NULL                                  |false         |NULL                  |47       |sale     |{true, true, NULL}|328755.0 |1581.0     |91960576    |chalet      |Barcelona|4    |false      |208.0 |good  |{Barri Antic - Centre, Viladecans, Chalet adosado en generalitat}                   |https://img3.idealista.com/blur/WEB_LISTING/0/id.pro.es.image.master/f4/a5/ab/827417722.jpg|false            |https://www.idealista.com/inmueble/91960576/|2          |\n",
      "+----------------------------------+---------+-------+--------------------------+--------+----------------------------------+--------+-----------------+-----+------+---------+-------+-------+----------+--------+----------+---------+-----------------------+--------------------------------------+--------------+----------------------+---------+---------+------------------+---------+-----------+------------+------------+---------+-----+-----------+------+------+------------------------------------------------------------------------------------+-------------------------------------------------------------------------------------------+-----------------+--------------------------------------------+-----------+\n",
      "only showing top 20 rows\n"
     ]
    },
    {
     "name": "stderr",
     "output_type": "stream",
     "text": [
      "                                                                                \r"
     ]
    }
   ],
   "source": [
    "# we check for duplicates - same house observed over more years \n",
    "df_idealista.groupBy(df_idealista.columns) \\\n",
    "  .agg(count(\"*\").alias(\"occurrences\")) \\\n",
    "  .filter(\"occurrences > 1\") \\\n",
    "  .show(truncate=False)"
   ]
  },
  {
   "cell_type": "markdown",
   "id": "651efdc4",
   "metadata": {},
   "source": [
    "The Idealista JSON files were originally split by year, but since the year column is not included in the data, we are unable to distinguish between them. This leads to duplicate entries across files, which we will remove. Moreover, we cannot leverage temporal information for the analysis, as the Idealista dataset spans from 2020 to 2021, while the income dataset covers 2007 to 2017. \n",
    "\n",
    "As a result, we will ignore the year dimension entirely and proceed with an analysis that does not consider the time component."
   ]
  },
  {
   "cell_type": "code",
   "execution_count": 7,
   "id": "97098732",
   "metadata": {},
   "outputs": [],
   "source": [
    "# remove duplicates\n",
    "df_idealista = df_idealista.dropDuplicates()"
   ]
  },
  {
   "cell_type": "code",
   "execution_count": 8,
   "id": "fceb1075",
   "metadata": {},
   "outputs": [
    {
     "name": "stdout",
     "output_type": "stream",
     "text": [
      "+----+--------------+--------------+----------+--------------------+--------+-------------------------+\n",
      "| Any|Codi_Districte| Nom_Districte|Codi_Barri|           Nom_Barri|Població|Índex RFD Barcelona = 100|\n",
      "+----+--------------+--------------+----------+--------------------+--------+-------------------------+\n",
      "|2013|             1|  Ciutat Vella|         1|            el Raval|   49225|                     60.3|\n",
      "|2013|             1|  Ciutat Vella|         2|      el Barri Gòtic|   16327|                    103.6|\n",
      "|2013|             1|  Ciutat Vella|         3|      la Barceloneta|   15571|                     82.1|\n",
      "|2013|             1|  Ciutat Vella|         4|Sant Pere, Santa ...|   22821|                     91.2|\n",
      "|2013|             2|      Eixample|         5|       el Fort Pienc|   31754|                     99.0|\n",
      "|2013|             2|      Eixample|         6|  la Sagrada Família|   51725|                     97.5|\n",
      "|2013|             2|      Eixample|         7|la Dreta de l'Eix...|   43439|                    165.7|\n",
      "|2013|             2|      Eixample|         8|l'Antiga Esquerra...|   41843|                    125.1|\n",
      "|2013|             2|      Eixample|         9|la Nova Esquerra ...|   57828|                    108.6|\n",
      "|2013|             2|      Eixample|        10|         Sant Antoni|   38299|                    102.5|\n",
      "|2013|             3|Sants-Montjuïc|        11|        el Poble Sec|   41060|                     71.0|\n",
      "|2013|             3|Sants-Montjuïc|        12|la Marina del Pra...|    1117|                     59.1|\n",
      "|2013|             3|Sants-Montjuïc|        13|   la Marina de Port|   30099|                     70.9|\n",
      "|2013|             3|Sants-Montjuïc|        14|la Font de la Gua...|   10307|                     77.8|\n",
      "|2013|             3|Sants-Montjuïc|        15|         Hostafrancs|   15894|                     77.2|\n",
      "|2013|             3|Sants-Montjuïc|        16|          la Bordeta|   18449|                     71.4|\n",
      "|2013|             3|Sants-Montjuïc|        17|       Sants - Badal|   24344|                     76.6|\n",
      "|2013|             3|Sants-Montjuïc|        18|               Sants|   41104|                     82.6|\n",
      "|2013|             4|     Les Corts|        19|           les Corts|   46126|                    124.8|\n",
      "|2013|             4|     Les Corts|        20|la Maternitat i S...|   23653|                    118.7|\n",
      "+----+--------------+--------------+----------+--------------------+--------+-------------------------+\n",
      "only showing top 20 rows\n"
     ]
    }
   ],
   "source": [
    "df_income.show()"
   ]
  },
  {
   "cell_type": "markdown",
   "id": "8c03ecb0",
   "metadata": {},
   "source": [
    "In the 'income' dataframe we won't have exact duplicates since the population and the RDF index change over the years, so we used a different mechanism to remove the time dimension:\n",
    "- we grouped by the neighborhood,\n",
    "- we computed average population and average RDF index"
   ]
  },
  {
   "cell_type": "code",
   "execution_count": 9,
   "id": "845da7df",
   "metadata": {},
   "outputs": [],
   "source": [
    "# we tried to normally groupby 'Nom_Barri' and then average the 'Població' and 'Índex RFD Barcelona = 100' columns, \n",
    "# but we found that some values were not numeric, so here we handle this. \n",
    "df_income_cleaned = df_income.withColumn(\n",
    "    \"Poblacio_num\", when(col(\"Població\").rlike(\"^\\d+$\"), col(\"Població\").cast(\"double\"))).withColumn(\n",
    "    \"Index_RFD_num\", when(col(\"Índex RFD Barcelona = 100\").rlike(\"^\\d+(\\.\\d+)?$\"), col(\"Índex RFD Barcelona = 100\").cast(\"double\")))\n",
    "\n",
    "# normal groupby and average\n",
    "df_income = df_income_cleaned.groupBy(\"Nom_Barri\").agg(\n",
    "    avg(\"Poblacio_num\").alias(\"Poblacio_average\"),\n",
    "    avg(\"Index_RFD_num\").alias(\"Index_RFD_average\"))"
   ]
  },
  {
   "cell_type": "code",
   "execution_count": 10,
   "id": "d5334033",
   "metadata": {},
   "outputs": [
    {
     "name": "stdout",
     "output_type": "stream",
     "text": [
      "+--------------------+------------------+------------------+\n",
      "|           Nom_Barri|  Poblacio_average| Index_RFD_average|\n",
      "+--------------------+------------------+------------------+\n",
      "|         el Poblenou|32450.454545454544| 92.63636363636364|\n",
      "|   la Vila de Gràcia| 51166.63636363636|104.81818181818181|\n",
      "|el Besòs i el Mar...|23435.454545454544| 56.07272727272728|\n",
      "|        la Guineueta|15231.727272727272|63.818181818181806|\n",
      "|        la Teixonera|11400.727272727272| 71.89999999999999|\n",
      "|la Dreta de l'Eix...| 43410.36363636364|155.25454545454548|\n",
      "|      el Barri Gòtic| 18795.81818181818| 98.14545454545454|\n",
      "|         el Guinardó|35770.818181818184| 85.58181818181818|\n",
      "|            Vallbona|1338.1818181818182| 48.96363636363637|\n",
      "|           Canyelles| 7169.181818181818| 64.53636363636363|\n",
      "|Provençals del Po...|19809.090909090908| 87.87272727272727|\n",
      "| la Verneda i la Pau|29134.545454545456| 62.77272727272727|\n",
      "|Vilapicina i la T...| 25575.81818181818| 72.43636363636364|\n",
      "|l'Antiga Esquerra...| 41887.63636363636|126.95454545454548|\n",
      "|               Navas|21835.272727272728| 83.12727272727273|\n",
      "|   la Marina de Port| 30139.18181818182| 72.42727272727274|\n",
      "|la Marina del Pra...|1109.6363636363637| 56.15454545454547|\n",
      "|              Sarrià|24255.636363636364|185.66363636363633|\n",
      "|          Torre Baró|2393.3636363636365| 52.59090909090909|\n",
      "|    la Trinitat Nova| 7655.727272727273|              43.6|\n",
      "+--------------------+------------------+------------------+\n",
      "only showing top 20 rows\n"
     ]
    }
   ],
   "source": [
    "df_income.show()"
   ]
  },
  {
   "cell_type": "code",
   "execution_count": 11,
   "id": "97b66d44",
   "metadata": {},
   "outputs": [
    {
     "name": "stdout",
     "output_type": "stream",
     "text": [
      "+-------------------+--------------------+---------------------+-------------------+-----------+-------------------------+--------------------+---------------+\n",
      "|           district|        neighborhood|district_n_reconciled|         district_n|district_id|neighborhood_n_reconciled|      neighborhood_n|neighborhood_id|\n",
      "+-------------------+--------------------+---------------------+-------------------+-----------+-------------------------+--------------------+---------------+\n",
      "|       Ciutat Vella|      el Barri Gòtic|         Ciutat Vella|       ciutat vella|    Q941385|           Gothic Quarter|      el barri gotic|         Q17154|\n",
      "|         Nou Barris|         Can Peguera|           Nou Barris|         nou barris|   Q1641049|              Can Peguera|         can peguera|       Q3320716|\n",
      "|         Nou Barris|    la Trinitat Nova|           Nou Barris|         nou barris|   Q1641049|         La Trinitat Nova|    la trinitat nova|       Q3750932|\n",
      "|Sarrià-Sant Gervasi|Sant Gervasi - la...|  Sarrià-Sant Gervasi|sarria sant gervasi|   Q1765582|     Sant Gervasi – la...|sant gervasi la b...|       Q3321657|\n",
      "|Sarrià-Sant Gervasi|     les Tres Torres|  Sarrià-Sant Gervasi|sarria sant gervasi|   Q1765582|          Les Tres Torres|     les tres torres|       Q3297896|\n",
      "|           Eixample|l'Antiga Esquerra...|             Eixample|           eixample|     Q64124|     L'Antiga Esquerra...|l antiga esquerra...|       Q3291762|\n",
      "|         Nou Barris|      la Prosperitat|           Nou Barris|         nou barris|   Q1641049|           La Prosperitat|      la prosperitat|       Q3750926|\n",
      "|     Horta-Guinardó|               Horta|       Horta-Guinardó|     horta guinardo|   Q1771488|         Horta, Barcelona|               horta|      Q15225338|\n",
      "|         Sant Martí|Provençals del Po...|           Sant Martí|         sant marti|    Q250935|     Provençals del Po...|provencals del po...|       Q6273541|\n",
      "|        Sant Andreu|el Congrés i els ...|          Sant Andreu|        sant andreu|   Q1650230|     El Congrés i els ...|el congres i els ...|       Q3813818|\n",
      "|         Sant Martí|             el Clot|           Sant Martí|         sant marti|    Q250935|                  El Clot|             el clot|       Q2979686|\n",
      "|     Horta-Guinardó|             Montbau|       Horta-Guinardó|     horta guinardo|   Q1771488|                  Montbau|             montbau|       Q3298502|\n",
      "|     Horta-Guinardó|    la Vall d'Hebron|       Horta-Guinardó|     horta guinardo|   Q1771488|            Vall d'Hebron|    la vall d hebron|       Q3298492|\n",
      "|         Nou Barris|        les Roquetes|           Nou Barris|         nou barris|   Q1641049|             Les Roquetes|        les roquetes|       Q1627690|\n",
      "|     Horta-Guinardó|        la Teixonera|       Horta-Guinardó|     horta guinardo|   Q1771488|             La Teixonera|        la teixonera|       Q3320705|\n",
      "|     Sants-Montjuïc|   la Marina de Port|       Sants-Montjuïc|     sants montjuic|    Q753075|        La Marina de Port|   la marina de port|       Q3751076|\n",
      "|             Gràcia|Vallcarca i els P...|               Gràcia|             gracia|    Q852697|     Vallcarca i els P...|vallcarca i els p...|       Q2057331|\n",
      "|     Horta-Guinardó|           el Carmel|       Horta-Guinardó|     horta guinardo|   Q1771488|                El Carmel|           el carmel|       Q3319498|\n",
      "|          Les Corts|           Pedralbes|            Les Corts|          les corts|    Q959944|                Pedralbes|           pedralbes|       Q2562684|\n",
      "|         Nou Barris| el Turó de la Peira|           Nou Barris|         nou barris|   Q1641049|      El Turó de la Peira| el turo de la peira|        Q524311|\n",
      "+-------------------+--------------------+---------------------+-------------------+-----------+-------------------------+--------------------+---------------+\n",
      "only showing top 20 rows\n"
     ]
    }
   ],
   "source": [
    "df_lookup.show()"
   ]
  },
  {
   "cell_type": "code",
   "execution_count": 12,
   "id": "1a949592",
   "metadata": {},
   "outputs": [],
   "source": [
    "# merge idealista and lookup \n",
    "df_1 = df_idealista.join(\n",
    "    df_lookup,\n",
    "    df_idealista[\"neighborhood\"] == df_lookup[\"neighborhood_n_reconciled\"],\n",
    "    \"inner\")"
   ]
  },
  {
   "cell_type": "code",
   "execution_count": 13,
   "id": "8e92362e",
   "metadata": {},
   "outputs": [],
   "source": [
    "# merge income and dataset just created \n",
    "final_df = df_income.join(\n",
    "    df_1,\n",
    "    df_income[\"Nom_Barri\"] == df_1[\"neighborhood_n_reconciled\"],\n",
    "    \"inner\")"
   ]
  },
  {
   "cell_type": "code",
   "execution_count": 14,
   "id": "17450d0d",
   "metadata": {},
   "outputs": [
    {
     "name": "stdout",
     "output_type": "stream",
     "text": [
      "+-----------+-----------------+-----------------+--------------------+---------+-------+------------+--------+--------------+--------+------------------+-----+------+---------+-------+-------+----------+--------+----------+---------+------------+------------+--------------+----------------------+---------+---------+------------------+--------+-----------+------------+------------+---------+-----+-----------+-----+------+--------------------+--------------------+-----------------+--------------------+--------------+------------+---------------------+--------------+-----------+-------------------------+--------------+---------------+\n",
      "|  Nom_Barri| Poblacio_average|Index_RFD_average|             address|bathrooms|country|detailedType|distance|      district|exterior| externalReference|floor|has360|has3DTour|hasLift|hasPlan|hasStaging|hasVideo|  latitude|longitude|municipality|neighborhood|newDevelopment|newDevelopmentFinished|numPhotos|operation|      parkingSpace|   price|priceByArea|propertyCode|propertyType| province|rooms|showAddress| size|status|      suggestedTexts|           thumbnail|topNewDevelopment|                 url|      district|neighborhood|district_n_reconciled|    district_n|district_id|neighborhood_n_reconciled|neighborhood_n|neighborhood_id|\n",
      "+-----------+-----------------+-----------------+--------------------+---------+-------+------------+--------+--------------+--------+------------------+-----+------+---------+-------+-------+----------+--------+----------+---------+------------+------------+--------------+----------------------+---------+---------+------------------+--------+-----------+------------+------------+---------+-----+-----------+-----+------+--------------------+--------------------+-----------------+--------------------+--------------+------------+---------------------+--------------+-----------+-------------------------+--------------+---------------+\n",
      "|      Sants|41356.72727272727|87.79999999999998|Passatge Serra i ...|        1|     es|{NULL, flat}|    2360|Sants-Montjuïc|    true|           Sants-1|    2| false|    false|   true|  false|     false|    true|41.3780073| 2.134308|   Barcelona|       Sants|         false|                  NULL|       23|     sale|              NULL|219000.0|     3369.0|    92963437|        flat|Barcelona|    3|      false| 65.0|  good|{Sants, Barcelona...|https://img3.idea...|            false|https://www.ideal...|Sants-Montjuïc|       Sants|       Sants-Montjuïc|sants montjuic|    Q753075|                    Sants|         sants|       Q2476184|\n",
      "|      Sants|41356.72727272727|87.79999999999998|Passatge Serra i ...|        1|     es|{NULL, flat}|    2360|Sants-Montjuïc|    true|           Sants-1|    2| false|    false|   true|  false|     false|    true|41.3780073| 2.134308|   Barcelona|       Sants|         false|                  NULL|       23|     sale|              NULL|219000.0|     3369.0|    92963437|        flat|Barcelona|    3|      false| 65.0|  good|{Sants, Barcelona...|https://img3.idea...|            false|https://www.ideal...|Sants-Montjuïc|       Sants|       Sants-Montjuïc|sants montjuic|    Q753075|                    Sants|         sants|       Q2476184|\n",
      "|      Sants|41356.72727272727|87.79999999999998|        barrio Sants|        2|     es|{NULL, flat}|    2227|Sants-Montjuïc|   false|          W-02EUHK| NULL| false|    false|  false|   true|     false|   false|41.3765632|2.1367667|   Barcelona|       Sants|         false|                  NULL|       25|     sale|              NULL|375000.0|     3049.0|    93117670|        flat|Barcelona|    2|      false|123.0|  good|{Sants, Barcelona...|https://img3.idea...|            false|https://www.ideal...|Sants-Montjuïc|       Sants|       Sants-Montjuïc|sants montjuic|    Q753075|                    Sants|         sants|       Q2476184|\n",
      "|      Sants|41356.72727272727|87.79999999999998|        barrio Sants|        2|     es|{NULL, flat}|    2227|Sants-Montjuïc|   false|          W-02EUHK| NULL| false|    false|  false|   true|     false|   false|41.3765632|2.1367667|   Barcelona|       Sants|         false|                  NULL|       25|     sale|              NULL|375000.0|     3049.0|    93117670|        flat|Barcelona|    2|      false|123.0|  good|{Sants, Barcelona...|https://img3.idea...|            false|https://www.ideal...|Sants-Montjuïc|       Sants|       Sants-Montjuïc|sants montjuic|    Q753075|                    Sants|         sants|       Q2476184|\n",
      "|Sant Antoni|38300.72727272727|99.94545454545455|   Calle de Vilamarí|        2|     es|{NULL, flat}|    2901|      Eixample|    true|      MHB:VILAMARÍ|    2| false|    false|   true|  false|     false|   false|41.3761807|2.1553685|   Barcelona| Sant Antoni|         false|                  NULL|       32|     sale|              NULL|445000.0|     3134.0|    93100173|        flat|Barcelona|    5|      false|142.0| renew|{Sant Antoni, Bar...|https://img3.idea...|            false|https://www.ideal...|      Eixample| Sant Antoni|             Eixample|      eixample|     Q64124|              Sant Antoni|   sant antoni|        Q720994|\n",
      "|Sant Antoni|38300.72727272727|99.94545454545455|   Calle de Vilamarí|        2|     es|{NULL, flat}|    2901|      Eixample|    true|      MHB:VILAMARÍ|    2| false|    false|   true|  false|     false|   false|41.3761807|2.1553685|   Barcelona| Sant Antoni|         false|                  NULL|       32|     sale|              NULL|445000.0|     3134.0|    93100173|        flat|Barcelona|    5|      false|142.0| renew|{Sant Antoni, Bar...|https://img3.idea...|            false|https://www.ideal...|      Eixample| Sant Antoni|             Eixample|      eixample|     Q64124|              Sant Antoni|   sant antoni|        Q720994|\n",
      "|      Sants|41356.72727272727|87.79999999999998|       Riera de Tena|        2|     es|{NULL, flat}|    1646|Sants-Montjuïc|    true|     API2020_FD651|    1| false|    false|   true|  false|     false|   false|41.3714682|2.1351204|   Barcelona|       Sants|         false|                  NULL|       29|     sale|              NULL|359000.0|     2849.0|    92116081|        flat|Barcelona|    4|      false|126.0|  good|{Sants, Barcelona...|https://img3.idea...|            false|https://www.ideal...|Sants-Montjuïc|       Sants|       Sants-Montjuïc|sants montjuic|    Q753075|                    Sants|         sants|       Q2476184|\n",
      "|      Sants|41356.72727272727|87.79999999999998|       Riera de Tena|        2|     es|{NULL, flat}|    1646|Sants-Montjuïc|    true|     API2020_FD651|    1| false|    false|   true|  false|     false|   false|41.3714682|2.1351204|   Barcelona|       Sants|         false|                  NULL|       29|     sale|              NULL|359000.0|     2849.0|    92116081|        flat|Barcelona|    4|      false|126.0|  good|{Sants, Barcelona...|https://img3.idea...|            false|https://www.ideal...|Sants-Montjuïc|       Sants|       Sants-Montjuïc|sants montjuic|    Q753075|                    Sants|         sants|       Q2476184|\n",
      "|      Sants|41356.72727272727|87.79999999999998|  Calle d'Olzinelles|        1|     es|{NULL, flat}|    1709|Sants-Montjuïc|    true|             A0899|    1| false|    false|   true|  false|     false|   false|41.3719274|2.1359905|   Barcelona|       Sants|         false|                  NULL|       12|     sale|              NULL|230000.0|     3108.0|    91421954|        flat|Barcelona|    3|      false| 74.0|  good|{Sants, Barcelona...|https://img3.idea...|            false|https://www.ideal...|Sants-Montjuïc|       Sants|       Sants-Montjuïc|sants montjuic|    Q753075|                    Sants|         sants|       Q2476184|\n",
      "|      Sants|41356.72727272727|87.79999999999998|  Calle d'Olzinelles|        1|     es|{NULL, flat}|    1709|Sants-Montjuïc|    true|             A0899|    1| false|    false|   true|  false|     false|   false|41.3719274|2.1359905|   Barcelona|       Sants|         false|                  NULL|       12|     sale|              NULL|230000.0|     3108.0|    91421954|        flat|Barcelona|    3|      false| 74.0|  good|{Sants, Barcelona...|https://img3.idea...|            false|https://www.ideal...|Sants-Montjuïc|       Sants|       Sants-Montjuïc|sants montjuic|    Q753075|                    Sants|         sants|       Q2476184|\n",
      "|Sant Antoni|38300.72727272727|99.94545454545455|  barrio Sant Antoni|        1|     es|{NULL, flat}|    3058|      Eixample|   false|          BCNP3100| NULL| false|    false|   true|  false|     false|   false|41.3770789|2.1568479|   Barcelona| Sant Antoni|         false|                  NULL|       23|     sale|              NULL|325000.0|     5000.0|    91450571|        flat|Barcelona|    2|      false| 65.0|  good|{Sant Antoni, Bar...|https://img3.idea...|            false|https://www.ideal...|      Eixample| Sant Antoni|             Eixample|      eixample|     Q64124|              Sant Antoni|   sant antoni|        Q720994|\n",
      "|Sant Antoni|38300.72727272727|99.94545454545455|  barrio Sant Antoni|        1|     es|{NULL, flat}|    3058|      Eixample|   false|          BCNP3100| NULL| false|    false|   true|  false|     false|   false|41.3770789|2.1568479|   Barcelona| Sant Antoni|         false|                  NULL|       23|     sale|              NULL|325000.0|     5000.0|    91450571|        flat|Barcelona|    2|      false| 65.0|  good|{Sant Antoni, Bar...|https://img3.idea...|            false|https://www.ideal...|      Eixample| Sant Antoni|             Eixample|      eixample|     Q64124|              Sant Antoni|   sant antoni|        Q720994|\n",
      "|      Sants|41356.72727272727|87.79999999999998|Calle del Tenor M...|        1|     es|{NULL, flat}|    2160|Sants-Montjuïc|    true|            AMv555|    2| false|    false|  false|   true|     false|   false|  41.37628|2.1320924|   Barcelona|       Sants|         false|                  NULL|       27|     sale|              NULL|188000.0|     2938.0|    92764185|        flat|Barcelona|    3|      false| 64.0| renew|{Sants, Barcelona...|https://img3.idea...|            false|https://www.ideal...|Sants-Montjuïc|       Sants|       Sants-Montjuïc|sants montjuic|    Q753075|                    Sants|         sants|       Q2476184|\n",
      "|      Sants|41356.72727272727|87.79999999999998|Calle del Tenor M...|        1|     es|{NULL, flat}|    2160|Sants-Montjuïc|    true|            AMv555|    2| false|    false|  false|   true|     false|   false|  41.37628|2.1320924|   Barcelona|       Sants|         false|                  NULL|       27|     sale|              NULL|188000.0|     2938.0|    92764185|        flat|Barcelona|    3|      false| 64.0| renew|{Sants, Barcelona...|https://img3.idea...|            false|https://www.ideal...|Sants-Montjuïc|       Sants|       Sants-Montjuïc|sants montjuic|    Q753075|                    Sants|         sants|       Q2476184|\n",
      "|Sant Antoni|38300.72727272727|99.94545454545455|Gran Via de les C...|        2|     es|{NULL, flat}|    3084|      Eixample|   false|GRANVIA / ROCAFORT|    2| false|    false|   true|   true|     false|   false|41.3792252|2.1538722|   Barcelona| Sant Antoni|         false|                  NULL|       23|     sale|{true, true, NULL}|395000.0|     3185.0|    90502217|        flat|Barcelona|    3|      false|124.0|  good|{Sant Antoni, Bar...|https://img3.idea...|            false|https://www.ideal...|      Eixample| Sant Antoni|             Eixample|      eixample|     Q64124|              Sant Antoni|   sant antoni|        Q720994|\n",
      "|Sant Antoni|38300.72727272727|99.94545454545455|Gran Via de les C...|        2|     es|{NULL, flat}|    3084|      Eixample|   false|GRANVIA / ROCAFORT|    2| false|    false|   true|   true|     false|   false|41.3792252|2.1538722|   Barcelona| Sant Antoni|         false|                  NULL|       23|     sale|{true, true, NULL}|395000.0|     3185.0|    90502217|        flat|Barcelona|    3|      false|124.0|  good|{Sant Antoni, Bar...|https://img3.idea...|            false|https://www.ideal...|      Eixample| Sant Antoni|             Eixample|      eixample|     Q64124|              Sant Antoni|   sant antoni|        Q720994|\n",
      "|Sant Antoni|38300.72727272727|99.94545454545455|  barrio Sant Antoni|        2|     es|{NULL, flat}|    2365|      Eixample|   false|          W-029Y8L| NULL| false|    false|  false|   true|     false|   false|41.3738099|2.1491314|   Barcelona| Sant Antoni|         false|                  NULL|       27|     sale|              NULL|860000.0|     3162.0|    92114764|        flat|Barcelona|    5|      false|272.0|  good|{Sant Antoni, Bar...|https://img3.idea...|            false|https://www.ideal...|      Eixample| Sant Antoni|             Eixample|      eixample|     Q64124|              Sant Antoni|   sant antoni|        Q720994|\n",
      "|Sant Antoni|38300.72727272727|99.94545454545455|  barrio Sant Antoni|        2|     es|{NULL, flat}|    2365|      Eixample|   false|          W-029Y8L| NULL| false|    false|  false|   true|     false|   false|41.3738099|2.1491314|   Barcelona| Sant Antoni|         false|                  NULL|       27|     sale|              NULL|860000.0|     3162.0|    92114764|        flat|Barcelona|    5|      false|272.0|  good|{Sant Antoni, Bar...|https://img3.idea...|            false|https://www.ideal...|      Eixample| Sant Antoni|             Eixample|      eixample|     Q64124|              Sant Antoni|   sant antoni|        Q720994|\n",
      "|Sant Antoni|38300.72727272727|99.94545454545455|   Calle de Vilamarí|        2|     es|{NULL, flat}|    2947|      Eixample|    true|CH19-BCNA-PIS(V)10|    1| false|    false|   true|  false|     false|   false|41.3775614|2.1540584|   Barcelona| Sant Antoni|         false|                  NULL|       25|     sale|              NULL|445000.0|     3134.0|    93165185|        flat|Barcelona|    5|      false|142.0|  good|{Sant Antoni, Bar...|https://img3.idea...|            false|https://www.ideal...|      Eixample| Sant Antoni|             Eixample|      eixample|     Q64124|              Sant Antoni|   sant antoni|        Q720994|\n",
      "|Sant Antoni|38300.72727272727|99.94545454545455|   Calle de Vilamarí|        2|     es|{NULL, flat}|    2947|      Eixample|    true|CH19-BCNA-PIS(V)10|    1| false|    false|   true|  false|     false|   false|41.3775614|2.1540584|   Barcelona| Sant Antoni|         false|                  NULL|       25|     sale|              NULL|445000.0|     3134.0|    93165185|        flat|Barcelona|    5|      false|142.0|  good|{Sant Antoni, Bar...|https://img3.idea...|            false|https://www.ideal...|      Eixample| Sant Antoni|             Eixample|      eixample|     Q64124|              Sant Antoni|   sant antoni|        Q720994|\n",
      "+-----------+-----------------+-----------------+--------------------+---------+-------+------------+--------+--------------+--------+------------------+-----+------+---------+-------+-------+----------+--------+----------+---------+------------+------------+--------------+----------------------+---------+---------+------------------+--------+-----------+------------+------------+---------+-----+-----------+-----+------+--------------------+--------------------+-----------------+--------------------+--------------+------------+---------------------+--------------+-----------+-------------------------+--------------+---------------+\n",
      "only showing top 20 rows\n"
     ]
    }
   ],
   "source": [
    "final_df.show()"
   ]
  },
  {
   "cell_type": "code",
   "execution_count": 15,
   "id": "f8d13152",
   "metadata": {},
   "outputs": [],
   "source": [
    "final_cleaned = final_df \\\n",
    "    .drop(\"district_n\", \"district\", \"district_id\", \"neighborhood_n\", \"thumbnail\", \"url\", \n",
    "    \"neighborhood\", \"externalReference\", \"district_n_reconciled\", \"Nom_Barri\") "
   ]
  },
  {
   "cell_type": "code",
   "execution_count": 16,
   "id": "c4987002",
   "metadata": {},
   "outputs": [
    {
     "name": "stdout",
     "output_type": "stream",
     "text": [
      "+-----------------+-----------------+--------------------+---------+-------+------------+--------+--------+-----+------+---------+-------+-------+----------+--------+----------+---------+------------+--------------+----------------------+---------+---------+------------------+--------+-----------+------------+------------+---------+-----+-----------+-----+------+--------------------+-----------------+-------------------------+---------------+\n",
      "| Poblacio_average|Index_RFD_average|             address|bathrooms|country|detailedType|distance|exterior|floor|has360|has3DTour|hasLift|hasPlan|hasStaging|hasVideo|  latitude|longitude|municipality|newDevelopment|newDevelopmentFinished|numPhotos|operation|      parkingSpace|   price|priceByArea|propertyCode|propertyType| province|rooms|showAddress| size|status|      suggestedTexts|topNewDevelopment|neighborhood_n_reconciled|neighborhood_id|\n",
      "+-----------------+-----------------+--------------------+---------+-------+------------+--------+--------+-----+------+---------+-------+-------+----------+--------+----------+---------+------------+--------------+----------------------+---------+---------+------------------+--------+-----------+------------+------------+---------+-----+-----------+-----+------+--------------------+-----------------+-------------------------+---------------+\n",
      "|41356.72727272727|87.79999999999998|Passatge Serra i ...|        1|     es|{NULL, flat}|    2360|    true|    2| false|    false|   true|  false|     false|    true|41.3780073| 2.134308|   Barcelona|         false|                  NULL|       23|     sale|              NULL|219000.0|     3369.0|    92963437|        flat|Barcelona|    3|      false| 65.0|  good|{Sants, Barcelona...|            false|                    Sants|       Q2476184|\n",
      "|41356.72727272727|87.79999999999998|Passatge Serra i ...|        1|     es|{NULL, flat}|    2360|    true|    2| false|    false|   true|  false|     false|    true|41.3780073| 2.134308|   Barcelona|         false|                  NULL|       23|     sale|              NULL|219000.0|     3369.0|    92963437|        flat|Barcelona|    3|      false| 65.0|  good|{Sants, Barcelona...|            false|                    Sants|       Q2476184|\n",
      "|41356.72727272727|87.79999999999998|        barrio Sants|        2|     es|{NULL, flat}|    2227|   false| NULL| false|    false|  false|   true|     false|   false|41.3765632|2.1367667|   Barcelona|         false|                  NULL|       25|     sale|              NULL|375000.0|     3049.0|    93117670|        flat|Barcelona|    2|      false|123.0|  good|{Sants, Barcelona...|            false|                    Sants|       Q2476184|\n",
      "|41356.72727272727|87.79999999999998|        barrio Sants|        2|     es|{NULL, flat}|    2227|   false| NULL| false|    false|  false|   true|     false|   false|41.3765632|2.1367667|   Barcelona|         false|                  NULL|       25|     sale|              NULL|375000.0|     3049.0|    93117670|        flat|Barcelona|    2|      false|123.0|  good|{Sants, Barcelona...|            false|                    Sants|       Q2476184|\n",
      "|38300.72727272727|99.94545454545455|   Calle de Vilamarí|        2|     es|{NULL, flat}|    2901|    true|    2| false|    false|   true|  false|     false|   false|41.3761807|2.1553685|   Barcelona|         false|                  NULL|       32|     sale|              NULL|445000.0|     3134.0|    93100173|        flat|Barcelona|    5|      false|142.0| renew|{Sant Antoni, Bar...|            false|              Sant Antoni|        Q720994|\n",
      "|38300.72727272727|99.94545454545455|   Calle de Vilamarí|        2|     es|{NULL, flat}|    2901|    true|    2| false|    false|   true|  false|     false|   false|41.3761807|2.1553685|   Barcelona|         false|                  NULL|       32|     sale|              NULL|445000.0|     3134.0|    93100173|        flat|Barcelona|    5|      false|142.0| renew|{Sant Antoni, Bar...|            false|              Sant Antoni|        Q720994|\n",
      "|41356.72727272727|87.79999999999998|       Riera de Tena|        2|     es|{NULL, flat}|    1646|    true|    1| false|    false|   true|  false|     false|   false|41.3714682|2.1351204|   Barcelona|         false|                  NULL|       29|     sale|              NULL|359000.0|     2849.0|    92116081|        flat|Barcelona|    4|      false|126.0|  good|{Sants, Barcelona...|            false|                    Sants|       Q2476184|\n",
      "|41356.72727272727|87.79999999999998|       Riera de Tena|        2|     es|{NULL, flat}|    1646|    true|    1| false|    false|   true|  false|     false|   false|41.3714682|2.1351204|   Barcelona|         false|                  NULL|       29|     sale|              NULL|359000.0|     2849.0|    92116081|        flat|Barcelona|    4|      false|126.0|  good|{Sants, Barcelona...|            false|                    Sants|       Q2476184|\n",
      "|41356.72727272727|87.79999999999998|  Calle d'Olzinelles|        1|     es|{NULL, flat}|    1709|    true|    1| false|    false|   true|  false|     false|   false|41.3719274|2.1359905|   Barcelona|         false|                  NULL|       12|     sale|              NULL|230000.0|     3108.0|    91421954|        flat|Barcelona|    3|      false| 74.0|  good|{Sants, Barcelona...|            false|                    Sants|       Q2476184|\n",
      "|41356.72727272727|87.79999999999998|  Calle d'Olzinelles|        1|     es|{NULL, flat}|    1709|    true|    1| false|    false|   true|  false|     false|   false|41.3719274|2.1359905|   Barcelona|         false|                  NULL|       12|     sale|              NULL|230000.0|     3108.0|    91421954|        flat|Barcelona|    3|      false| 74.0|  good|{Sants, Barcelona...|            false|                    Sants|       Q2476184|\n",
      "|38300.72727272727|99.94545454545455|  barrio Sant Antoni|        1|     es|{NULL, flat}|    3058|   false| NULL| false|    false|   true|  false|     false|   false|41.3770789|2.1568479|   Barcelona|         false|                  NULL|       23|     sale|              NULL|325000.0|     5000.0|    91450571|        flat|Barcelona|    2|      false| 65.0|  good|{Sant Antoni, Bar...|            false|              Sant Antoni|        Q720994|\n",
      "|38300.72727272727|99.94545454545455|  barrio Sant Antoni|        1|     es|{NULL, flat}|    3058|   false| NULL| false|    false|   true|  false|     false|   false|41.3770789|2.1568479|   Barcelona|         false|                  NULL|       23|     sale|              NULL|325000.0|     5000.0|    91450571|        flat|Barcelona|    2|      false| 65.0|  good|{Sant Antoni, Bar...|            false|              Sant Antoni|        Q720994|\n",
      "|41356.72727272727|87.79999999999998|Calle del Tenor M...|        1|     es|{NULL, flat}|    2160|    true|    2| false|    false|  false|   true|     false|   false|  41.37628|2.1320924|   Barcelona|         false|                  NULL|       27|     sale|              NULL|188000.0|     2938.0|    92764185|        flat|Barcelona|    3|      false| 64.0| renew|{Sants, Barcelona...|            false|                    Sants|       Q2476184|\n",
      "|41356.72727272727|87.79999999999998|Calle del Tenor M...|        1|     es|{NULL, flat}|    2160|    true|    2| false|    false|  false|   true|     false|   false|  41.37628|2.1320924|   Barcelona|         false|                  NULL|       27|     sale|              NULL|188000.0|     2938.0|    92764185|        flat|Barcelona|    3|      false| 64.0| renew|{Sants, Barcelona...|            false|                    Sants|       Q2476184|\n",
      "|38300.72727272727|99.94545454545455|Gran Via de les C...|        2|     es|{NULL, flat}|    3084|   false|    2| false|    false|   true|   true|     false|   false|41.3792252|2.1538722|   Barcelona|         false|                  NULL|       23|     sale|{true, true, NULL}|395000.0|     3185.0|    90502217|        flat|Barcelona|    3|      false|124.0|  good|{Sant Antoni, Bar...|            false|              Sant Antoni|        Q720994|\n",
      "|38300.72727272727|99.94545454545455|Gran Via de les C...|        2|     es|{NULL, flat}|    3084|   false|    2| false|    false|   true|   true|     false|   false|41.3792252|2.1538722|   Barcelona|         false|                  NULL|       23|     sale|{true, true, NULL}|395000.0|     3185.0|    90502217|        flat|Barcelona|    3|      false|124.0|  good|{Sant Antoni, Bar...|            false|              Sant Antoni|        Q720994|\n",
      "|38300.72727272727|99.94545454545455|  barrio Sant Antoni|        2|     es|{NULL, flat}|    2365|   false| NULL| false|    false|  false|   true|     false|   false|41.3738099|2.1491314|   Barcelona|         false|                  NULL|       27|     sale|              NULL|860000.0|     3162.0|    92114764|        flat|Barcelona|    5|      false|272.0|  good|{Sant Antoni, Bar...|            false|              Sant Antoni|        Q720994|\n",
      "|38300.72727272727|99.94545454545455|  barrio Sant Antoni|        2|     es|{NULL, flat}|    2365|   false| NULL| false|    false|  false|   true|     false|   false|41.3738099|2.1491314|   Barcelona|         false|                  NULL|       27|     sale|              NULL|860000.0|     3162.0|    92114764|        flat|Barcelona|    5|      false|272.0|  good|{Sant Antoni, Bar...|            false|              Sant Antoni|        Q720994|\n",
      "|38300.72727272727|99.94545454545455|   Calle de Vilamarí|        2|     es|{NULL, flat}|    2947|    true|    1| false|    false|   true|  false|     false|   false|41.3775614|2.1540584|   Barcelona|         false|                  NULL|       25|     sale|              NULL|445000.0|     3134.0|    93165185|        flat|Barcelona|    5|      false|142.0|  good|{Sant Antoni, Bar...|            false|              Sant Antoni|        Q720994|\n",
      "|38300.72727272727|99.94545454545455|   Calle de Vilamarí|        2|     es|{NULL, flat}|    2947|    true|    1| false|    false|   true|  false|     false|   false|41.3775614|2.1540584|   Barcelona|         false|                  NULL|       25|     sale|              NULL|445000.0|     3134.0|    93165185|        flat|Barcelona|    5|      false|142.0|  good|{Sant Antoni, Bar...|            false|              Sant Antoni|        Q720994|\n",
      "+-----------------+-----------------+--------------------+---------+-------+------------+--------+--------+-----+------+---------+-------+-------+----------+--------+----------+---------+------------+--------------+----------------------+---------+---------+------------------+--------+-----------+------------+------------+---------+-----+-----------+-----+------+--------------------+-----------------+-------------------------+---------------+\n",
      "only showing top 20 rows\n"
     ]
    }
   ],
   "source": [
    "final_cleaned.show()"
   ]
  },
  {
   "cell_type": "code",
   "execution_count": 17,
   "id": "a142d728",
   "metadata": {},
   "outputs": [
    {
     "name": "stdout",
     "output_type": "stream",
     "text": [
      "+-------------------------+--------+-----------------+-----------+\n",
      "|neighborhood_n_reconciled|   price|Index_RFD_average|priceByArea|\n",
      "+-------------------------+--------+-----------------+-----------+\n",
      "|                    Sants|219000.0|87.79999999999998|     3369.0|\n",
      "|                    Sants|219000.0|87.79999999999998|     3369.0|\n",
      "|                    Sants|375000.0|87.79999999999998|     3049.0|\n",
      "|                    Sants|375000.0|87.79999999999998|     3049.0|\n",
      "|              Sant Antoni|445000.0|99.94545454545455|     3134.0|\n",
      "|              Sant Antoni|445000.0|99.94545454545455|     3134.0|\n",
      "|                    Sants|359000.0|87.79999999999998|     2849.0|\n",
      "|                    Sants|359000.0|87.79999999999998|     2849.0|\n",
      "|                    Sants|230000.0|87.79999999999998|     3108.0|\n",
      "|                    Sants|230000.0|87.79999999999998|     3108.0|\n",
      "|              Sant Antoni|325000.0|99.94545454545455|     5000.0|\n",
      "|              Sant Antoni|325000.0|99.94545454545455|     5000.0|\n",
      "|                    Sants|188000.0|87.79999999999998|     2938.0|\n",
      "|                    Sants|188000.0|87.79999999999998|     2938.0|\n",
      "|              Sant Antoni|395000.0|99.94545454545455|     3185.0|\n",
      "|              Sant Antoni|395000.0|99.94545454545455|     3185.0|\n",
      "|              Sant Antoni|860000.0|99.94545454545455|     3162.0|\n",
      "|              Sant Antoni|860000.0|99.94545454545455|     3162.0|\n",
      "|              Sant Antoni|445000.0|99.94545454545455|     3134.0|\n",
      "|              Sant Antoni|445000.0|99.94545454545455|     3134.0|\n",
      "+-------------------------+--------+-----------------+-----------+\n",
      "only showing top 20 rows\n"
     ]
    }
   ],
   "source": [
    "final_cleaned.select(\"neighborhood_n_reconciled\", \"price\", \"Index_RFD_average\", \"priceByArea\").show()"
   ]
  },
  {
   "cell_type": "code",
   "execution_count": 20,
   "id": "4f5b7e7c",
   "metadata": {},
   "outputs": [],
   "source": [
    "# transform in parquet file\n",
    "final_cleaned.write.mode(\"overwrite\").parquet(f\"{formatted_zone}/formatted_data\")\n",
    "spark.stop()"
   ]
  }
 ],
 "metadata": {
  "kernelspec": {
   "display_name": "new",
   "language": "python",
   "name": "python3"
  },
  "language_info": {
   "codemirror_mode": {
    "name": "ipython",
    "version": 3
   },
   "file_extension": ".py",
   "mimetype": "text/x-python",
   "name": "python",
   "nbconvert_exporter": "python",
   "pygments_lexer": "ipython3",
   "version": "3.10.9"
  }
 },
 "nbformat": 4,
 "nbformat_minor": 5
}
