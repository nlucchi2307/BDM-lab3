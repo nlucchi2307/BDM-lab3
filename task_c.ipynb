{
 "cells": [
  {
   "cell_type": "markdown",
   "id": "49648c05",
   "metadata": {},
   "source": [
    "# Task C"
   ]
  },
  {
   "cell_type": "markdown",
   "id": "edfc885b",
   "metadata": {},
   "source": [
    "We will use Apache Airflow to orchestrate our workflow so that task_a.ipynb runs before task_b.ipynb on a daily schedule. The rationale is as follows: we are designing a workflow to build a prediction model for Idealista house prices, where new data is ingested each day. The first task (task_a.ipynb) will be responsible for cleaning the incoming data and removing duplicates, while the second task (task_b.ipynb) will handle training and testing the predictive model."
   ]
  },
  {
   "cell_type": "code",
   "execution_count": 1,
   "id": "b632c540",
   "metadata": {},
   "outputs": [
    {
     "data": {
      "text/html": [
       "<pre style=\"white-space:pre;overflow-x:auto;line-height:normal;font-family:Menlo,'DejaVu Sans Mono',consolas,'Courier New',monospace\"><span style=\"color: #808000; text-decoration-color: #808000; font-weight: bold\">/var/folders/26/4f5n05451_j4j0z0qd39gqzr0000gn/T/ipykernel_12883/2474024825.py:</span><span style=\"color: #808000; text-decoration-color: #808000; font-weight: bold\">3</span><span style=\"color: #808000; text-decoration-color: #808000; font-weight: bold\"> DeprecationWarning</span><span style=\"color: #808000; text-decoration-color: #808000\">: The `airflow.operators.python.PythonOperator` class is deprecated. Please use `</span><span style=\"color: #808000; text-decoration-color: #808000\">'airflow.providers.standard.operators.python.PythonOperator'</span><span style=\"color: #808000; text-decoration-color: #808000\">`.</span>\n",
       "</pre>\n"
      ],
      "text/plain": [
       "\u001b[1;33m/var/folders/26/4f5n05451_j4j0z0qd39gqzr0000gn/T/ipykernel_12883/\u001b[0m\u001b[1;33m2474024825.py\u001b[0m\u001b[1;33m:\u001b[0m\u001b[1;33m3\u001b[0m\u001b[1;33m DeprecationWarning\u001b[0m\u001b[33m: The `airflow.operators.python.PythonOperator` class is deprecated. Please use `\u001b[0m\u001b[33m'airflow.providers.standard.operators.python.PythonOperator'\u001b[0m\u001b[33m`.\u001b[0m\n"
      ]
     },
     "metadata": {},
     "output_type": "display_data"
    }
   ],
   "source": [
    "import os\n",
    "from airflow import DAG\n",
    "from airflow.operators.python import PythonOperator\n",
    "from datetime import datetime, timedelta\n",
    "import papermill as pm"
   ]
  },
  {
   "cell_type": "code",
   "execution_count": 2,
   "id": "b256c91a",
   "metadata": {},
   "outputs": [],
   "source": [
    "# Use the current working directory\n",
    "PROJECT_PATH = os.getcwd()  "
   ]
  },
  {
   "cell_type": "code",
   "execution_count": 3,
   "id": "6c2134d4",
   "metadata": {},
   "outputs": [],
   "source": [
    "def run_notebook_a():\n",
    "    pm.execute_notebook(\n",
    "        f\"{PROJECT_PATH}/task_a.ipynb\",\n",
    "        f\"{PROJECT_PATH}/artifacts/task_a_out.ipynb\"  # output notebook\n",
    "    )\n",
    "\n",
    "def run_notebook_b():\n",
    "    pm.execute_notebook(\n",
    "        f\"{PROJECT_PATH}/task_b.ipynb\",\n",
    "        f\"{PROJECT_PATH}/artifacts/task_b_out.ipynb\"\n",
    "    )\n",
    "\n",
    "default_args = {\n",
    "    'owner': 'airflow',\n",
    "    'depends_on_past': False,\n",
    "    'retries': 1,\n",
    "    'retry_delay': timedelta(minutes=5),\n",
    "}\n",
    "\n",
    "with DAG(\n",
    "    dag_id='notebook_workflow',\n",
    "    default_args=default_args,\n",
    "    description='Run task_a then task_b notebooks daily',\n",
    "    schedule='@daily',\n",
    "    start_date=datetime(2024, 1, 1),\n",
    "    catchup=False,\n",
    "    tags=['notebook', 'papermill'],\n",
    ") as dag:\n",
    "    task_a = PythonOperator(\n",
    "        task_id='run_task_a',\n",
    "        python_callable=run_notebook_a,\n",
    "    )\n",
    "    task_b = PythonOperator(\n",
    "        task_id='run_task_b',\n",
    "        python_callable=run_notebook_b,\n",
    "    )\n",
    "\n",
    "    task_a >> task_b  # This sets the dependency: a runs before b"
   ]
  }
 ],
 "metadata": {
  "kernelspec": {
   "display_name": "new",
   "language": "python",
   "name": "python3"
  },
  "language_info": {
   "codemirror_mode": {
    "name": "ipython",
    "version": 3
   },
   "file_extension": ".py",
   "mimetype": "text/x-python",
   "name": "python",
   "nbconvert_exporter": "python",
   "pygments_lexer": "ipython3",
   "version": "3.10.9"
  }
 },
 "nbformat": 4,
 "nbformat_minor": 5
}
