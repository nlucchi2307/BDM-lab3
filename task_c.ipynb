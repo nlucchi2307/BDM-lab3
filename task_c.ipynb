{
 "cells": [
  {
   "cell_type": "markdown",
   "id": "49648c05",
   "metadata": {},
   "source": [
    "# Task C"
   ]
  },
  {
   "cell_type": "markdown",
   "id": "edfc885b",
   "metadata": {},
   "source": [
    "We will use Apache Airflow to orchestrate our workflow so that task_a.ipynb runs before task_b.ipynb on a daily schedule. The rationale is as follows: we are designing a workflow to build a prediction model for Idealista house prices, where new data is ingested each day. The first task (task_a.ipynb) will be responsible for cleaning the incoming data and removing duplicates, while the second task (task_b.ipynb) will handle training and testing the predictive model."
   ]
  },
  {
   "cell_type": "code",
   "execution_count": 1,
   "id": "6c2134d4",
   "metadata": {},
   "outputs": [
    {
     "ename": "ModuleNotFoundError",
     "evalue": "No module named 'airflow'",
     "output_type": "error",
     "traceback": [
      "\u001b[1;31m---------------------------------------------------------------------------\u001b[0m",
      "\u001b[1;31mModuleNotFoundError\u001b[0m                       Traceback (most recent call last)",
      "Cell \u001b[1;32mIn[1], line 2\u001b[0m\n\u001b[0;32m      1\u001b[0m \u001b[38;5;28;01mimport\u001b[39;00m \u001b[38;5;21;01mos\u001b[39;00m\n\u001b[1;32m----> 2\u001b[0m \u001b[38;5;28;01mfrom\u001b[39;00m \u001b[38;5;21;01mairflow\u001b[39;00m \u001b[38;5;28;01mimport\u001b[39;00m DAG\n\u001b[0;32m      3\u001b[0m \u001b[38;5;28;01mfrom\u001b[39;00m \u001b[38;5;21;01mairflow\u001b[39;00m\u001b[38;5;21;01m.\u001b[39;00m\u001b[38;5;21;01moperators\u001b[39;00m\u001b[38;5;21;01m.\u001b[39;00m\u001b[38;5;21;01mpython\u001b[39;00m \u001b[38;5;28;01mimport\u001b[39;00m PythonOperator\n\u001b[0;32m      4\u001b[0m \u001b[38;5;28;01mfrom\u001b[39;00m \u001b[38;5;21;01mdatetime\u001b[39;00m \u001b[38;5;28;01mimport\u001b[39;00m datetime, timedelta\n",
      "\u001b[1;31mModuleNotFoundError\u001b[0m: No module named 'airflow'"
     ]
    }
   ],
   "source": [
    "import os\n",
    "from airflow import DAG\n",
    "from airflow.operators.python import PythonOperator\n",
    "from datetime import datetime, timedelta\n",
    "import papermill as pm\n",
    "\n",
    "# Use the current working directory\n",
    "PROJECT_PATH = os.getcwd()  \n",
    "\n",
    "def run_notebook_a():\n",
    "    pm.execute_notebook(\n",
    "        f\"{PROJECT_PATH}/task_a.ipynb\",\n",
    "        f\"{PROJECT_PATH}/artifacts/task_a_out.ipynb\"  # output notebook\n",
    "    )\n",
    "\n",
    "def run_notebook_b():\n",
    "    pm.execute_notebook(\n",
    "        f\"{PROJECT_PATH}/task_b.ipynb\",\n",
    "        f\"{PROJECT_PATH}/artifacts/task_b_out.ipynb\"\n",
    "    )\n",
    "\n",
    "default_args = {\n",
    "    'owner': 'airflow',\n",
    "    'depends_on_past': False,\n",
    "    'retries': 1,\n",
    "    'retry_delay': timedelta(minutes=5),\n",
    "}\n",
    "\n",
    "with DAG(\n",
    "    dag_id='notebook_workflow',\n",
    "    default_args=default_args,\n",
    "    description='Run task_a then task_b notebooks daily',\n",
    "    schedule_interval='@daily',\n",
    "    start_date=datetime(2024, 1, 1),\n",
    "    catchup=False,\n",
    "    tags=['notebook', 'papermill'],\n",
    ") as dag:\n",
    "    task_a = PythonOperator(\n",
    "        task_id='run_task_a',\n",
    "        python_callable=run_notebook_a,\n",
    "    )\n",
    "    task_b = PythonOperator(\n",
    "        task_id='run_task_b',\n",
    "        python_callable=run_notebook_b,\n",
    "    )\n",
    "\n",
    "    task_a >> task_b  # This sets the dependency: a runs before b\n"
   ]
  }
 ],
 "metadata": {
  "kernelspec": {
   "display_name": "myenv",
   "language": "python",
   "name": "python3"
  },
  "language_info": {
   "codemirror_mode": {
    "name": "ipython",
    "version": 3
   },
   "file_extension": ".py",
   "mimetype": "text/x-python",
   "name": "python",
   "nbconvert_exporter": "python",
   "pygments_lexer": "ipython3",
   "version": "3.9.20"
  }
 },
 "nbformat": 4,
 "nbformat_minor": 5
}
