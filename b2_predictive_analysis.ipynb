{
 "cells": [
  {
   "cell_type": "code",
   "execution_count": 1,
   "id": "d2dd588b",
   "metadata": {},
   "outputs": [],
   "source": [
    "import os\n",
    "\n",
    "# Set HADOOP_HOME to the parent folder of the 'bin' with winutils.exe\n",
    "os.environ[\"HADOOP_HOME\"] = r\"C:\\winutils-master\\hadoop-3.0.0\"\n",
    "os.environ[\"PATH\"] += r\";C:\\winutils-master\\hadoop-3.0.0\\bin\"\n",
    "\n",
    "# (Optional: Set JAVA_HOME if not already set)\n",
    "os.environ[\"JAVA_HOME\"] = r\"C:\\Program Files\\Eclipse Adoptium\\jdk-17.0.15.6-hotspot\""
   ]
  },
  {
   "cell_type": "code",
   "execution_count": 2,
   "id": "93900788",
   "metadata": {},
   "outputs": [],
   "source": [
    "from pyspark.sql import SparkSession\n",
    "from pyspark.sql.functions import col, avg, sqrt, abs as spark_abs\n",
    "from pyspark.ml.regression import LinearRegression, RandomForestRegressor, GBTRegressor\n",
    "from pyspark.ml.evaluation import RegressionEvaluator\n",
    "from pyspark.ml.tuning import CrossValidator, ParamGridBuilder\n",
    "import time"
   ]
  },
  {
   "cell_type": "code",
   "execution_count": 3,
   "id": "7a187df0",
   "metadata": {},
   "outputs": [],
   "source": [
    "# set a Spark session\n",
    "spark = SparkSession.builder \\\n",
    "    .appName(\"PredictiveAnalysis\") \\\n",
    "    .master(\"local[*]\") \\\n",
    "    .getOrCreate()"
   ]
  },
  {
   "cell_type": "code",
   "execution_count": 4,
   "id": "4e1bd055",
   "metadata": {},
   "outputs": [],
   "source": [
    "# define the path for exploitation zone\n",
    "exploitation_zone = \"exploitation_zone\""
   ]
  },
  {
   "cell_type": "code",
   "execution_count": 5,
   "id": "55b367be",
   "metadata": {},
   "outputs": [],
   "source": [
    "# load preprocessed data\n",
    "train_data = spark.read.parquet(f\"{exploitation_zone}/train_data\")\n",
    "test_data = spark.read.parquet(f\"{exploitation_zone}/test_data\")"
   ]
  },
  {
   "cell_type": "code",
   "execution_count": 6,
   "id": "af7a7e6a",
   "metadata": {},
   "outputs": [
    {
     "name": "stdout",
     "output_type": "stream",
     "text": [
      "+-----------+--------------------+--------------------+\n",
      "|price_clean|            features|        neighborhood|\n",
      "+-----------+--------------------+--------------------+\n",
      "|    34000.0|(91,[0,3,4,5,6,7,...|La Nova Esquerra ...|\n",
      "|    39000.0|(91,[0,1,2,3,4,5,...|El Poble Sec - Pa...|\n",
      "|    48000.0|(91,[0,1,2,3,4,5,...|La Nova Esquerra ...|\n",
      "|    60000.0|(91,[0,1,2,3,4,5,...|          La Bordeta|\n",
      "|    69000.0|(91,[0,1,2,3,4,5,...|          La Bordeta|\n",
      "+-----------+--------------------+--------------------+\n",
      "only showing top 5 rows\n"
     ]
    }
   ],
   "source": [
    "train_data.show(5)"
   ]
  },
  {
   "cell_type": "code",
   "execution_count": 7,
   "id": "562e4246",
   "metadata": {},
   "outputs": [],
   "source": [
    "# we create 3 different ML models: Linear Regression, Random Forest, and Gradient Boosted Trees\n",
    "\n",
    "# Linear Regression model\n",
    "linear_regression = LinearRegression(\n",
    "    featuresCol=\"features\", \n",
    "    labelCol=\"price_clean\",\n",
    "    predictionCol=\"prediction\")\n",
    "\n",
    "# Random Forest model\n",
    "random_forest = RandomForestRegressor(\n",
    "    featuresCol=\"features\",\n",
    "    labelCol=\"price_clean\", \n",
    "    predictionCol=\"prediction\",\n",
    "    numTrees=50,\n",
    "    maxDepth=10,\n",
    "    seed=42)\n",
    "\n",
    "# Gradient Boosted Trees model\n",
    "gradient_boosting = GBTRegressor(\n",
    "    featuresCol=\"features\",\n",
    "    labelCol=\"price_clean\",\n",
    "    predictionCol=\"prediction\", \n",
    "    maxIter=50,\n",
    "    maxDepth=8,\n",
    "    seed=42)\n",
    "\n",
    "models = {\n",
    "    \"Linear Regression\": linear_regression,\n",
    "    \"Random Forest\": random_forest, \n",
    "    \"Gradient Boosting\": gradient_boosting}"
   ]
  },
  {
   "cell_type": "code",
   "execution_count": 8,
   "id": "549fde88",
   "metadata": {},
   "outputs": [],
   "source": [
    "# define parameter grids for each model to optimize hyperparameters\n",
    "\n",
    "# Linear Regression parameter grid\n",
    "lr_param_grid = ParamGridBuilder() \\\n",
    "    .addGrid(linear_regression.regParam, [0.01, 0.1, 1.0]) \\\n",
    "    .addGrid(linear_regression.elasticNetParam, [0.0, 0.5, 1.0]) \\\n",
    "    .build()\n",
    "\n",
    "# Random Forest parameter grid\n",
    "rf_param_grid = ParamGridBuilder() \\\n",
    "    .addGrid(random_forest.numTrees, [30, 50, 100]) \\\n",
    "    .addGrid(random_forest.maxDepth, [5, 10, 15]) \\\n",
    "    .build()\n",
    "\n",
    "# Gradient Boosting parameter grid  \n",
    "gb_param_grid = ParamGridBuilder() \\\n",
    "    .addGrid(gradient_boosting.maxIter, [30, 50, 100]) \\\n",
    "    .addGrid(gradient_boosting.maxDepth, [5, 8, 10]) \\\n",
    "    .build()\n",
    "\n",
    "param_grids = {\n",
    "    \"Linear Regression\": lr_param_grid,\n",
    "    \"Random Forest\": rf_param_grid,\n",
    "    \"Gradient Boosting\": gb_param_grid}"
   ]
  },
  {
   "cell_type": "code",
   "execution_count": 9,
   "id": "de99255b",
   "metadata": {},
   "outputs": [
    {
     "name": "stdout",
     "output_type": "stream",
     "text": [
      "\n",
      "Training Linear Regression...\n",
      "Linear Regression completed\n",
      "  Best CV RMSE: €193,145\n",
      "\n",
      "Training Random Forest...\n",
      "Random Forest completed\n",
      "  Best CV RMSE: €165,725\n",
      "\n",
      "Training Gradient Boosting...\n",
      "Gradient Boosting completed\n",
      "  Best CV RMSE: €184,602\n"
     ]
    }
   ],
   "source": [
    "# train and evaluate models using cross-validation\n",
    "\n",
    "# evaluator for RMSE\n",
    "evaluator = RegressionEvaluator(\n",
    "    labelCol=\"price_clean\",\n",
    "    predictionCol=\"prediction\",\n",
    "    metricName=\"rmse\")\n",
    "\n",
    "# store results\n",
    "trained_models = {}\n",
    "model_metrics = {}\n",
    "\n",
    "for model_name, model in models.items():\n",
    "    print(f\"\\nTraining {model_name}...\")\n",
    "    start_time = time.time()\n",
    "    \n",
    "    # create cross-validator\n",
    "    cv = CrossValidator(\n",
    "        estimator=model,\n",
    "        estimatorParamMaps=param_grids[model_name],\n",
    "        evaluator=evaluator,\n",
    "        numFolds=3,  \n",
    "        seed=42)\n",
    "    \n",
    "    # train with cross-validation\n",
    "    cv_model = cv.fit(train_data)\n",
    "    \n",
    "    # get best model \n",
    "    best_model = cv_model.bestModel\n",
    "    \n",
    "    # calculate cross-validation metrics\n",
    "    cv_metrics = cv_model.avgMetrics\n",
    "    best_cv_rmse = min(cv_metrics)\n",
    "    \n",
    "    # store results\n",
    "    trained_models[model_name] = {\n",
    "        \"model\": best_model,\n",
    "        \"cv_model\": cv_model}\n",
    "    \n",
    "    model_metrics[model_name] = {\n",
    "        \"cv_rmse\": best_cv_rmse}\n",
    "    \n",
    "    print(f\"{model_name} completed\")\n",
    "    print(f\"  Best CV RMSE: €{best_cv_rmse:,.0f}\")"
   ]
  },
  {
   "cell_type": "code",
   "execution_count": 10,
   "id": "f8d277a7",
   "metadata": {},
   "outputs": [
    {
     "name": "stdout",
     "output_type": "stream",
     "text": [
      "\n",
      "Evaluating Linear Regression on test set\n",
      "  RMSE: €191,385\n",
      "  MAE: €116,727\n",
      "  R²: 0.769\n",
      "\n",
      "Evaluating Random Forest on test set\n",
      "  RMSE: €158,171\n",
      "  MAE: €85,683\n",
      "  R²: 0.842\n",
      "\n",
      "Evaluating Gradient Boosting on test set\n",
      "  RMSE: €164,549\n",
      "  MAE: €93,493\n",
      "  R²: 0.829\n"
     ]
    }
   ],
   "source": [
    "# validate models on test set and calculate metrics \n",
    "\n",
    "# create evaluators for different metrics\n",
    "rmse_evaluator = RegressionEvaluator(labelCol=\"price_clean\", predictionCol=\"prediction\", metricName=\"rmse\")\n",
    "mae_evaluator = RegressionEvaluator(labelCol=\"price_clean\", predictionCol=\"prediction\", metricName=\"mae\") \n",
    "r2_evaluator = RegressionEvaluator(labelCol=\"price_clean\", predictionCol=\"prediction\", metricName=\"r2\")\n",
    "\n",
    "test_results = {}\n",
    "\n",
    "for model_name, model_dict in trained_models.items():\n",
    "    model = model_dict[\"model\"]\n",
    "    \n",
    "    print(f\"\\nEvaluating {model_name} on test set\")\n",
    "    \n",
    "    # make predictions\n",
    "    predictions = model.transform(test_data)\n",
    "    \n",
    "    # calculate metrics\n",
    "    rmse = rmse_evaluator.evaluate(predictions)\n",
    "    mae = mae_evaluator.evaluate(predictions)\n",
    "    r2 = r2_evaluator.evaluate(predictions)\n",
    "    \n",
    "    test_results[model_name] = {\n",
    "        \"rmse\": rmse,\n",
    "        \"mae\": mae, \n",
    "        \"r2\": r2,\n",
    "        \"predictions\": predictions}\n",
    "    \n",
    "    print(f\"  RMSE: €{rmse:,.0f}\")\n",
    "    print(f\"  MAE: €{mae:,.0f}\")\n",
    "    print(f\"  R²: {r2:.3f}\")"
   ]
  },
  {
   "cell_type": "code",
   "execution_count": 11,
   "id": "caa429d5",
   "metadata": {},
   "outputs": [
    {
     "name": "stdout",
     "output_type": "stream",
     "text": [
      "\n",
      "================================================================================\n",
      "                    MODEL PERFORMANCE COMPARISON\n",
      "================================================================================\n",
      "Model                CV RMSE      Test RMSE    Test MAE     Test R²   \n",
      "--------------------------------------------------------------------------------\n",
      "Linear Regression    193,145      191,385      116,727      0.769     \n",
      "Random Forest        165,725      158,171      85,683       0.842     \n",
      "Gradient Boosting    184,602      164,549      93,493       0.829     \n",
      "--------------------------------------------------------------------------------\n",
      "================================================================================\n"
     ]
    }
   ],
   "source": [
    "# compare performance of models\n",
    "print(\"\\n\" + \"=\"*80)\n",
    "print(\"                    MODEL PERFORMANCE COMPARISON\")\n",
    "print(\"=\"*80)\n",
    "\n",
    "print(f\"{'Model':<20} {'CV RMSE':<12} {'Test RMSE':<12} {'Test MAE':<12} {'Test R²':<10}\")\n",
    "print(\"-\"*80)\n",
    "\n",
    "best_model_name = None\n",
    "best_rmse = float('inf')\n",
    "\n",
    "for model_name in model_metrics.keys():\n",
    "    cv_rmse = model_metrics[model_name][\"cv_rmse\"]\n",
    "    test_rmse = test_results[model_name][\"rmse\"]\n",
    "    test_mae = test_results[model_name][\"mae\"]\n",
    "    test_r2 = test_results[model_name][\"r2\"]\n",
    "    \n",
    "    print(f\"{model_name:<20} {cv_rmse:<12,.0f} {test_rmse:<12,.0f} {test_mae:<12,.0f} {test_r2:<10.3f}\")\n",
    "    \n",
    "    # track best model by test RMSE\n",
    "    if test_rmse < best_rmse:\n",
    "        best_rmse = test_rmse\n",
    "        best_model_name = model_name\n",
    "\n",
    "print(\"-\"*80)\n",
    "print(\"=\"*80)"
   ]
  },
  {
   "cell_type": "code",
   "execution_count": 12,
   "id": "5fdf3dd6",
   "metadata": {},
   "outputs": [],
   "source": [
    "# save best model\n",
    "best_model = trained_models[best_model_name][\"model\"]\n",
    "best_model.write().overwrite().save(f\"{exploitation_zone}/best_model\")\n",
    "\n",
    "spark.stop()"
   ]
  }
 ],
 "metadata": {
  "kernelspec": {
   "display_name": "myenv",
   "language": "python",
   "name": "python3"
  },
  "language_info": {
   "codemirror_mode": {
    "name": "ipython",
    "version": 3
   },
   "file_extension": ".py",
   "mimetype": "text/x-python",
   "name": "python",
   "nbconvert_exporter": "python",
   "pygments_lexer": "ipython3",
   "version": "3.9.20"
  }
 },
 "nbformat": 4,
 "nbformat_minor": 5
}
