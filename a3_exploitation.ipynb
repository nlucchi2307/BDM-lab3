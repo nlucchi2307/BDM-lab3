{
 "cells": [
  {
   "cell_type": "code",
   "execution_count": 1,
   "id": "edd58ea5",
   "metadata": {},
   "outputs": [],
   "source": [
    "from pyspark.sql import SparkSession\n",
    "from pyspark.sql.functions import col"
   ]
  },
  {
   "cell_type": "code",
   "execution_count": 2,
   "id": "fa071fd3",
   "metadata": {},
   "outputs": [
    {
     "name": "stderr",
     "output_type": "stream",
     "text": [
      "WARNING: Using incubator modules: jdk.incubator.vector\n",
      "Using Spark's default log4j profile: org/apache/spark/log4j2-defaults.properties\n",
      "25/06/21 19:18:18 WARN Utils: Your hostname, MacBook-Air.local, resolves to a loopback address: 127.0.0.1; using 10.60.174.255 instead (on interface en0)\n",
      "25/06/21 19:18:18 WARN Utils: Set SPARK_LOCAL_IP if you need to bind to another address\n",
      "Using Spark's default log4j profile: org/apache/spark/log4j2-defaults.properties\n",
      "Setting default log level to \"WARN\".\n",
      "To adjust logging level use sc.setLogLevel(newLevel). For SparkR, use setLogLevel(newLevel).\n",
      "25/06/21 19:18:19 WARN NativeCodeLoader: Unable to load native-hadoop library for your platform... using builtin-java classes where applicable\n",
      "25/06/21 19:18:19 WARN Utils: Service 'SparkUI' could not bind on port 4040. Attempting port 4041.\n"
     ]
    }
   ],
   "source": [
    "# set a Spark session\n",
    "spark = SparkSession.builder \\\n",
    "    .appName(\"DataExploitation\") \\\n",
    "    .master(\"local[*]\") \\\n",
    "    .getOrCreate()"
   ]
  },
  {
   "cell_type": "code",
   "execution_count": 3,
   "id": "de75c6df",
   "metadata": {},
   "outputs": [],
   "source": [
    "# set the paths for the input and output data\n",
    "formatted_zone = (\"formatted_zone\")\n",
    "exploitation_zone = (\"exploitation_zone\")"
   ]
  },
  {
   "cell_type": "code",
   "execution_count": null,
   "id": "13bad64d",
   "metadata": {},
   "outputs": [],
   "source": [
    "# load data previously formatted\n",
    "data = spark.read.option(\"multiline\", True).parquet(f\"{formatted_zone}/formatted_data\")"
   ]
  },
  {
   "cell_type": "code",
   "execution_count": 5,
   "id": "805653f6",
   "metadata": {},
   "outputs": [
    {
     "name": "stderr",
     "output_type": "stream",
     "text": [
      "25/06/21 19:18:55 WARN SparkStringUtils: Truncated the string representation of a plan since it was too large. This behavior can be adjusted by setting 'spark.sql.debug.maxToStringFields'.\n"
     ]
    },
    {
     "name": "stdout",
     "output_type": "stream",
     "text": [
      "+-----------------+-----------------+--------------------+---------+-------+-----------------+--------+--------+-----+------+---------+-------+-------+----------+--------+----------+---------+------------+--------------+----------------------+---------+---------+------------+--------+-----------+------------+------------+---------+-----+-----------+-----+------+--------------------+-----------------+-------------------------+---------------+\n",
      "|   Poblacio_media|  Index_RFD_media|             address|bathrooms|country|     detailedType|distance|exterior|floor|has360|has3DTour|hasLift|hasPlan|hasStaging|hasVideo|  latitude|longitude|municipality|newDevelopment|newDevelopmentFinished|numPhotos|operation|parkingSpace|   price|priceByArea|propertyCode|propertyType| province|rooms|showAddress| size|status|      suggestedTexts|topNewDevelopment|neighborhood_n_reconciled|neighborhood_id|\n",
      "+-----------------+-----------------+--------------------+---------+-------+-----------------+--------+--------+-----+------+---------+-------+-------+----------+--------+----------+---------+------------+--------------+----------------------+---------+---------+------------+--------+-----------+------------+------------+---------+-----+-----------+-----+------+--------------------+-----------------+-------------------------+---------------+\n",
      "|38300.72727272727|99.94545454545455|Calle del Comte B...|        1|     es|     {NULL, flat}|    3225|    true|    3| false|    false|   true|   true|     false|    true|41.3767442|  2.16016|   Barcelona|         false|                  NULL|       15|     sale|        NULL|180000.0|     3673.0|    92660566|        flat|Barcelona|    1|      false| 49.0| renew|{Sant Antoni, Bar...|            false|              Sant Antoni|        Q720994|\n",
      "|38300.72727272727|99.94545454545455|Calle del Comte B...|        1|     es|     {NULL, flat}|    3225|    true|    3| false|    false|   true|   true|     false|    true|41.3767442|  2.16016|   Barcelona|         false|                  NULL|       15|     sale|        NULL|180000.0|     3673.0|    92660566|        flat|Barcelona|    1|      false| 49.0| renew|{Sant Antoni, Bar...|            false|              Sant Antoni|        Q720994|\n",
      "|41356.72727272727|87.79999999999998|    Calle de Gayarre|        1|     es|{penthouse, flat}|    2211|    true|    3| false|    false|  false|   true|     false|   false|41.3754233|2.1415043|   Barcelona|         false|                  NULL|       25|     sale|        NULL|259000.0|     3364.0|    91322887|   penthouse|Barcelona|    4|      false| 77.0| renew|{Sants, Barcelona...|            false|                    Sants|       Q2476184|\n",
      "|41356.72727272727|87.79999999999998|    Calle de Gayarre|        1|     es|{penthouse, flat}|    2211|    true|    3| false|    false|  false|   true|     false|   false|41.3754233|2.1415043|   Barcelona|         false|                  NULL|       25|     sale|        NULL|259000.0|     3364.0|    91322887|   penthouse|Barcelona|    4|      false| 77.0| renew|{Sants, Barcelona...|            false|                    Sants|       Q2476184|\n",
      "|38300.72727272727|99.94545454545455|Calle de Floridab...|        1|     es|     {NULL, flat}|    3169|    true|    1| false|    false|  false|   true|     false|    true|41.3769193| 2.158997|   Barcelona|         false|                  NULL|       18|     sale|        NULL|360000.0|     4932.0|    92439905|        flat|Barcelona|    2|      false| 73.0|  good|{Sant Antoni, Bar...|            false|              Sant Antoni|        Q720994|\n",
      "|38300.72727272727|99.94545454545455|Calle de Floridab...|        1|     es|     {NULL, flat}|    3169|    true|    1| false|    false|  false|   true|     false|    true|41.3769193| 2.158997|   Barcelona|         false|                  NULL|       18|     sale|        NULL|360000.0|     4932.0|    92439905|        flat|Barcelona|    2|      false| 73.0|  good|{Sant Antoni, Bar...|            false|              Sant Antoni|        Q720994|\n",
      "|41356.72727272727|87.79999999999998|      Calle de Salou|        1|     es|     {NULL, flat}|    1995|   false| NULL| false|    false|  false|  false|     false|   false|41.3743823|2.1370858|   Barcelona|         false|                  NULL|       16|     sale|        NULL|292900.0|     3708.0|    91977656|        flat|Barcelona|    1|      false| 79.0|  good|{Sants, Barcelona...|            false|                    Sants|       Q2476184|\n",
      "|41356.72727272727|87.79999999999998|      Calle de Salou|        1|     es|     {NULL, flat}|    1995|   false| NULL| false|    false|  false|  false|     false|   false|41.3743823|2.1370858|   Barcelona|         false|                  NULL|       16|     sale|        NULL|292900.0|     3708.0|    91977656|        flat|Barcelona|    1|      false| 79.0|  good|{Sants, Barcelona...|            false|                    Sants|       Q2476184|\n",
      "|          15950.0|81.16363636363637|       Princep Jordi|        1|     es|     {NULL, flat}|    2343|    true|    2| false|    false|   true|  false|     false|   false|41.3747687|2.1467931|   Barcelona|         false|                  NULL|       32|     sale|        NULL|363000.0|     5585.0|    90590813|        flat|Barcelona|    3|      false| 65.0|  good|{Hostafrancs, Bar...|            false|              Hostafrancs|       Q3750929|\n",
      "|          15950.0|81.16363636363637|       Princep Jordi|        1|     es|     {NULL, flat}|    2343|    true|    2| false|    false|   true|  false|     false|   false|41.3747687|2.1467931|   Barcelona|         false|                  NULL|       32|     sale|        NULL|363000.0|     5585.0|    90590813|        flat|Barcelona|    3|      false| 65.0|  good|{Hostafrancs, Bar...|            false|              Hostafrancs|       Q3750929|\n",
      "|41356.72727272727|87.79999999999998|    Calle de Galileu|        2|     es|   {duplex, flat}|    1974|    true|   bj|  true|    false|   true|   true|     false|   false| 41.374492|2.1346902|   Barcelona|         false|                  NULL|       34|     sale|        NULL|375000.0|     3049.0|    93039340|      duplex|Barcelona|    3|      false|123.0|  good|{Sants, Barcelona...|            false|                    Sants|       Q2476184|\n",
      "|41356.72727272727|87.79999999999998|    Calle de Galileu|        2|     es|   {duplex, flat}|    1974|    true|   bj|  true|    false|   true|   true|     false|   false| 41.374492|2.1346902|   Barcelona|         false|                  NULL|       34|     sale|        NULL|375000.0|     3049.0|    93039340|      duplex|Barcelona|    3|      false|123.0|  good|{Sants, Barcelona...|            false|                    Sants|       Q2476184|\n",
      "|38300.72727272727|99.94545454545455|Avenida del Paral...|        2|     es|     {NULL, flat}|    2999|    true|    3| false|    false|   true|  false|     false|   false|41.3770463|2.1558573|   Barcelona|         false|                  NULL|       22|     sale|        NULL|460000.0|     4792.0|    92890308|        flat|Barcelona|    3|      false| 96.0|  good|{Sant Antoni, Bar...|            false|              Sant Antoni|        Q720994|\n",
      "|38300.72727272727|99.94545454545455|Avenida del Paral...|        2|     es|     {NULL, flat}|    2999|    true|    3| false|    false|   true|  false|     false|   false|41.3770463|2.1558573|   Barcelona|         false|                  NULL|       22|     sale|        NULL|460000.0|     4792.0|    92890308|        flat|Barcelona|    3|      false| 96.0|  good|{Sant Antoni, Bar...|            false|              Sant Antoni|        Q720994|\n",
      "|          15950.0|81.16363636363637|Calle de la Creu ...|        2|     es|     {NULL, flat}|    2216|    true|    2| false|    false|  false|  false|     false|   false|41.3750789|2.1427755|   Barcelona|         false|                  NULL|       23|     sale|        NULL|290000.0|     3053.0|    91880123|        flat|Barcelona|    3|       true| 95.0|  good|{Hostafrancs, Bar...|            false|              Hostafrancs|       Q3750929|\n",
      "|          15950.0|81.16363636363637|Calle de la Creu ...|        2|     es|     {NULL, flat}|    2216|    true|    2| false|    false|  false|  false|     false|   false|41.3750789|2.1427755|   Barcelona|         false|                  NULL|       23|     sale|        NULL|290000.0|     3053.0|    91880123|        flat|Barcelona|    3|       true| 95.0|  good|{Hostafrancs, Bar...|            false|              Hostafrancs|       Q3750929|\n",
      "|38300.72727272727|99.94545454545455|   Calle de Calàbria|        1|     es|     {NULL, flat}|    3042|    true|    2| false|    false|   true|   true|     false|    true|41.3784507|2.1543931|   Barcelona|         false|                  NULL|       18|     sale|        NULL|495000.0|     5323.0|    91594209|        flat|Barcelona|    3|      false| 93.0|  good|{Sant Antoni, Bar...|            false|              Sant Antoni|        Q720994|\n",
      "|38300.72727272727|99.94545454545455|   Calle de Calàbria|        1|     es|     {NULL, flat}|    3042|    true|    2| false|    false|   true|   true|     false|    true|41.3784507|2.1543931|   Barcelona|         false|                  NULL|       18|     sale|        NULL|495000.0|     5323.0|    91594209|        flat|Barcelona|    3|      false| 93.0|  good|{Sant Antoni, Bar...|            false|              Sant Antoni|        Q720994|\n",
      "|41356.72727272727|87.79999999999998|        barrio Sants|        1|     es|     {NULL, flat}|    2596|    true|    1| false|    false|   true|  false|     false|   false|41.3801594|2.1338503|   Barcelona|         false|                  NULL|       11|     sale|        NULL|139000.0|     1738.0|    91658110|        flat|Barcelona|    4|      false| 80.0|  good|{Sants, Barcelona...|            false|                    Sants|       Q2476184|\n",
      "|41356.72727272727|87.79999999999998|        barrio Sants|        1|     es|     {NULL, flat}|    2596|    true|    1| false|    false|   true|  false|     false|   false|41.3801594|2.1338503|   Barcelona|         false|                  NULL|       11|     sale|        NULL|139000.0|     1738.0|    91658110|        flat|Barcelona|    4|      false| 80.0|  good|{Sants, Barcelona...|            false|                    Sants|       Q2476184|\n",
      "+-----------------+-----------------+--------------------+---------+-------+-----------------+--------+--------+-----+------+---------+-------+-------+----------+--------+----------+---------+------------+--------------+----------------------+---------+---------+------------+--------+-----------+------------+------------+---------+-----+-----------+-----+------+--------------------+-----------------+-------------------------+---------------+\n",
      "only showing top 20 rows\n"
     ]
    }
   ],
   "source": [
    "data.show()"
   ]
  },
  {
   "cell_type": "code",
   "execution_count": null,
   "id": "dc08decc",
   "metadata": {},
   "outputs": [],
   "source": []
  },
  {
   "cell_type": "code",
   "execution_count": null,
   "id": "adba0c55",
   "metadata": {},
   "outputs": [],
   "source": [
    "# save as parquet file in the exploitation zone for further analysis\n",
    "data.write.parquet(f\"{exploitation_zone}/cleaned_data\")"
   ]
  }
 ],
 "metadata": {
  "kernelspec": {
   "display_name": "new",
   "language": "python",
   "name": "python3"
  },
  "language_info": {
   "codemirror_mode": {
    "name": "ipython",
    "version": 3
   },
   "file_extension": ".py",
   "mimetype": "text/x-python",
   "name": "python",
   "nbconvert_exporter": "python",
   "pygments_lexer": "ipython3",
   "version": "3.10.9"
  }
 },
 "nbformat": 4,
 "nbformat_minor": 5
}
