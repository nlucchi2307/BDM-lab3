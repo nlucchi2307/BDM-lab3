{
 "cells": [
  {
   "cell_type": "code",
   "execution_count": 1,
   "id": "edd58ea5",
   "metadata": {},
   "outputs": [],
   "source": [
    "from pyspark.sql import SparkSession\n",
    "from pyspark.sql.functions import col, when, isnan, isnull, mean, stddev, abs as spark_abs\n",
    "from pyspark.sql.types import DoubleType\n",
    "from pyspark.ml.feature import StringIndexer, OneHotEncoder, VectorAssembler\n",
    "from pyspark.ml import Pipeline"
   ]
  },
  {
   "cell_type": "code",
   "execution_count": 2,
   "id": "fa071fd3",
   "metadata": {},
   "outputs": [
    {
     "name": "stderr",
     "output_type": "stream",
     "text": [
      "WARNING: Using incubator modules: jdk.incubator.vector\n",
      "Using Spark's default log4j profile: org/apache/spark/log4j2-defaults.properties\n",
      "25/06/23 11:56:21 WARN Utils: Your hostname, MacBook-Air.local, resolves to a loopback address: 127.0.0.1; using 192.168.1.134 instead (on interface en0)\n",
      "25/06/23 11:56:21 WARN Utils: Set SPARK_LOCAL_IP if you need to bind to another address\n",
      "Using Spark's default log4j profile: org/apache/spark/log4j2-defaults.properties\n",
      "Setting default log level to \"WARN\".\n",
      "To adjust logging level use sc.setLogLevel(newLevel). For SparkR, use setLogLevel(newLevel).\n",
      "25/06/23 11:56:22 WARN NativeCodeLoader: Unable to load native-hadoop library for your platform... using builtin-java classes where applicable\n",
      "25/06/23 11:56:22 WARN Utils: Service 'SparkUI' could not bind on port 4040. Attempting port 4041.\n"
     ]
    }
   ],
   "source": [
    "# set a Spark session\n",
    "spark = SparkSession.builder \\\n",
    "    .appName(\"DataExploitation\") \\\n",
    "    .master(\"local[*]\") \\\n",
    "    .getOrCreate()"
   ]
  },
  {
   "cell_type": "code",
   "execution_count": 3,
   "id": "de75c6df",
   "metadata": {},
   "outputs": [],
   "source": [
    "# set the paths for the input and output data\n",
    "formatted_zone = (\"formatted_zone\")\n",
    "exploitation_zone = (\"exploitation_zone\")"
   ]
  },
  {
   "cell_type": "code",
   "execution_count": 4,
   "id": "13bad64d",
   "metadata": {},
   "outputs": [],
   "source": [
    "# load data previously formatted\n",
    "data = spark.read.option(\"multiline\", True).parquet(f\"{formatted_zone}/formatted_data\")"
   ]
  },
  {
   "cell_type": "code",
   "execution_count": 5,
   "id": "805653f6",
   "metadata": {},
   "outputs": [
    {
     "name": "stderr",
     "output_type": "stream",
     "text": [
      "25/06/23 11:56:24 WARN SparkStringUtils: Truncated the string representation of a plan since it was too large. This behavior can be adjusted by setting 'spark.sql.debug.maxToStringFields'.\n"
     ]
    },
    {
     "name": "stdout",
     "output_type": "stream",
     "text": [
      "+-----------------+-----------------+--------------------+---------+-------+-----------------+--------+--------+-----+------+---------+-------+-------+----------+--------+----------+---------+------------+--------------+----------------------+---------+---------+------------+--------+-----------+------------+------------+---------+-----+-----------+-----+------+--------------------+-----------------+-------------------------+---------------+\n",
      "| Poblacio_average|Index_RFD_average|             address|bathrooms|country|     detailedType|distance|exterior|floor|has360|has3DTour|hasLift|hasPlan|hasStaging|hasVideo|  latitude|longitude|municipality|newDevelopment|newDevelopmentFinished|numPhotos|operation|parkingSpace|   price|priceByArea|propertyCode|propertyType| province|rooms|showAddress| size|status|      suggestedTexts|topNewDevelopment|neighborhood_n_reconciled|neighborhood_id|\n",
      "+-----------------+-----------------+--------------------+---------+-------+-----------------+--------+--------+-----+------+---------+-------+-------+----------+--------+----------+---------+------------+--------------+----------------------+---------+---------+------------+--------+-----------+------------+------------+---------+-----+-----------+-----+------+--------------------+-----------------+-------------------------+---------------+\n",
      "|38300.72727272727|99.94545454545455|Calle del Comte B...|        1|     es|     {NULL, flat}|    3225|    true|    3| false|    false|   true|   true|     false|    true|41.3767442|  2.16016|   Barcelona|         false|                  NULL|       15|     sale|        NULL|180000.0|     3673.0|    92660566|        flat|Barcelona|    1|      false| 49.0| renew|{Sant Antoni, Bar...|            false|              Sant Antoni|        Q720994|\n",
      "|38300.72727272727|99.94545454545455|Calle del Comte B...|        1|     es|     {NULL, flat}|    3225|    true|    3| false|    false|   true|   true|     false|    true|41.3767442|  2.16016|   Barcelona|         false|                  NULL|       15|     sale|        NULL|180000.0|     3673.0|    92660566|        flat|Barcelona|    1|      false| 49.0| renew|{Sant Antoni, Bar...|            false|              Sant Antoni|        Q720994|\n",
      "|41356.72727272727|87.79999999999998|    Calle de Gayarre|        1|     es|{penthouse, flat}|    2211|    true|    3| false|    false|  false|   true|     false|   false|41.3754233|2.1415043|   Barcelona|         false|                  NULL|       25|     sale|        NULL|259000.0|     3364.0|    91322887|   penthouse|Barcelona|    4|      false| 77.0| renew|{Sants, Barcelona...|            false|                    Sants|       Q2476184|\n",
      "|41356.72727272727|87.79999999999998|    Calle de Gayarre|        1|     es|{penthouse, flat}|    2211|    true|    3| false|    false|  false|   true|     false|   false|41.3754233|2.1415043|   Barcelona|         false|                  NULL|       25|     sale|        NULL|259000.0|     3364.0|    91322887|   penthouse|Barcelona|    4|      false| 77.0| renew|{Sants, Barcelona...|            false|                    Sants|       Q2476184|\n",
      "|38300.72727272727|99.94545454545455|Calle de Floridab...|        1|     es|     {NULL, flat}|    3169|    true|    1| false|    false|  false|   true|     false|    true|41.3769193| 2.158997|   Barcelona|         false|                  NULL|       18|     sale|        NULL|360000.0|     4932.0|    92439905|        flat|Barcelona|    2|      false| 73.0|  good|{Sant Antoni, Bar...|            false|              Sant Antoni|        Q720994|\n",
      "|38300.72727272727|99.94545454545455|Calle de Floridab...|        1|     es|     {NULL, flat}|    3169|    true|    1| false|    false|  false|   true|     false|    true|41.3769193| 2.158997|   Barcelona|         false|                  NULL|       18|     sale|        NULL|360000.0|     4932.0|    92439905|        flat|Barcelona|    2|      false| 73.0|  good|{Sant Antoni, Bar...|            false|              Sant Antoni|        Q720994|\n",
      "|41356.72727272727|87.79999999999998|      Calle de Salou|        1|     es|     {NULL, flat}|    1995|   false| NULL| false|    false|  false|  false|     false|   false|41.3743823|2.1370858|   Barcelona|         false|                  NULL|       16|     sale|        NULL|292900.0|     3708.0|    91977656|        flat|Barcelona|    1|      false| 79.0|  good|{Sants, Barcelona...|            false|                    Sants|       Q2476184|\n",
      "|41356.72727272727|87.79999999999998|      Calle de Salou|        1|     es|     {NULL, flat}|    1995|   false| NULL| false|    false|  false|  false|     false|   false|41.3743823|2.1370858|   Barcelona|         false|                  NULL|       16|     sale|        NULL|292900.0|     3708.0|    91977656|        flat|Barcelona|    1|      false| 79.0|  good|{Sants, Barcelona...|            false|                    Sants|       Q2476184|\n",
      "|          15950.0|81.16363636363637|       Princep Jordi|        1|     es|     {NULL, flat}|    2343|    true|    2| false|    false|   true|  false|     false|   false|41.3747687|2.1467931|   Barcelona|         false|                  NULL|       32|     sale|        NULL|363000.0|     5585.0|    90590813|        flat|Barcelona|    3|      false| 65.0|  good|{Hostafrancs, Bar...|            false|              Hostafrancs|       Q3750929|\n",
      "|          15950.0|81.16363636363637|       Princep Jordi|        1|     es|     {NULL, flat}|    2343|    true|    2| false|    false|   true|  false|     false|   false|41.3747687|2.1467931|   Barcelona|         false|                  NULL|       32|     sale|        NULL|363000.0|     5585.0|    90590813|        flat|Barcelona|    3|      false| 65.0|  good|{Hostafrancs, Bar...|            false|              Hostafrancs|       Q3750929|\n",
      "|41356.72727272727|87.79999999999998|    Calle de Galileu|        2|     es|   {duplex, flat}|    1974|    true|   bj|  true|    false|   true|   true|     false|   false| 41.374492|2.1346902|   Barcelona|         false|                  NULL|       34|     sale|        NULL|375000.0|     3049.0|    93039340|      duplex|Barcelona|    3|      false|123.0|  good|{Sants, Barcelona...|            false|                    Sants|       Q2476184|\n",
      "|41356.72727272727|87.79999999999998|    Calle de Galileu|        2|     es|   {duplex, flat}|    1974|    true|   bj|  true|    false|   true|   true|     false|   false| 41.374492|2.1346902|   Barcelona|         false|                  NULL|       34|     sale|        NULL|375000.0|     3049.0|    93039340|      duplex|Barcelona|    3|      false|123.0|  good|{Sants, Barcelona...|            false|                    Sants|       Q2476184|\n",
      "|38300.72727272727|99.94545454545455|Avenida del Paral...|        2|     es|     {NULL, flat}|    2999|    true|    3| false|    false|   true|  false|     false|   false|41.3770463|2.1558573|   Barcelona|         false|                  NULL|       22|     sale|        NULL|460000.0|     4792.0|    92890308|        flat|Barcelona|    3|      false| 96.0|  good|{Sant Antoni, Bar...|            false|              Sant Antoni|        Q720994|\n",
      "|38300.72727272727|99.94545454545455|Avenida del Paral...|        2|     es|     {NULL, flat}|    2999|    true|    3| false|    false|   true|  false|     false|   false|41.3770463|2.1558573|   Barcelona|         false|                  NULL|       22|     sale|        NULL|460000.0|     4792.0|    92890308|        flat|Barcelona|    3|      false| 96.0|  good|{Sant Antoni, Bar...|            false|              Sant Antoni|        Q720994|\n",
      "|          15950.0|81.16363636363637|Calle de la Creu ...|        2|     es|     {NULL, flat}|    2216|    true|    2| false|    false|  false|  false|     false|   false|41.3750789|2.1427755|   Barcelona|         false|                  NULL|       23|     sale|        NULL|290000.0|     3053.0|    91880123|        flat|Barcelona|    3|       true| 95.0|  good|{Hostafrancs, Bar...|            false|              Hostafrancs|       Q3750929|\n",
      "|          15950.0|81.16363636363637|Calle de la Creu ...|        2|     es|     {NULL, flat}|    2216|    true|    2| false|    false|  false|  false|     false|   false|41.3750789|2.1427755|   Barcelona|         false|                  NULL|       23|     sale|        NULL|290000.0|     3053.0|    91880123|        flat|Barcelona|    3|       true| 95.0|  good|{Hostafrancs, Bar...|            false|              Hostafrancs|       Q3750929|\n",
      "|38300.72727272727|99.94545454545455|   Calle de Calàbria|        1|     es|     {NULL, flat}|    3042|    true|    2| false|    false|   true|   true|     false|    true|41.3784507|2.1543931|   Barcelona|         false|                  NULL|       18|     sale|        NULL|495000.0|     5323.0|    91594209|        flat|Barcelona|    3|      false| 93.0|  good|{Sant Antoni, Bar...|            false|              Sant Antoni|        Q720994|\n",
      "|38300.72727272727|99.94545454545455|   Calle de Calàbria|        1|     es|     {NULL, flat}|    3042|    true|    2| false|    false|   true|   true|     false|    true|41.3784507|2.1543931|   Barcelona|         false|                  NULL|       18|     sale|        NULL|495000.0|     5323.0|    91594209|        flat|Barcelona|    3|      false| 93.0|  good|{Sant Antoni, Bar...|            false|              Sant Antoni|        Q720994|\n",
      "|41356.72727272727|87.79999999999998|        barrio Sants|        1|     es|     {NULL, flat}|    2596|    true|    1| false|    false|   true|  false|     false|   false|41.3801594|2.1338503|   Barcelona|         false|                  NULL|       11|     sale|        NULL|139000.0|     1738.0|    91658110|        flat|Barcelona|    4|      false| 80.0|  good|{Sants, Barcelona...|            false|                    Sants|       Q2476184|\n",
      "|41356.72727272727|87.79999999999998|        barrio Sants|        1|     es|     {NULL, flat}|    2596|    true|    1| false|    false|   true|  false|     false|   false|41.3801594|2.1338503|   Barcelona|         false|                  NULL|       11|     sale|        NULL|139000.0|     1738.0|    91658110|        flat|Barcelona|    4|      false| 80.0|  good|{Sants, Barcelona...|            false|                    Sants|       Q2476184|\n",
      "+-----------------+-----------------+--------------------+---------+-------+-----------------+--------+--------+-----+------+---------+-------+-------+----------+--------+----------+---------+------------+--------------+----------------------+---------+---------+------------+--------+-----------+------------+------------+---------+-----+-----------+-----+------+--------------------+-----------------+-------------------------+---------------+\n",
      "only showing top 20 rows\n"
     ]
    }
   ],
   "source": [
    "data.show()"
   ]
  },
  {
   "cell_type": "code",
   "execution_count": 6,
   "id": "59c88360",
   "metadata": {},
   "outputs": [],
   "source": [
    "# clean numerical features: if price, size, or priceByArea are null or less than or equal to zero (=probably errors),\n",
    "# set them to None. When instead they are valid, cast them to DoubleType (as anyways VectorAssembler would convert \n",
    "# to this type)\n",
    "data_features = data.withColumn(\n",
    "    \"price_clean\", \n",
    "    when(col(\"price\").isNull() | (col(\"price\") <= 0), None).otherwise(col(\"price\").cast(DoubleType()))\n",
    ").withColumn(\n",
    "    \"size_clean\",\n",
    "    when(col(\"size\").isNull() | (col(\"size\") <= 0), None).otherwise(col(\"size\").cast(DoubleType()))\n",
    ").withColumn(\n",
    "    \"priceByArea_clean\",\n",
    "    when(col(\"priceByArea\").isNull() | (col(\"priceByArea\") <= 0), None).otherwise(col(\"priceByArea\").cast(DoubleType())))"
   ]
  },
  {
   "cell_type": "code",
   "execution_count": 8,
   "id": "22e8bcbd",
   "metadata": {},
   "outputs": [],
   "source": [
    "# create categorical features for size, income, and rooms\n",
    "data_features = data_features.withColumn(\n",
    "    \"size_category\",\n",
    "    when(col(\"size_clean\") <= 50, \"small\")\n",
    "    .when(col(\"size_clean\") <= 100, \"medium\") \n",
    "    .when(col(\"size_clean\") <= 150, \"large\")\n",
    "    .otherwise(\"extra_large\")\n",
    ").withColumn(\n",
    "    \"income_category\", \n",
    "    when(col(\"Index_RFD_average\") <= 70, \"low_income\")\n",
    "    .when(col(\"Index_RFD_average\") <= 100, \"medium_income\")\n",
    "    .when(col(\"Index_RFD_average\") <= 130, \"high_income\") \n",
    "    .otherwise(\"very_high_income\")\n",
    ").withColumn(\n",
    "    \"rooms_category\",\n",
    "    when(col(\"rooms\") <= 2, \"small\")\n",
    "    .when(col(\"rooms\") <= 4, \"medium\")\n",
    "    .otherwise(\"large\"))"
   ]
  },
  {
   "cell_type": "code",
   "execution_count": 9,
   "id": "41d880c3",
   "metadata": {},
   "outputs": [],
   "source": [
    "# try to convert floor to numeric when possible\n",
    "data_features = data_features.withColumn(\n",
    "    \"floor_numeric\",\n",
    "    when(col(\"floor\").rlike(\"^\\\\d+$\"), col(\"floor\").cast(\"int\")).otherwise(0))"
   ]
  },
  {
   "cell_type": "code",
   "execution_count": 10,
   "id": "b35332d9",
   "metadata": {},
   "outputs": [],
   "source": [
    "# create binary features for parking, exterior, and lift availability\n",
    "data_features = data_features.withColumn(\n",
    "    \"has_parking\", \n",
    "    when(col(\"parkingSpace\").isNotNull(), 1).otherwise(0)\n",
    ").withColumn(\n",
    "    \"is_exterior\",\n",
    "    when(col(\"exterior\") == True, 1).otherwise(0)\n",
    ").withColumn(\n",
    "    \"has_lift_binary\",\n",
    "    when(col(\"hasLift\") == True, 1).otherwise(0))"
   ]
  },
  {
   "cell_type": "code",
   "execution_count": 12,
   "id": "01f72dd5",
   "metadata": {},
   "outputs": [
    {
     "name": "stdout",
     "output_type": "stream",
     "text": [
      "removed 92 outliers\n"
     ]
    }
   ],
   "source": [
    "# detect and remove outliers \n",
    "price_stats = data_features.select(\n",
    "    mean(\"price_clean\").alias(\"price_mean\"),\n",
    "    stddev(\"price_clean\").alias(\"price_std\")\n",
    ").collect()[0]\n",
    "\n",
    "size_stats = data_features.select(\n",
    "    mean(\"size_clean\").alias(\"size_mean\"), \n",
    "    stddev(\"size_clean\").alias(\"size_std\")\n",
    ").collect()[0]\n",
    "\n",
    "# remove outliers (beyond 3 standard deviations) \n",
    "price_lower = price_stats[\"price_mean\"] - 3 * price_stats[\"price_std\"] \n",
    "price_upper = price_stats[\"price_mean\"] + 3 * price_stats[\"price_std\"]\n",
    "size_lower = size_stats[\"size_mean\"] - 3 * size_stats[\"size_std\"]\n",
    "size_upper = size_stats[\"size_mean\"] + 3 * size_stats[\"size_std\"]\n",
    "\n",
    "data_cleaned = data_features.filter(\n",
    "    (col(\"price_clean\").between(price_lower, price_upper)) &\n",
    "    (col(\"size_clean\").between(size_lower, size_upper)) &\n",
    "    (col(\"price_clean\").isNotNull()) &\n",
    "    (col(\"size_clean\").isNotNull()) &\n",
    "    (col(\"Index_RFD_average\").isNotNull()) &\n",
    "    (col(\"neighborhood_n_reconciled\").isNotNull()))\n",
    "\n",
    "print(f\"removed {data.count() - data_cleaned.count()} outliers\")"
   ]
  },
  {
   "cell_type": "code",
   "execution_count": 13,
   "id": "842af80c",
   "metadata": {},
   "outputs": [],
   "source": [
    "# convert all numerical columns to DoubleType - same reason as above \n",
    "data_cleaned = data_cleaned.withColumn(\"distance\", col(\"distance\").cast(DoubleType())) \\\n",
    "    .withColumn(\"numPhotos\", col(\"numPhotos\").cast(DoubleType())) \\\n",
    "    .withColumn(\"rooms\", col(\"rooms\").cast(DoubleType())) \\\n",
    "    .withColumn(\"bathrooms\", col(\"bathrooms\").cast(DoubleType())) \\\n",
    "    .withColumn(\"latitude\", col(\"latitude\").cast(DoubleType())) \\\n",
    "    .withColumn(\"longitude\", col(\"longitude\").cast(DoubleType()))"
   ]
  },
  {
   "cell_type": "code",
   "execution_count": 18,
   "id": "45d11e0b",
   "metadata": {},
   "outputs": [],
   "source": [
    "# define the features we will use for prediction\n",
    "numerical_features = [\n",
    "    \"size_clean\", \"rooms\", \"bathrooms\", \"Index_RFD_average\", \"Poblacio_average\",\n",
    "    \"latitude\", \"longitude\", \"distance\", \"numPhotos\", \"floor_numeric\",\n",
    "    \"has_parking\", \"is_exterior\", \"has_lift_binary\"]\n",
    "\n",
    "# handle boolean columns - convert to integer, and then VectorAssembler will convert to DoubleType\n",
    "for bool_col in [\"has360\", \"has3DTour\", \"hasVideo\", \"hasPlan\", \"newDevelopment\"]:\n",
    "    data_cleaned = data_cleaned.withColumn(bool_col + \"_int\", when(col(bool_col) == True, 1).otherwise(0))\n",
    "    numerical_features.append(bool_col + \"_int\")\n",
    "\n",
    "# handle categorical features by doing string indexing and one-hot encoding\n",
    "categorical_features = [\n",
    "    \"propertyType\", \"size_category\", \"income_category\", \"rooms_category\",\n",
    "    \"neighborhood_n_reconciled\", \"status\", \"operation\"]\n",
    "\n",
    "# create string indexers for categorical variables\n",
    "indexers = []\n",
    "for cat_col in categorical_features:\n",
    "    indexer = StringIndexer(inputCol=cat_col, outputCol=f\"{cat_col}_indexed\", handleInvalid=\"keep\")\n",
    "    indexers.append(indexer)\n",
    "\n",
    "# create one-hot encoders  \n",
    "encoders = []\n",
    "encoded_cols = []\n",
    "for cat_col in categorical_features:\n",
    "    encoder = OneHotEncoder(inputCol=f\"{cat_col}_indexed\", outputCol=f\"{cat_col}_encoded\")\n",
    "    encoders.append(encoder)\n",
    "    encoded_cols.append(f\"{cat_col}_encoded\")"
   ]
  },
  {
   "cell_type": "code",
   "execution_count": 19,
   "id": "b1e70af8",
   "metadata": {},
   "outputs": [
    {
     "name": "stdout",
     "output_type": "stream",
     "text": [
      "Selected 18 numerical features and 7 categorical features\n",
      "ML dataset shape: 2720 rows, 26 columns\n"
     ]
    }
   ],
   "source": [
    "# target variable\n",
    "target_column = \"price_clean\"\n",
    "\n",
    "# select only the columns we need\n",
    "all_features = [target_column] + numerical_features + categorical_features\n",
    "ml_data = data_cleaned.select(all_features)\n",
    "\n",
    "# fill missing values\n",
    "ml_data = ml_data.fillna({\n",
    "    \"floor_numeric\": 0,\n",
    "    \"numPhotos\": 0,\n",
    "    \"distance\": 0.0,\n",
    "    \"status\": \"unknown\",\n",
    "    \"operation\": \"sale\"})\n",
    "\n",
    "print(f\"Selected {len(numerical_features)} numerical features and {len(categorical_features)} categorical features\")\n",
    "print(f\"ML dataset shape: {ml_data.count()} rows, {len(all_features)} columns\")"
   ]
  },
  {
   "cell_type": "code",
   "execution_count": 20,
   "id": "4354e4f1",
   "metadata": {},
   "outputs": [],
   "source": [
    "# combine all feature columns for VectorAssembler\n",
    "all_feature_cols = numerical_features + encoded_cols\n",
    "\n",
    "# assemble all features into a single vector - which is the input for ML algorithms\n",
    "assembler = VectorAssembler(inputCols=all_feature_cols, outputCol=\"features\")\n",
    "\n",
    "# create preprocessing pipeline\n",
    "pipeline_stages = indexers + encoders + [assembler]\n",
    "preprocessing_pipeline = Pipeline(stages=pipeline_stages)"
   ]
  },
  {
   "cell_type": "code",
   "execution_count": 21,
   "id": "a3ba4081",
   "metadata": {},
   "outputs": [
    {
     "name": "stdout",
     "output_type": "stream",
     "text": [
      "Train set: 2,198 records\n",
      "Test set: 522 records\n"
     ]
    }
   ],
   "source": [
    "# fit and transform the preprocessing pipeline\n",
    "pipeline_model = preprocessing_pipeline.fit(ml_data)\n",
    "ml_data_processed = pipeline_model.transform(ml_data)\n",
    "\n",
    "# select final columns for ML (target, features, and neighborhood for analysis)\n",
    "final_ml_data = ml_data_processed.select(\"price_clean\", \"features\", \"neighborhood_n_reconciled\")\n",
    "\n",
    "# split data 80/20 for train/test\n",
    "train_data, test_data = final_ml_data.randomSplit([0.8, 0.2], seed=42)\n",
    "\n",
    "print(f\"Train set: {train_data.count():,} records\")\n",
    "print(f\"Test set: {test_data.count():,} records\")"
   ]
  },
  {
   "cell_type": "code",
   "execution_count": 22,
   "id": "a447fdbf",
   "metadata": {},
   "outputs": [
    {
     "name": "stdout",
     "output_type": "stream",
     "text": [
      " missing values in target column ->  train: 0, test: 0\n"
     ]
    }
   ],
   "source": [
    "# check for missing values in target\n",
    "null_targets_train = train_data.filter(col(\"price_clean\").isNull()).count()\n",
    "null_targets_test = test_data.filter(col(\"price_clean\").isNull()).count()\n",
    "\n",
    "print(f\" missing values in target column ->  train: {null_targets_train}, test: {null_targets_test}\")"
   ]
  },
  {
   "cell_type": "code",
   "execution_count": 23,
   "id": "a1cca939",
   "metadata": {},
   "outputs": [],
   "source": [
    "# save train set \n",
    "train_data.write.mode(\"overwrite\").parquet(f\"{exploitation_zone}/train_data\")\n",
    "# save test set \n",
    "test_data.write.mode(\"overwrite\").parquet(f\"{exploitation_zone}/test_data\")\n",
    "# save full processed dataset\n",
    "final_ml_data.write.mode(\"overwrite\").parquet(f\"{exploitation_zone}/ml_ready_data\")\n",
    "# preprocessing pipeline\n",
    "pipeline_model.write().overwrite().save(f\"{exploitation_zone}/preprocessing_pipeline\")\n",
    "\n",
    "spark.stop()"
   ]
  }
 ],
 "metadata": {
  "kernelspec": {
   "display_name": "new",
   "language": "python",
   "name": "python3"
  },
  "language_info": {
   "codemirror_mode": {
    "name": "ipython",
    "version": 3
   },
   "file_extension": ".py",
   "mimetype": "text/x-python",
   "name": "python",
   "nbconvert_exporter": "python",
   "pygments_lexer": "ipython3",
   "version": "3.10.9"
  }
 },
 "nbformat": 4,
 "nbformat_minor": 5
}
