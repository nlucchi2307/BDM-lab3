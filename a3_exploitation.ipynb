{
 "cells": [
  {
   "cell_type": "code",
   "execution_count": 1,
   "id": "ce4d11ee",
   "metadata": {},
   "outputs": [],
   "source": [
    "import os\n",
    "\n",
    "# Set HADOOP_HOME to the parent folder of the 'bin' with winutils.exe\n",
    "os.environ[\"HADOOP_HOME\"] = r\"C:\\winutils-master\\hadoop-3.0.0\"\n",
    "os.environ[\"PATH\"] += r\";C:\\winutils-master\\hadoop-3.0.0\\bin\"\n",
    "\n",
    "# (Optional: Set JAVA_HOME if not already set)\n",
    "os.environ[\"JAVA_HOME\"] = r\"C:\\Program Files\\Eclipse Adoptium\\jdk-17.0.15.6-hotspot\""
   ]
  },
  {
   "cell_type": "code",
   "execution_count": 2,
   "id": "edd58ea5",
   "metadata": {},
   "outputs": [],
   "source": [
    "from pyspark.sql import SparkSession\n",
    "from pyspark.sql.functions import col, when, isnan, isnull, mean, stddev, abs as spark_abs\n",
    "from pyspark.sql.types import DoubleType\n",
    "from pyspark.ml.feature import StringIndexer, OneHotEncoder, VectorAssembler\n",
    "from pyspark.ml import Pipeline"
   ]
  },
  {
   "cell_type": "code",
   "execution_count": 3,
   "id": "fa071fd3",
   "metadata": {},
   "outputs": [],
   "source": [
    "# set a Spark session\n",
    "spark = SparkSession.builder \\\n",
    "    .appName(\"DataExploitation\") \\\n",
    "    .master(\"local[*]\") \\\n",
    "    .getOrCreate()"
   ]
  },
  {
   "cell_type": "code",
   "execution_count": 4,
   "id": "de75c6df",
   "metadata": {},
   "outputs": [],
   "source": [
    "# set the paths for the input and output data\n",
    "formatted_zone = (\"formatted_zone\")\n",
    "exploitation_zone = (\"exploitation_zone\")"
   ]
  },
  {
   "cell_type": "code",
   "execution_count": 5,
   "id": "13bad64d",
   "metadata": {},
   "outputs": [],
   "source": [
    "# load data previously formatted\n",
    "data = spark.read.option(\"multiline\", True).parquet(f\"{formatted_zone}/formatted_data\")"
   ]
  },
  {
   "cell_type": "code",
   "execution_count": 6,
   "id": "805653f6",
   "metadata": {},
   "outputs": [
    {
     "name": "stdout",
     "output_type": "stream",
     "text": [
      "+---------+--------+-------------------+--------+-----+------+---------+-------+-------+----------+--------+----------+---------+--------------------+--------------+----------------------+---------+------------------+---------+-----------+------------+------------+-----+-----------+-----+------+-----------------+---------------+------------------+------------------+\n",
      "|bathrooms|distance|           district|exterior|floor|has360|has3DTour|hasLift|hasPlan|hasStaging|hasVideo|  latitude|longitude|        neighborhood|newDevelopment|newDevelopmentFinished|numPhotos|      parkingSpace|    price|priceByArea|propertyCode|propertyType|rooms|showAddress| size|status|topNewDevelopment|neighborhood_id|   Index_RFD_media|    Poblacio_media|\n",
      "+---------+--------+-------------------+--------+-----+------+---------+-------+-------+----------+--------+----------+---------+--------------------+--------------+----------------------+---------+------------------+---------+-----------+------------+------------+-----+-----------+-----+------+-----------------+---------------+------------------+------------------+\n",
      "|        5|    2444|Sarrià-Sant Gervasi|   false| NULL| false|    false|   NULL|  false|     false|   false|41.4118644|2.1076647|Vallvidrera - El ...|         false|                  NULL|       12|{true, true, NULL}|2750000.0|     3438.0|     1394150|      chalet|    6|      false|800.0|  good|            false|       Q3310216|             159.7| 4422.727272727273|\n",
      "|        2|    2249|Sarrià-Sant Gervasi|   false| NULL| false|    false|   NULL|   true|     false|    true|41.4254327|2.1016874|Vallvidrera - El ...|         false|                  NULL|       32|{true, true, NULL}| 510000.0|     2550.0|    25435010|      chalet|    4|      false|200.0|  good|            false|       Q3310216|             159.7| 4422.727272727273|\n",
      "|        4|     468|Sarrià-Sant Gervasi|   false|   bj| false|    false|   NULL|   true|     false|   false|41.4135558|2.1296544|Sant Gervasi - La...|         false|                  NULL|        9|{true, true, NULL}|3730000.0|     7597.0|    25868030|      chalet|    9|      false|491.0|  good|            false|       Q3321657|186.79090909090908|24792.545454545456|\n",
      "|        5|    1685|Sarrià-Sant Gervasi|   false| NULL| false|    false|   NULL|  false|     false|   false|41.4253985|2.0929354|Vallvidrera - El ...|         false|                  NULL|       23|{true, true, NULL}|1750000.0|     3205.0|    27869059|      chalet|    6|      false|546.0|  good|            false|       Q3310216|             159.7| 4422.727272727273|\n",
      "|        2|     439|             Gràcia|    true|    1| false|    false|   true|  false|     false|    true|41.4092016|2.1587664|El Camp d'En Gras...|         false|                  NULL|       21|              NULL| 349000.0|     3878.0|    29369498|        flat|    4|      false| 90.0|  good|            false|       Q2994821|102.44545454545455|           34472.0|\n",
      "|        2|     466|           Eixample|    true|    4|  true|    false|   true|  false|     false|   false|41.3883547| 2.175292|La Dreta de l'Eix...|         false|                  NULL|       22|              NULL|2500000.0|     7862.0|    29714252|        flat|    3|      false|318.0|  good|            false|       Q1904302|155.25454545454548| 43410.36363636364|\n",
      "|        4|     526|Sarrià-Sant Gervasi|   false| NULL| false|    false|   NULL|   true|     false|    true|41.4133508|2.1304364|Sant Gervasi - La...|         false|                  NULL|       19|              NULL|3750000.0|     7576.0|    30538104|      chalet|   12|      false|495.0|  good|            false|       Q3321657|186.79090909090908|24792.545454545456|\n",
      "|        1|     377|Sarrià-Sant Gervasi|   false| NULL| false|    false|   NULL|  false|     false|   false|41.4149558|2.1300544|Sant Gervasi - La...|         false|                  NULL|       25|              NULL|3750000.0|     6818.0|    31171106|      chalet|    1|      false|550.0|  good|            false|       Q3321657|186.79090909090908|24792.545454545456|\n",
      "|        1|     820|     Sants-Montjuïc|    true|    5| false|    false|   true|  false|     false|   false|41.3628229|2.1377974|  La Marina del Port|         false|                  NULL|       24|              NULL| 185000.0|     2569.0|    31262745|        flat|    3|      false| 72.0|  good|            false|       Q3751076| 72.42727272727271| 30139.18181818182|\n",
      "|        4|     575|Sarrià-Sant Gervasi|   false| NULL| false|    false|   NULL|  false|     false|   false|41.4149093|2.1327563|Sant Gervasi - La...|         false|                  NULL|       37|              NULL|3800000.0|     5621.0|    31467524|      chalet|   11|      false|676.0|  good|            false|       Q3321657|186.79090909090908|24792.545454545456|\n",
      "|        5|     829|Sarrià-Sant Gervasi|   false| NULL| false|    false|   NULL|   true|     false|   false|  41.40973|  2.12148|              Sarrià|         false|                  NULL|       15|{true, true, NULL}|3000000.0|     5000.0|    31563299|      chalet|    5|      false|600.0| renew|            false|       Q3043699|185.66363636363639|24255.636363636364|\n",
      "|        5|    2743|Sarrià-Sant Gervasi|   false| NULL| false|    false|   NULL|   true|     false|    true|41.4118001|2.1113062|              Sarrià|         false|                  NULL|       26|{true, true, NULL}|2100000.0|     4200.0|    32037022|      chalet|    5|      false|500.0|  good|            false|       Q3043699|185.66363636363639|24255.636363636364|\n",
      "|        1|    2933|           Eixample|   false|    1| false|    false|   true|  false|     false|   false|41.3776585|2.1536206|         Sant Antoni|         false|                  NULL|       12|              NULL| 319000.0|     1994.0|    32431762|        flat|    2|      false|160.0|  good|            false|        Q720994| 99.94545454545455| 38300.72727272727|\n",
      "|        3|    3169|           Eixample|    true|    2|  true|    false|   true|   true|     false|   false|41.3818376|2.1502826|La Nova Esquerra ...|         false|                  NULL|       11|              NULL| 595000.0|     4250.0|    32719442|        flat|    4|      false|140.0|  good|            false|       Q1026658|110.32727272727271|           58016.0|\n",
      "|        3|     279|       Ciutat Vella|    true|    1| false|    false|   true|  false|     false|   false|41.3883666|2.1728152|            El Gòtic|         false|                  NULL|       34|              NULL| 590000.0|     3933.0|    32851115|        flat|    3|      false|150.0|  good|            false|         Q17154| 98.14545454545454| 18795.81818181818|\n",
      "|        8|     643|Sarrià-Sant Gervasi|   false| NULL| false|    false|   NULL|  false|     false|   false|41.4061366|2.1213645|Sant Gervasi - La...|         false|                  NULL|       32|{true, true, NULL}|2600000.0|     5328.0|    33743918|      chalet|    7|      false|488.0|  good|            false|       Q3321657|186.79090909090908|24792.545454545456|\n",
      "|        5|     250|       Ciutat Vella|    true| NULL| false|    false|   true|  false|     false|   false|41.3848123|2.1707164|            El Gòtic|         false|                  NULL|       29|{true, true, NULL}|1700000.0|     5862.0|    33806860|        flat|    4|      false|290.0|  good|            false|         Q17154| 98.14545454545454| 18795.81818181818|\n",
      "|        6|    2468|Sarrià-Sant Gervasi|   false| NULL|  true|    false|   NULL|  false|     false|    true|41.4152481| 2.108565|Vallvidrera - El ...|         false|                  NULL|       25|              NULL|1850000.0|     4868.0|    33932885|      chalet|    6|      false|380.0|  good|            false|       Q3310216|             159.7| 4422.727272727273|\n",
      "|        7|     363|Sarrià-Sant Gervasi|   false| NULL| false|    false|   NULL|  false|     false|   false| 41.413874|2.1276171|Sant Gervasi - La...|         false|                  NULL|       31|{true, true, NULL}|6800000.0|     7816.0|    34234916|      chalet|    5|      false|870.0|  good|            false|       Q3321657|186.79090909090908|24792.545454545456|\n",
      "|        8|    2993|Sarrià-Sant Gervasi|   false| NULL| false|    false|   NULL|   true|     false|   false|41.4007566|2.1081092|              Sarrià|         false|                  NULL|       38|{true, true, NULL}|3000000.0|     4464.0|    34591620|      chalet|    5|      false|672.0|  good|            false|       Q3043699|185.66363636363639|24255.636363636364|\n",
      "+---------+--------+-------------------+--------+-----+------+---------+-------+-------+----------+--------+----------+---------+--------------------+--------------+----------------------+---------+------------------+---------+-----------+------------+------------+-----+-----------+-----+------+-----------------+---------------+------------------+------------------+\n",
      "only showing top 20 rows\n"
     ]
    }
   ],
   "source": [
    "data.show()"
   ]
  },
  {
   "cell_type": "code",
   "execution_count": 7,
   "id": "59c88360",
   "metadata": {},
   "outputs": [],
   "source": [
    "# clean numerical features: if price, size, or priceByArea are null or less than or equal to zero (=probably errors),\n",
    "# set them to None. When instead they are valid, cast them to DoubleType (as anyways VectorAssembler would convert \n",
    "# to this type)\n",
    "data_features = data.withColumn(\n",
    "    \"price_clean\", \n",
    "    when(col(\"price\").isNull() | (col(\"price\") <= 0), None).otherwise(col(\"price\").cast(DoubleType()))\n",
    ").withColumn(\n",
    "    \"size_clean\",\n",
    "    when(col(\"size\").isNull() | (col(\"size\") <= 0), None).otherwise(col(\"size\").cast(DoubleType()))\n",
    ").withColumn(\n",
    "    \"priceByArea_clean\",\n",
    "    when(col(\"priceByArea\").isNull() | (col(\"priceByArea\") <= 0), None).otherwise(col(\"priceByArea\").cast(DoubleType())))"
   ]
  },
  {
   "cell_type": "code",
   "execution_count": null,
   "id": "22e8bcbd",
   "metadata": {},
   "outputs": [],
   "source": [
    "# create categorical features for size, income, and rooms\n",
    "data_features = data_features.withColumn(\n",
    "    \"size_category\",\n",
    "    when(col(\"size_clean\") <= 50, \"small\")\n",
    "    .when(col(\"size_clean\") <= 100, \"medium\") \n",
    "    .when(col(\"size_clean\") <= 150, \"large\")\n",
    "    .otherwise(\"extra_large\")\n",
    ").withColumn(\n",
    "    \"income_category\", \n",
    "    when(col(\"Index_RFD_average\") <= 70, \"low_income\")\n",
    "    .when(col(\"Index_RFD_average\") <= 100, \"medium_income\")\n",
    "    .when(col(\"Index_RFD_average\") <= 130, \"high_income\") \n",
    "    .otherwise(\"very_high_income\")\n",
    ").withColumn(\n",
    "    \"rooms_category\",\n",
    "    when(col(\"rooms\") <= 2, \"small\")\n",
    "    .when(col(\"rooms\") <= 4, \"medium\")\n",
    "    .otherwise(\"large\"))"
   ]
  },
  {
   "cell_type": "code",
   "execution_count": 9,
   "id": "41d880c3",
   "metadata": {},
   "outputs": [],
   "source": [
    "# try to convert floor to numeric when possible\n",
    "data_features = data_features.withColumn(\n",
    "    \"floor_numeric\",\n",
    "    when(col(\"floor\").rlike(\"^\\\\d+$\"), col(\"floor\").cast(\"int\")).otherwise(0))"
   ]
  },
  {
   "cell_type": "code",
   "execution_count": 10,
   "id": "b35332d9",
   "metadata": {},
   "outputs": [],
   "source": [
    "# create binary features for parking, exterior, and lift availability\n",
    "data_features = data_features.withColumn(\n",
    "    \"has_parking\", \n",
    "    when(col(\"parkingSpace\").isNotNull(), 1).otherwise(0)\n",
    ").withColumn(\n",
    "    \"is_exterior\",\n",
    "    when(col(\"exterior\") == True, 1).otherwise(0)\n",
    ").withColumn(\n",
    "    \"has_lift_binary\",\n",
    "    when(col(\"hasLift\") == True, 1).otherwise(0))"
   ]
  },
  {
   "cell_type": "code",
   "execution_count": 11,
   "id": "01f72dd5",
   "metadata": {},
   "outputs": [
    {
     "name": "stdout",
     "output_type": "stream",
     "text": [
      "removed 112 outliers\n"
     ]
    }
   ],
   "source": [
    "# detect and remove outliers \n",
    "price_stats = data_features.select(\n",
    "    mean(\"price_clean\").alias(\"price_mean\"),\n",
    "    stddev(\"price_clean\").alias(\"price_std\")\n",
    ").collect()[0]\n",
    "\n",
    "size_stats = data_features.select(\n",
    "    mean(\"size_clean\").alias(\"size_mean\"), \n",
    "    stddev(\"size_clean\").alias(\"size_std\")\n",
    ").collect()[0]\n",
    "\n",
    "# remove outliers (beyond 3 standard deviations) \n",
    "price_lower = price_stats[\"price_mean\"] - 3 * price_stats[\"price_std\"] \n",
    "price_upper = price_stats[\"price_mean\"] + 3 * price_stats[\"price_std\"]\n",
    "size_lower = size_stats[\"size_mean\"] - 3 * size_stats[\"size_std\"]\n",
    "size_upper = size_stats[\"size_mean\"] + 3 * size_stats[\"size_std\"]\n",
    "\n",
    "data_cleaned = data_features.filter(\n",
    "    (col(\"price_clean\").between(price_lower, price_upper)) &\n",
    "    (col(\"size_clean\").between(size_lower, size_upper)) &\n",
    "    (col(\"price_clean\").isNotNull()) &\n",
    "    (col(\"size_clean\").isNotNull()) &\n",
    "    (col(\"Index_RFD_average\").isNotNull()) &\n",
    "    (col(\"neighborhood\").isNotNull()))\n",
    "\n",
    "print(f\"removed {data.count() - data_cleaned.count()} outliers\")"
   ]
  },
  {
   "cell_type": "code",
   "execution_count": 12,
   "id": "842af80c",
   "metadata": {},
   "outputs": [],
   "source": [
    "# convert all numerical columns to DoubleType - same reason as above \n",
    "data_cleaned = data_cleaned.withColumn(\"distance\", col(\"distance\").cast(DoubleType())) \\\n",
    "    .withColumn(\"numPhotos\", col(\"numPhotos\").cast(DoubleType())) \\\n",
    "    .withColumn(\"rooms\", col(\"rooms\").cast(DoubleType())) \\\n",
    "    .withColumn(\"bathrooms\", col(\"bathrooms\").cast(DoubleType())) \\\n",
    "    .withColumn(\"latitude\", col(\"latitude\").cast(DoubleType())) \\\n",
    "    .withColumn(\"longitude\", col(\"longitude\").cast(DoubleType()))"
   ]
  },
  {
   "cell_type": "code",
   "execution_count": 13,
   "id": "45d11e0b",
   "metadata": {},
   "outputs": [],
   "source": [
    "# define the features we will use for prediction\n",
    "numerical_features = [\n",
    "    \"size_clean\", \"rooms\", \"bathrooms\", \"Index_RFD_average\", \"Poblacio_average\",\n",
    "    \"latitude\", \"longitude\", \"distance\", \"numPhotos\", \"floor_numeric\",\n",
    "    \"has_parking\", \"is_exterior\", \"has_lift_binary\"]\n",
    "\n",
    "# handle boolean columns - convert to integer, and then VectorAssembler will convert to DoubleType\n",
    "for bool_col in [\"has360\", \"has3DTour\", \"hasVideo\", \"hasPlan\", \"newDevelopment\"]:\n",
    "    data_cleaned = data_cleaned.withColumn(bool_col + \"_int\", when(col(bool_col) == True, 1).otherwise(0))\n",
    "    numerical_features.append(bool_col + \"_int\")\n",
    "\n",
    "# handle categorical features by doing string indexing and one-hot encoding\n",
    "categorical_features = [\n",
    "    \"propertyType\", \"size_category\", \"income_category\", \"rooms_category\",\n",
    "    \"neighborhood\", \"status\"]\n",
    "\n",
    "# create string indexers for categorical variables\n",
    "indexers = []\n",
    "for cat_col in categorical_features:\n",
    "    indexer = StringIndexer(inputCol=cat_col, outputCol=f\"{cat_col}_indexed\", handleInvalid=\"keep\")\n",
    "    indexers.append(indexer)\n",
    "\n",
    "# create one-hot encoders  \n",
    "encoders = []\n",
    "encoded_cols = []\n",
    "for cat_col in categorical_features:\n",
    "    encoder = OneHotEncoder(inputCol=f\"{cat_col}_indexed\", outputCol=f\"{cat_col}_encoded\")\n",
    "    encoders.append(encoder)\n",
    "    encoded_cols.append(f\"{cat_col}_encoded\")"
   ]
  },
  {
   "cell_type": "code",
   "execution_count": 14,
   "id": "b1e70af8",
   "metadata": {},
   "outputs": [
    {
     "name": "stdout",
     "output_type": "stream",
     "text": [
      "Selected 18 numerical features and 6 categorical features\n",
      "ML dataset shape: 3950 rows, 25 columns\n"
     ]
    }
   ],
   "source": [
    "# target variable\n",
    "target_column = \"price_clean\"\n",
    "\n",
    "# select only the columns we need\n",
    "all_features = [target_column] + numerical_features + categorical_features\n",
    "ml_data = data_cleaned.select(all_features)\n",
    "\n",
    "# fill missing values\n",
    "ml_data = ml_data.fillna({\n",
    "    \"floor_numeric\": 0,\n",
    "    \"numPhotos\": 0,\n",
    "    \"distance\": 0.0,\n",
    "    \"status\": \"unknown\"})\n",
    "\n",
    "print(f\"Selected {len(numerical_features)} numerical features and {len(categorical_features)} categorical features\")\n",
    "print(f\"ML dataset shape: {ml_data.count()} rows, {len(all_features)} columns\")"
   ]
  },
  {
   "cell_type": "code",
   "execution_count": 15,
   "id": "4354e4f1",
   "metadata": {},
   "outputs": [],
   "source": [
    "# combine all feature columns for VectorAssembler\n",
    "all_feature_cols = numerical_features + encoded_cols\n",
    "\n",
    "# assemble all features into a single vector - which is the input for ML algorithms\n",
    "assembler = VectorAssembler(inputCols=all_feature_cols, outputCol=\"features\")\n",
    "\n",
    "# create preprocessing pipeline\n",
    "pipeline_stages = indexers + encoders + [assembler]\n",
    "preprocessing_pipeline = Pipeline(stages=pipeline_stages)"
   ]
  },
  {
   "cell_type": "code",
   "execution_count": 16,
   "id": "a3ba4081",
   "metadata": {},
   "outputs": [
    {
     "name": "stdout",
     "output_type": "stream",
     "text": [
      "Train set: 3,219 records\n",
      "Test set: 731 records\n"
     ]
    }
   ],
   "source": [
    "# fit and transform the preprocessing pipeline\n",
    "pipeline_model = preprocessing_pipeline.fit(ml_data)\n",
    "ml_data_processed = pipeline_model.transform(ml_data)\n",
    "\n",
    "# select final columns for ML (target, features, and neighborhood for analysis)\n",
    "final_ml_data = ml_data_processed.select(\"price_clean\", \"features\", \"neighborhood\")\n",
    "\n",
    "# split data 80/20 for train/test\n",
    "train_data, test_data = final_ml_data.randomSplit([0.8, 0.2], seed=42)\n",
    "\n",
    "print(f\"Train set: {train_data.count():,} records\")\n",
    "print(f\"Test set: {test_data.count():,} records\")"
   ]
  },
  {
   "cell_type": "code",
   "execution_count": 17,
   "id": "a447fdbf",
   "metadata": {},
   "outputs": [
    {
     "name": "stdout",
     "output_type": "stream",
     "text": [
      " missing values in target column ->  train: 0, test: 0\n"
     ]
    }
   ],
   "source": [
    "# check for missing values in target\n",
    "null_targets_train = train_data.filter(col(\"price_clean\").isNull()).count()\n",
    "null_targets_test = test_data.filter(col(\"price_clean\").isNull()).count()\n",
    "\n",
    "print(f\" missing values in target column ->  train: {null_targets_train}, test: {null_targets_test}\")"
   ]
  },
  {
   "cell_type": "code",
   "execution_count": 18,
   "id": "a1cca939",
   "metadata": {},
   "outputs": [],
   "source": [
    "# save train set \n",
    "train_data.write.mode(\"overwrite\").parquet(f\"{exploitation_zone}/train_data\")\n",
    "# save test set \n",
    "test_data.write.mode(\"overwrite\").parquet(f\"{exploitation_zone}/test_data\")\n",
    "# save full processed dataset\n",
    "final_ml_data.write.mode(\"overwrite\").parquet(f\"{exploitation_zone}/ml_ready_data\")\n",
    "# preprocessing pipeline\n",
    "pipeline_model.write().overwrite().save(f\"{exploitation_zone}/preprocessing_pipeline\")\n",
    "\n",
    "spark.stop()"
   ]
  }
 ],
 "metadata": {
  "kernelspec": {
   "display_name": "myenv",
   "language": "python",
   "name": "python3"
  },
  "language_info": {
   "codemirror_mode": {
    "name": "ipython",
    "version": 3
   },
   "file_extension": ".py",
   "mimetype": "text/x-python",
   "name": "python",
   "nbconvert_exporter": "python",
   "pygments_lexer": "ipython3",
   "version": "3.9.20"
  }
 },
 "nbformat": 4,
 "nbformat_minor": 5
}
