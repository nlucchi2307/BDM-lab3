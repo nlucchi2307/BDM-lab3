{
 "cells": [
  {
   "cell_type": "markdown",
   "id": "b33a17bd",
   "metadata": {},
   "source": [
    "# Task A"
   ]
  },
  {
   "cell_type": "markdown",
   "id": "51ef1212",
   "metadata": {},
   "source": [
    "The steps performed will be: \n",
    "- A.2 data formatting, which included Idealista data processing, Income data processing, and Lookup data processing, followed by export to parquet in the formatted zone; \n",
    "- A.3 Exploitation: We will perform feature engineering, split the data into train and test sets, and save the resulting datasets in the exploitation zone.\n",
    "\n",
    "- A.4 validation: We will perform validation on the data stored both in the formatted and exploitation zones."
   ]
  },
  {
   "cell_type": "markdown",
   "id": "ebba11fc",
   "metadata": {},
   "source": [
    "## A.2 Data Formatting Process"
   ]
  },
  {
   "cell_type": "markdown",
   "id": "f8d35ed0",
   "metadata": {},
   "source": [
    "Setting system variables location"
   ]
  },
  {
   "cell_type": "code",
   "execution_count": null,
   "id": "4a991ac5",
   "metadata": {},
   "outputs": [],
   "source": [
    "from pyspark.sql import SparkSession\n",
    "from pyspark.sql.functions import col, count, avg, when, array_contains\n",
    "from pyspark.sql import functions as F\n",
    "from IPython.display import Markdown, display"
   ]
  },
  {
   "cell_type": "code",
   "execution_count": 3,
   "id": "f035a9a1",
   "metadata": {},
   "outputs": [],
   "source": [
    "# set a Spark session\n",
    "spark = SparkSession.builder \\\n",
    "    .appName(\"DataFormatting\") \\\n",
    "    .master(\"local[*]\") \\\n",
    "    .getOrCreate()"
   ]
  },
  {
   "cell_type": "code",
   "execution_count": 4,
   "id": "1197b77c",
   "metadata": {},
   "outputs": [],
   "source": [
    "# set the paths for the input and output data\n",
    "landing_zone = (\"landing_zone\")\n",
    "formatted_zone = (\"formatted_zone\")"
   ]
  },
  {
   "cell_type": "code",
   "execution_count": 5,
   "id": "38e37692",
   "metadata": {},
   "outputs": [],
   "source": [
    "# load all files from each folder of the landing zone\n",
    "df_idealista = spark.read.option(\"multiline\", True).json(f\"{landing_zone}/idealista\")\n",
    "df_income = spark.read.option(\"header\", True).csv(f\"{landing_zone}/Income\")\n",
    "df_lookup = spark.read.option(\"header\", True).csv(f\"{landing_zone}/lookup_tables\")"
   ]
  },
  {
   "cell_type": "markdown",
   "id": "109d9afa",
   "metadata": {},
   "source": [
    "### Idealista data"
   ]
  },
  {
   "cell_type": "code",
   "execution_count": 6,
   "id": "e74714fb",
   "metadata": {},
   "outputs": [
    {
     "name": "stdout",
     "output_type": "stream",
     "text": [
      "+--------------------+---------+-------+--------------------+--------+--------------+--------+-----------------+-----+------+---------+-------+-------+----------+--------+----------+---------+--------------------+--------------------+--------------+----------------------+---------+---------+------------------+---------+-----------+------------+------------+---------+-----+-----------+-----+------+--------------------+--------------------+-----------------+--------------------+\n",
      "|             address|bathrooms|country|        detailedType|distance|      district|exterior|externalReference|floor|has360|has3DTour|hasLift|hasPlan|hasStaging|hasVideo|  latitude|longitude|        municipality|        neighborhood|newDevelopment|newDevelopmentFinished|numPhotos|operation|      parkingSpace|    price|priceByArea|propertyCode|propertyType| province|rooms|showAddress| size|status|      suggestedTexts|           thumbnail|topNewDevelopment|                 url|\n",
      "+--------------------+---------+-------+--------------------+--------+--------------+--------+-----------------+-----+------+---------+-------+-------+----------+--------+----------+---------+--------------------+--------------------+--------------+----------------------+---------+---------+------------------+---------+-----------+------------+------------+---------+-----+-----------+-----+------+--------------------+--------------------+-----------------+--------------------+\n",
      "|     Calle de Berlín|        2|     es|        {NULL, flat}|    2937|Sants-Montjuïc|   false|  145VE22REBSIB13|    3| false|     true|   true|   true|     false|   false|41.3829925|2.1370918|           Barcelona|               Sants|         false|                  NULL|       25|     sale|              NULL| 379000.0|     4407.0|    92205752|        flat|Barcelona|    3|      false| 86.0|  good|{Sants, Barcelona...|https://img3.idea...|            false|https://www.ideal...|\n",
      "|barrio Santa Eulàlia|        2|     es|        {NULL, flat}|     606| Santa Eulàlia|    true|            v7272|    5| false|     true|   true|   true|     false|    true|41.3615306|2.1282983|Hospitalet de Llo...|       Santa Eulàlia|         false|                  NULL|       51|     sale|              NULL| 530000.0|     3841.0|    91694960|        flat|Barcelona|    4|      false|138.0|  good|{Santa Eulàlia, H...|https://img3.idea...|            false|https://www.ideal...|\n",
      "|Gran Via de Carle...|        2|     es|        {NULL, flat}|    3161|     Les Corts|    true|             4399|    7|  true|    false|   true|   true|     false|    true|41.3848586|2.1255646|           Barcelona|La Maternitat i S...|         false|                  NULL|       32|     sale|              NULL| 490000.0|     3920.0|    92228558|        flat|Barcelona|    4|      false|125.0| renew|{La Maternitat i ...|https://img3.idea...|            false|https://www.ideal...|\n",
      "|barrio La Marina ...|        2|     es|        {NULL, flat}|     768|Sants-Montjuïc|    true|           230935|    1| false|    false|   true|   true|     false|    true|41.3593648|2.1405988|           Barcelona|  La Marina del Port|         false|                  NULL|       27|     sale|              NULL| 352000.0|     3229.0|    91082776|        flat|Barcelona|    4|      false|109.0|  good|{La Marina del Po...|https://img3.idea...|            false|https://www.ideal...|\n",
      "|   Calle de Calàbria|        2|     es|   {penthouse, flat}|    2990|      Eixample|    true|        VB2010010|    6|  true|    false|   true|   true|     false|    true|41.3747549|2.1587567|           Barcelona|         Sant Antoni|         false|                  NULL|       27|     sale|              NULL| 695000.0|     4427.0|    91312447|   penthouse|Barcelona|    4|      false|157.0|  good|{Sant Antoni, Bar...|https://img3.idea...|            false|https://www.ideal...|\n",
      "|barrio Sants - Badal|        1|     es|        {NULL, flat}|    1990|Sants-Montjuïc|    true|           246454|    1|  true|    false|  false|   true|     false|   false|41.3746552|2.1296516|           Barcelona|       Sants - Badal|         false|                  NULL|       21|     sale|              NULL| 235000.0|     4273.0|    92966417|        flat|Barcelona|    2|      false| 55.0|  good|{Sants - Badal, B...|https://img3.idea...|            false|https://www.ideal...|\n",
      "|barrio Sants - Badal|        1|     es|        {NULL, flat}|    1594|Sants-Montjuïc|    true|           246248|    4|  true|     true|   true|   true|     false|   false|41.3710978|2.1299119|           Barcelona|       Sants - Badal|         false|                  NULL|       25|     sale|              NULL| 210000.0|     3088.0|    92818839|        flat|Barcelona|    4|      false| 68.0|  good|{Sants - Badal, B...|https://img3.idea...|            false|https://www.ideal...|\n",
      "|Calle del Comanda...|        2|     es|   {penthouse, flat}|    2585|     Les Corts|    true|    CB_BCN_0376_V|    9|  true|    false|   true|   true|     false|    true|41.3799546|2.1285386|           Barcelona|La Maternitat i S...|         false|                  NULL|       33|     sale|              NULL| 475000.0|     3831.0|    91903585|   penthouse|Barcelona|    3|      false|124.0|  good|{La Maternitat i ...|https://img3.idea...|            false|https://www.ideal...|\n",
      "|         Calle Major|        5|     es|{semidetachedHous...|    2842|        Centre|   false|             6502| NULL|  true|    false|   NULL|   true|     false|   false| 41.358062|2.0980035|Hospitalet de Llo...|              Centre|         false|                  NULL|       58|     sale|{true, true, NULL}| 625000.0|     2551.0|    91417634|      chalet|Barcelona|    4|      false|245.0|  good|{Centre, Hospital...|https://img3.idea...|            false|https://www.ideal...|\n",
      "|barrio El Poble S...|        1|     es|        {NULL, flat}|    2611|Sants-Montjuïc|    true|        VB2012026|    1|  true|    false|  false|   true|     false|    true|41.3726605|2.1551583|           Barcelona|El Poble Sec - Pa...|         false|                  NULL|       25|     sale|              NULL| 250000.0|     4717.0|    92197943|        flat|Barcelona|    2|      false| 53.0|  good|{El Poble Sec - P...|https://img3.idea...|            false|https://www.ideal...|\n",
      "|barrio La Materni...|        2|     es|        {NULL, flat}|    2509|     Les Corts|    true|        VB2012017|    3|  true|    false|   true|   true|     false|    true|41.3784791|2.1234518|           Barcelona|La Maternitat i S...|         false|                  NULL|       27|     sale|              NULL| 410000.0|     4184.0|    92108611|        flat|Barcelona|    4|      false| 98.0|  good|{La Maternitat i ...|https://img3.idea...|            false|https://www.ideal...|\n",
      "|barrio El Poble S...|        3|     es|        {NULL, flat}|    3069|Sants-Montjuïc|   false|         BCN06428|   bj| false|    false|   true|   true|     false|    true| 41.373318|2.1615491|           Barcelona|El Poble Sec - Pa...|         false|                  NULL|       30|     sale|              NULL| 650000.0|     2851.0|    91279610|        flat|Barcelona|    3|      false|228.0|  good|{El Poble Sec - P...|https://img3.idea...|            false|https://www.ideal...|\n",
      "|   Calle Benavent, 8|        2|     es|        {NULL, flat}|    2413|     Les Corts|    true|              v40|    3|  true|    false|   true|   true|     false|    true|41.3779791|2.1254518|           Barcelona|La Maternitat i S...|         false|                  NULL|       30|     sale|              NULL| 410000.0|     4059.0|    92002091|        flat|Barcelona|    4|       true|101.0|  good|{La Maternitat i ...|https://img3.idea...|            false|https://www.ideal...|\n",
      "|Calle de Sabino A...|        3|     es|        {NULL, flat}|    3161|     Les Corts|    true|          GVVSA38|    2|  true|    false|   true|   true|     false|    true|41.3844759|2.1230717|           Barcelona|La Maternitat i S...|         false|                  NULL|       27|     sale|              NULL| 695000.0|     4760.0|    92811075|        flat|Barcelona|    4|      false|146.0|  good|{La Maternitat i ...|https://img3.idea...|            false|https://www.ideal...|\n",
      "|     Calle d'Entença|        1|     es|        {NULL, flat}|    2997|      Eixample|    true|          836-21V|    3|  true|    false|   true|   true|     false|   false| 41.378928|2.1526336|           Barcelona|La Nova Esquerra ...|         false|                  NULL|       22|     sale|              NULL| 299000.0|     3477.0|    92567198|        flat|Barcelona|    4|      false| 86.0|  good|{La Nova Esquerra...|https://img3.idea...|            false|https://www.ideal...|\n",
      "|  Carretera del Prat|        2|     es|{terracedHouse, c...|     323|Sants-Montjuïc|   false|           B20325| NULL|  true|    false|   NULL|   true|     false|    true|41.3585747|2.1351485|           Barcelona|  La Marina del Port|         false|                  NULL|       44|     sale|{true, true, NULL}|1075000.0|     3644.0|    88129785|      chalet|Barcelona|    5|      false|295.0|  good|{La Marina del Po...|https://img3.idea...|            false|https://www.ideal...|\n",
      "|  barrio Sant Antoni|        2|     es|        {NULL, flat}|    3106|      Eixample|    true|         BCN06476|    6|  true|    false|   true|   true|     false|   false|41.3797156|2.1534071|           Barcelona|         Sant Antoni|         false|                  NULL|       34|     sale|              NULL| 795000.0|     5679.0|    92710736|        flat|Barcelona|    4|      false|140.0|  good|{Sant Antoni, Bar...|https://img3.idea...|            false|https://www.ideal...|\n",
      "|  barrio Sant Antoni|        2|     es|   {penthouse, flat}|    2952|      Eixample|    true|         BCN06427|    6|  true|    false|   true|   true|     false|   false|41.3741549|2.1588567|           Barcelona|         Sant Antoni|         false|                  NULL|       27|     sale|              NULL| 695000.0|     4162.0|    91237754|   penthouse|Barcelona|    4|      false|167.0|  good|{Sant Antoni, Bar...|https://img3.idea...|            false|https://www.ideal...|\n",
      "|barrio La Nova Es...|        2|     es|        {NULL, flat}|    2927|      Eixample|    true|           240866|    5|  true|    false|   true|   true|     false|   false|41.3808537|2.1464343|           Barcelona|La Nova Esquerra ...|         false|                  NULL|       20|     sale|              NULL| 395000.0|     4293.0|    90716884|        flat|Barcelona|    3|      false| 92.0| renew|{La Nova Esquerra...|https://img3.idea...|            false|https://www.ideal...|\n",
      "|barrio El Poble S...|        2|     es|   {penthouse, flat}|    2917|Sants-Montjuïc|    true|          SP115TV|    3|  true|    false|   true|   true|     false|   false|41.3738406|2.1586686|           Barcelona|El Poble Sec - Pa...|         false|                  NULL|       28|     sale|              NULL| 348000.0|     3663.0|    91866036|   penthouse|Barcelona|    3|      false| 95.0|  good|{El Poble Sec - P...|https://img3.idea...|            false|https://www.ideal...|\n",
      "+--------------------+---------+-------+--------------------+--------+--------------+--------+-----------------+-----+------+---------+-------+-------+----------+--------+----------+---------+--------------------+--------------------+--------------+----------------------+---------+---------+------------------+---------+-----------+------------+------------+---------+-----+-----------+-----+------+--------------------+--------------------+-----------------+--------------------+\n",
      "only showing top 20 rows\n"
     ]
    }
   ],
   "source": [
    "df_idealista.show()"
   ]
  },
  {
   "cell_type": "markdown",
   "id": "8df58982",
   "metadata": {},
   "source": [
    "We will only predict price for the Municipality of Barcelona, filtering the data"
   ]
  },
  {
   "cell_type": "code",
   "execution_count": 7,
   "id": "fad7873d",
   "metadata": {},
   "outputs": [],
   "source": [
    "df_idealista = df_idealista.filter(F.col(\"municipality\") == \"Barcelona\")"
   ]
  },
  {
   "cell_type": "markdown",
   "id": "e280dac1",
   "metadata": {},
   "source": [
    "We will check next how many rows we have in our data frame"
   ]
  },
  {
   "cell_type": "code",
   "execution_count": 8,
   "id": "b25325a8",
   "metadata": {},
   "outputs": [
    {
     "name": "stdout",
     "output_type": "stream",
     "text": [
      "7856\n"
     ]
    }
   ],
   "source": [
    "n_rows = df_idealista.count()\n",
    "print(n_rows)"
   ]
  },
  {
   "cell_type": "markdown",
   "id": "9aa00e43",
   "metadata": {},
   "source": [
    "For our specific task, we want to include only unique properties, so we will also check for duplicates next"
   ]
  },
  {
   "cell_type": "code",
   "execution_count": null,
   "id": "ad8dcba0",
   "metadata": {},
   "outputs": [
    {
     "name": "stdout",
     "output_type": "stream",
     "text": [
      "+------------+-----------+\n",
      "|propertyCode|occurrences|\n",
      "+------------+-----------+\n",
      "|90204735    |5          |\n",
      "|92524329    |6          |\n",
      "|91622667    |4          |\n",
      "|91358097    |3          |\n",
      "|87258588    |4          |\n",
      "|91903585    |12         |\n",
      "|91901786    |9          |\n",
      "|92771991    |5          |\n",
      "|91560330    |4          |\n",
      "|92108611    |10         |\n",
      "|92411589    |2          |\n",
      "|92557089    |2          |\n",
      "|87265378    |3          |\n",
      "|92962742    |6          |\n",
      "|40084649    |2          |\n",
      "|92474319    |3          |\n",
      "|91566532    |2          |\n",
      "|88667699    |4          |\n",
      "|88863152    |4          |\n",
      "|91671895    |3          |\n",
      "+------------+-----------+\n",
      "only showing top 20 rows\n"
     ]
    }
   ],
   "source": [
    "df_idealista.groupBy(\"propertyCode\") \\\n",
    "    .agg(count(\"*\").alias(\"occurrences\")) \\\n",
    "    .filter(\"occurrences > 1\") \\\n",
    "    .show(truncate=False)"
   ]
  },
  {
   "cell_type": "code",
   "execution_count": null,
   "id": "ddd89572",
   "metadata": {},
   "outputs": [
    {
     "data": {
      "text/markdown": [
       "We identified **1389** duplicated properties in our data."
      ],
      "text/plain": [
       "<IPython.core.display.Markdown object>"
      ]
     },
     "metadata": {},
     "output_type": "display_data"
    }
   ],
   "source": [
    "n_duplicates = (\n",
    "    df_idealista\n",
    "    .groupBy(\"propertyCode\") \n",
    "    .agg(count(\"*\").alias(\"occurrences\"))\n",
    "    .filter(\"occurrences > 1\")\n",
    "    .count()\n",
    ")\n",
    "\n",
    "display(Markdown(f\"We identified **{n_duplicates}** duplicated properties in our data.\"))"
   ]
  },
  {
   "cell_type": "markdown",
   "id": "126f956e",
   "metadata": {},
   "source": [
    "The Idealista JSON files were originally split by year, month, and day, but the concatenation process done during the loading part causes duplicates in the column `propertyCode` - which correspond to the same house recorded in more periods. \n",
    "\n",
    "Since distinguishing between dates is not relevant for our analysis, we will remove these duplicate entries. Additionally, we cannot leverage temporal information, as the Idealista dataset spans 2020–2021, whereas the income dataset covers 2007–2017.\n",
    "\n",
    "Lastly, this approach resolves the issue of repeated files - for example, cases like 2020_12_28_idealista(1).json and 2020_12_28_idealista.json, which are likely duplicates. By retaining only unique propertyCode values, we ensure that such repetitions do not introduce bias into our analysis."
   ]
  },
  {
   "cell_type": "code",
   "execution_count": 11,
   "id": "d46ba094",
   "metadata": {},
   "outputs": [],
   "source": [
    "# remove duplicates\n",
    "df_idealista = df_idealista.dropDuplicates([\"propertyCode\"])"
   ]
  },
  {
   "cell_type": "code",
   "execution_count": 12,
   "id": "920843f2",
   "metadata": {},
   "outputs": [
    {
     "data": {
      "text/markdown": [
       "We will perform our analysis using information for **4062** properties."
      ],
      "text/plain": [
       "<IPython.core.display.Markdown object>"
      ]
     },
     "metadata": {},
     "output_type": "display_data"
    }
   ],
   "source": [
    "n_rows = df_idealista.count()\n",
    "display(Markdown(f\"We will perform our analysis using information for **{n_rows}** properties.\"))"
   ]
  },
  {
   "cell_type": "markdown",
   "id": "f1da80a6",
   "metadata": {},
   "source": [
    "Checking if properties are unique"
   ]
  },
  {
   "cell_type": "code",
   "execution_count": null,
   "id": "4c81325c",
   "metadata": {},
   "outputs": [
    {
     "name": "stdout",
     "output_type": "stream",
     "text": [
      "Total rows: 4062\n",
      "Unique property codes: 4062\n",
      "propertyCode is unique for all rows.\n"
     ]
    }
   ],
   "source": [
    "# Count total rows\n",
    "total_rows = df_idealista.count()\n",
    "\n",
    "# Count unique propertyCodes\n",
    "unique_property_codes = df_idealista.select(\"propertyCode\").distinct().count()\n",
    "\n",
    "print(f\"Total rows: {total_rows}\")\n",
    "print(f\"Unique property codes: {unique_property_codes}\")\n",
    "\n",
    "# Check if propertyCode is unique\n",
    "if total_rows == unique_property_codes:\n",
    "    print(\"propertyCode is unique for all rows.\")\n",
    "else:\n",
    "    print(\"There are duplicate propertyCode values.\")"
   ]
  },
  {
   "cell_type": "markdown",
   "id": "d6b19b0b",
   "metadata": {},
   "source": [
    "### Income data"
   ]
  },
  {
   "cell_type": "code",
   "execution_count": 14,
   "id": "b002ab3f",
   "metadata": {},
   "outputs": [
    {
     "name": "stdout",
     "output_type": "stream",
     "text": [
      "+----+--------------+--------------+----------+--------------------+--------+-------------------------+\n",
      "| Any|Codi_Districte| Nom_Districte|Codi_Barri|           Nom_Barri|Població|Índex RFD Barcelona = 100|\n",
      "+----+--------------+--------------+----------+--------------------+--------+-------------------------+\n",
      "|2007|             1|  Ciutat Vella|         1|            el Raval|   46595|                     64.7|\n",
      "|2007|             1|  Ciutat Vella|         2|      el Barri Gòtic|   27946|                     86.5|\n",
      "|2007|             1|  Ciutat Vella|         3|      la Barceloneta|   15921|                     66.7|\n",
      "|2007|             1|  Ciutat Vella|         4|Sant Pere, Santa ...|   22572|                     80.2|\n",
      "|2007|             2|      Eixample|         5|       el Fort Pienc|   31521|                    107.9|\n",
      "|2007|             2|      Eixample|         6|  la Sagrada Família|   52185|                    101.8|\n",
      "|2007|             2|      Eixample|         7|la Dreta de l'Eix...|   42504|                    137.6|\n",
      "|2007|             2|      Eixample|         8|l'Antiga Esquerra...|   41413|                    126.5|\n",
      "|2007|             2|      Eixample|         9|la Nova Esquerra ...|   58146|                    116.9|\n",
      "|2007|             2|      Eixample|        10|         Sant Antoni|   37988|                    103.8|\n",
      "|2007|             3|Sants-Montjuïc|        11|        el Poble Sec|   39579|                     73.3|\n",
      "|2007|             3|Sants-Montjuïc|        12|la Marina del Pra...|    1005|                     80.4|\n",
      "|2007|             3|Sants-Montjuïc|        13|   la Marina de Port|   29327|                     80.2|\n",
      "|2007|             3|Sants-Montjuïc|        14|la Font de la Gua...|   10064|                     90.4|\n",
      "|2007|             3|Sants-Montjuïc|        15|         Hostafrancs|   15771|                     82.7|\n",
      "|2007|             3|Sants-Montjuïc|        16|          la Bordeta|   18592|                     81.9|\n",
      "|2007|             3|Sants-Montjuïc|        17|       Sants - Badal|   24085|                     85.9|\n",
      "|2007|             3|Sants-Montjuïc|        18|               Sants|   40272|                     89.5|\n",
      "|2007|             4|     Les Corts|        19|           les Corts|   46400|                    130.4|\n",
      "|2007|             4|     Les Corts|        20|la Maternitat i S...|   23938|                    127.9|\n",
      "+----+--------------+--------------+----------+--------------------+--------+-------------------------+\n",
      "only showing top 20 rows\n"
     ]
    }
   ],
   "source": [
    "df_income.show()"
   ]
  },
  {
   "cell_type": "markdown",
   "id": "05b6f923",
   "metadata": {},
   "source": [
    "In the 'income' dataframe we won't have exact duplicates since the population and the RDF index change over the years, so we used a different mechanism to remove the time dimension:\n",
    "- we grouped by the neighborhood,\n",
    "- we computed average population and average RDF index"
   ]
  },
  {
   "cell_type": "code",
   "execution_count": 15,
   "id": "8bc0c6b2",
   "metadata": {},
   "outputs": [],
   "source": [
    "# we tried to normally groupby 'Nom_Barri' and then average the 'Població' and 'Índex RFD Barcelona = 100' columns, \n",
    "# but we found that some values were not numeric, so here we handle this. \n",
    "df_income_cleaned = df_income.withColumn(\n",
    "    \"Poblacio_num\", when(col(\"Població\").rlike(\"^\\d+$\"), col(\"Població\").cast(\"double\"))).withColumn(\n",
    "    \"Index_RFD_num\", when(col(\"Índex RFD Barcelona = 100\").rlike(\"^\\d+(\\.\\d+)?$\"), col(\"Índex RFD Barcelona = 100\").cast(\"double\")))\n",
    "\n",
    "# normal groupby and average\n",
    "df_income_barri = df_income_cleaned.groupBy(\"Nom_Barri\").agg(\n",
    "    avg(\"Poblacio_num\").alias(\"Poblacio_average\"),\n",
    "    avg(\"Index_RFD_num\").alias(\"Index_RFD_average\"))\n"
   ]
  },
  {
   "cell_type": "code",
   "execution_count": 16,
   "id": "cbe66927",
   "metadata": {},
   "outputs": [
    {
     "name": "stdout",
     "output_type": "stream",
     "text": [
      "+--------------------+------------------+------------------+\n",
      "|           Nom_Barri|  Poblacio_average| Index_RFD_average|\n",
      "+--------------------+------------------+------------------+\n",
      "|         el Poblenou|32450.454545454544| 92.63636363636364|\n",
      "|   la Vila de Gràcia| 51166.63636363636|104.81818181818181|\n",
      "|el Besòs i el Mar...|23435.454545454544| 56.07272727272727|\n",
      "|        la Guineueta|15231.727272727272|63.818181818181806|\n",
      "|        la Teixonera|11400.727272727272| 71.89999999999999|\n",
      "|la Dreta de l'Eix...| 43410.36363636364|155.25454545454548|\n",
      "|      el Barri Gòtic| 18795.81818181818| 98.14545454545454|\n",
      "|         el Guinardó|35770.818181818184| 85.58181818181818|\n",
      "|            Vallbona|1338.1818181818182| 48.96363636363637|\n",
      "|           Canyelles| 7169.181818181818| 64.53636363636365|\n",
      "|Provençals del Po...|19809.090909090908| 87.87272727272727|\n",
      "| la Verneda i la Pau|29134.545454545456| 62.77272727272727|\n",
      "|Vilapicina i la T...| 25575.81818181818| 72.43636363636364|\n",
      "|l'Antiga Esquerra...| 41887.63636363636|126.95454545454545|\n",
      "|               Navas|21835.272727272728| 83.12727272727273|\n",
      "|   la Marina de Port| 30139.18181818182| 72.42727272727271|\n",
      "|la Marina del Pra...|1109.6363636363637| 56.15454545454545|\n",
      "|              Sarrià|24255.636363636364|185.66363636363639|\n",
      "|          Torre Baró|2393.3636363636365| 52.59090909090909|\n",
      "|    la Trinitat Nova| 7655.727272727273|              43.6|\n",
      "+--------------------+------------------+------------------+\n",
      "only showing top 20 rows\n"
     ]
    }
   ],
   "source": [
    "df_income_barri.show()"
   ]
  },
  {
   "cell_type": "markdown",
   "id": "946ada15",
   "metadata": {},
   "source": [
    "### Lookup Data"
   ]
  },
  {
   "cell_type": "markdown",
   "id": "bb11259b",
   "metadata": {},
   "source": [
    " To merge the datasets, we will use the `neighborhood` column as the key. For the Idealista properties, we have neighborhood information available for all properties located within the municipality of Barcelona."
   ]
  },
  {
   "cell_type": "code",
   "execution_count": 17,
   "id": "f7dfa964",
   "metadata": {},
   "outputs": [
    {
     "data": {
      "text/markdown": [
       "We identified **0** missing values for neighborhood in the idealista df."
      ],
      "text/plain": [
       "<IPython.core.display.Markdown object>"
      ]
     },
     "metadata": {},
     "output_type": "display_data"
    }
   ],
   "source": [
    "# Checking missing values for neighborhood\n",
    "missing_neighborhood = df_idealista.filter(col(\"neighborhood\").isNull()).count()\n",
    "display(Markdown(f\"We identified **{missing_neighborhood}** missing values for neighborhood in the idealista df.\"))"
   ]
  },
  {
   "cell_type": "markdown",
   "id": "722b19f8",
   "metadata": {},
   "source": [
    "First, we will create a comprehensive mapping of all possible neighborhood names by aggregating the different naming conventions found in the columns `neighborhood``, neighborhood_n_reconciled`, and `neighborhood_n` of `df_lookup`, grouped by `neighborhood_id`. \n",
    "\n",
    "We will then merge `df_idealista` with this enhanced lookup table, ensuring that each property is matched to its correct neighborhood regardless of naming variations. Next, we bring in the neighborhood-level income index by merging with `df_income_barri`, matching any of the possible neighborhood names to the column `Nom_Barri`. This process ensures that each property receives the most granular income index available."
   ]
  },
  {
   "cell_type": "code",
   "execution_count": 18,
   "id": "ad9596ae",
   "metadata": {},
   "outputs": [],
   "source": [
    "# Step 1: Stack all three columns into one column with the corresponding id\n",
    "grouped = (\n",
    "    df_lookup\n",
    "    .select(\"neighborhood_id\", \"neighborhood\")\n",
    "    .unionByName(df_lookup.select(\"neighborhood_id\", \"neighborhood_n_reconciled\").withColumnRenamed(\"neighborhood_n_reconciled\", \"neighborhood\"))\n",
    "    .unionByName(df_lookup.select(\"neighborhood_id\", \"neighborhood_n\").withColumnRenamed(\"neighborhood_n\", \"neighborhood\"))\n",
    "    .filter(F.col(\"neighborhood\").isNotNull())\n",
    "    .dropDuplicates()\n",
    ")\n",
    "\n",
    "# Step 2: Group by id, collect all unique names in a list\n",
    "lookup_collapsed = (\n",
    "    grouped\n",
    "    .groupBy(\"neighborhood_id\")\n",
    "    .agg(F.collect_set(\"neighborhood\").alias(\"all_names\"))\n",
    ")"
   ]
  },
  {
   "cell_type": "code",
   "execution_count": 19,
   "id": "b4620e45",
   "metadata": {},
   "outputs": [
    {
     "name": "stdout",
     "output_type": "stream",
     "text": [
      "+---------------+--------------------+\n",
      "|neighborhood_id|           all_names|\n",
      "+---------------+--------------------+\n",
      "|       Q3320806|[vilapicina i la ...|\n",
      "|       Q3321805|[el putxet i el f...|\n",
      "|       Q3291762|[L'Antiga Esquerr...|\n",
      "|       Q3813818|[el Congrés i els...|\n",
      "|       Q3320705|[La Teixonera, la...|\n",
      "|       Q3045547|[el guinardo, El ...|\n",
      "|       Q1932090|[el coll, el Coll...|\n",
      "|       Q3773169|[sant marti de pr...|\n",
      "|       Q3294602|[el camp de l arp...|\n",
      "|       Q1425291|[Baró de Viver, b...|\n",
      "|       Q3296693|[Les Corts, les C...|\n",
      "|       Q1026658|[la nova esquerra...|\n",
      "|        Q542473|[La Verneda i la ...|\n",
      "|       Q3751072|[vallbona, Vallbona]|\n",
      "|       Q2562684|[pedralbes, Pedra...|\n",
      "|        Q524311|[El Turó de la Pe...|\n",
      "|       Q3773462|[la sagrera, la S...|\n",
      "|       Q1627690|[les roquetes, Le...|\n",
      "|       Q3320699|[La Salut, la Sal...|\n",
      "|       Q3750558|      [porta, Porta]|\n",
      "+---------------+--------------------+\n",
      "only showing top 20 rows\n"
     ]
    }
   ],
   "source": [
    "lookup_collapsed.show()"
   ]
  },
  {
   "cell_type": "code",
   "execution_count": 20,
   "id": "f692627e",
   "metadata": {},
   "outputs": [],
   "source": [
    "# Merge df_idealista with lookup_collapsed using array_contains on 'all_names'\n",
    "df_idealista_lookup = df_idealista.join(\n",
    "    lookup_collapsed,\n",
    "    array_contains(lookup_collapsed['all_names'], df_idealista['neighborhood']),\n",
    "    how='left'\n",
    ")"
   ]
  },
  {
   "cell_type": "code",
   "execution_count": 21,
   "id": "3a673c46",
   "metadata": {},
   "outputs": [
    {
     "data": {
      "text/markdown": [
       "The row count should match between **4062** and **4062**."
      ],
      "text/plain": [
       "<IPython.core.display.Markdown object>"
      ]
     },
     "metadata": {},
     "output_type": "display_data"
    }
   ],
   "source": [
    "# Sanity check\n",
    "display(Markdown(f\"The row count should match between **{df_idealista_lookup.count()}** and **{df_idealista.count()}**.\"))"
   ]
  },
  {
   "cell_type": "code",
   "execution_count": null,
   "id": "9a478477",
   "metadata": {},
   "outputs": [],
   "source": [
    "# Merge df_idealista_lookup with df_income_barri using array_contains on 'all_names'\n",
    "df_idealista_barri = df_idealista_lookup.join(\n",
    "    df_income_barri.select('Nom_Barri', 'Index_RFD_average', 'Poblacio_average'),\n",
    "    array_contains(df_idealista_lookup['all_names'], df_income_barri['Nom_Barri']),\n",
    "    how='left'\n",
    ").drop('Nom_Barri')"
   ]
  },
  {
   "cell_type": "code",
   "execution_count": 23,
   "id": "d8dbe280",
   "metadata": {},
   "outputs": [
    {
     "data": {
      "text/markdown": [
       "The row count should match between **4062** and **4062**."
      ],
      "text/plain": [
       "<IPython.core.display.Markdown object>"
      ]
     },
     "metadata": {},
     "output_type": "display_data"
    }
   ],
   "source": [
    "# Sanity check\n",
    "display(Markdown(f\"The row count should match between **{df_idealista_barri.count()}** and **{df_idealista_lookup.count()}**.\"))"
   ]
  },
  {
   "cell_type": "markdown",
   "id": "ec1d3f4b",
   "metadata": {},
   "source": [
    "We check how many properties are missing an Index\\_RFD\\_average value. Any property without a match did not have its neighborhood name present in any of the entries in the lookup table."
   ]
  },
  {
   "cell_type": "code",
   "execution_count": null,
   "id": "666f1ae8",
   "metadata": {},
   "outputs": [
    {
     "data": {
      "text/markdown": [
       "Rows with non-null <b>neighborhood_id</b> but missing <b>Index_RFD_average</b>: <b>0</b>.<br><span style='color:green'>PASS</span>"
      ],
      "text/plain": [
       "<IPython.core.display.Markdown object>"
      ]
     },
     "metadata": {},
     "output_type": "display_data"
    }
   ],
   "source": [
    "# Count rows where there is a valid neighborhood_id but missing Index_RFD_average\n",
    "missing_income = df_idealista_barri.filter(\n",
    "    (F.col('neighborhood_id').isNotNull()) &\n",
    "    (F.col('Index_RFD_average').isNull())\n",
    ").count()\n",
    "\n",
    "display(Markdown(\n",
    "    f\"Rows with non-null <b>neighborhood_id</b> but missing <b>Index_RFD_average</b>: <b>{missing_income}</b>.<br>\"\n",
    "    + (\"<span style='color:green'>PASS</span>\" if missing_income == 0 else \"<span style='color:red'>CHECK DATA</span>\")\n",
    "))"
   ]
  },
  {
   "cell_type": "code",
   "execution_count": 25,
   "id": "4ef0dca1",
   "metadata": {},
   "outputs": [
    {
     "data": {
      "text/plain": [
       "0"
      ]
     },
     "execution_count": 25,
     "metadata": {},
     "output_type": "execute_result"
    }
   ],
   "source": [
    "# Counting missing values\n",
    "df_idealista_barri.filter(F.col(\"Index_RFD_average\").isNull()).count()"
   ]
  },
  {
   "cell_type": "markdown",
   "id": "a3a36223",
   "metadata": {},
   "source": [
    "We remove columns that won't be useful for our analysis"
   ]
  },
  {
   "cell_type": "code",
   "execution_count": 26,
   "id": "7a3eb8b7",
   "metadata": {},
   "outputs": [],
   "source": [
    "final_cleaned = df_idealista_barri \\\n",
    "    .drop(\"address\", \"country\", \"detailedType\", \"externalReference\", \"municipality\", \"operation\", \"province\", \"suggestedTexts\", \"thumbnail\",\n",
    "          \"url\", \"all_names\") "
   ]
  },
  {
   "cell_type": "code",
   "execution_count": 27,
   "id": "1005ff1b",
   "metadata": {},
   "outputs": [
    {
     "name": "stdout",
     "output_type": "stream",
     "text": [
      "+---------+--------+-------------------+--------+-----+------+---------+-------+-------+----------+--------+----------+---------+--------------------+--------------+----------------------+---------+------------------+---------+-----------+------------+------------+-----+-----------+-----+------+-----------------+---------------+------------------+------------------+\n",
      "|bathrooms|distance|           district|exterior|floor|has360|has3DTour|hasLift|hasPlan|hasStaging|hasVideo|  latitude|longitude|        neighborhood|newDevelopment|newDevelopmentFinished|numPhotos|      parkingSpace|    price|priceByArea|propertyCode|propertyType|rooms|showAddress| size|status|topNewDevelopment|neighborhood_id| Index_RFD_average|  Poblacio_average|\n",
      "+---------+--------+-------------------+--------+-----+------+---------+-------+-------+----------+--------+----------+---------+--------------------+--------------+----------------------+---------+------------------+---------+-----------+------------+------------+-----+-----------+-----+------+-----------------+---------------+------------------+------------------+\n",
      "|        5|    2444|Sarrià-Sant Gervasi|   false| NULL| false|    false|   NULL|  false|     false|   false|41.4118644|2.1076647|Vallvidrera - El ...|         false|                  NULL|       12|{true, true, NULL}|2750000.0|     3438.0|     1394150|      chalet|    6|      false|800.0|  good|            false|       Q3310216|             159.7| 4422.727272727273|\n",
      "|        2|    2249|Sarrià-Sant Gervasi|   false| NULL| false|    false|   NULL|   true|     false|    true|41.4254327|2.1016874|Vallvidrera - El ...|         false|                  NULL|       32|{true, true, NULL}| 510000.0|     2550.0|    25435010|      chalet|    4|      false|200.0|  good|            false|       Q3310216|             159.7| 4422.727272727273|\n",
      "|        4|     468|Sarrià-Sant Gervasi|   false|   bj| false|    false|   NULL|   true|     false|   false|41.4135558|2.1296544|Sant Gervasi - La...|         false|                  NULL|        9|{true, true, NULL}|3730000.0|     7597.0|    25868030|      chalet|    9|      false|491.0|  good|            false|       Q3321657|186.79090909090908|24792.545454545456|\n",
      "|        5|    1685|Sarrià-Sant Gervasi|   false| NULL| false|    false|   NULL|  false|     false|   false|41.4253985|2.0929354|Vallvidrera - El ...|         false|                  NULL|       23|{true, true, NULL}|1750000.0|     3205.0|    27869059|      chalet|    6|      false|546.0|  good|            false|       Q3310216|             159.7| 4422.727272727273|\n",
      "|        2|     439|             Gràcia|    true|    1| false|    false|   true|  false|     false|    true|41.4092016|2.1587664|El Camp d'En Gras...|         false|                  NULL|       21|              NULL| 349000.0|     3878.0|    29369498|        flat|    4|      false| 90.0|  good|            false|       Q2994821|102.44545454545455|           34472.0|\n",
      "|        2|     466|           Eixample|    true|    4|  true|    false|   true|  false|     false|   false|41.3883547| 2.175292|La Dreta de l'Eix...|         false|                  NULL|       22|              NULL|2500000.0|     7862.0|    29714252|        flat|    3|      false|318.0|  good|            false|       Q1904302|155.25454545454548| 43410.36363636364|\n",
      "|        4|     526|Sarrià-Sant Gervasi|   false| NULL| false|    false|   NULL|   true|     false|    true|41.4133508|2.1304364|Sant Gervasi - La...|         false|                  NULL|       19|              NULL|3750000.0|     7576.0|    30538104|      chalet|   12|      false|495.0|  good|            false|       Q3321657|186.79090909090908|24792.545454545456|\n",
      "|        1|     377|Sarrià-Sant Gervasi|   false| NULL| false|    false|   NULL|  false|     false|   false|41.4149558|2.1300544|Sant Gervasi - La...|         false|                  NULL|       25|              NULL|3750000.0|     6818.0|    31171106|      chalet|    1|      false|550.0|  good|            false|       Q3321657|186.79090909090908|24792.545454545456|\n",
      "|        1|     820|     Sants-Montjuïc|    true|    5| false|    false|   true|  false|     false|   false|41.3628229|2.1377974|  La Marina del Port|         false|                  NULL|       24|              NULL| 185000.0|     2569.0|    31262745|        flat|    3|      false| 72.0|  good|            false|       Q3751076| 72.42727272727271| 30139.18181818182|\n",
      "|        4|     575|Sarrià-Sant Gervasi|   false| NULL| false|    false|   NULL|  false|     false|   false|41.4149093|2.1327563|Sant Gervasi - La...|         false|                  NULL|       37|              NULL|3800000.0|     5621.0|    31467524|      chalet|   11|      false|676.0|  good|            false|       Q3321657|186.79090909090908|24792.545454545456|\n",
      "|        5|     829|Sarrià-Sant Gervasi|   false| NULL| false|    false|   NULL|   true|     false|   false|  41.40973|  2.12148|              Sarrià|         false|                  NULL|       15|{true, true, NULL}|3000000.0|     5000.0|    31563299|      chalet|    5|      false|600.0| renew|            false|       Q3043699|185.66363636363639|24255.636363636364|\n",
      "|        5|    2743|Sarrià-Sant Gervasi|   false| NULL| false|    false|   NULL|   true|     false|    true|41.4118001|2.1113062|              Sarrià|         false|                  NULL|       26|{true, true, NULL}|2100000.0|     4200.0|    32037022|      chalet|    5|      false|500.0|  good|            false|       Q3043699|185.66363636363639|24255.636363636364|\n",
      "|        1|    2933|           Eixample|   false|    1| false|    false|   true|  false|     false|   false|41.3776585|2.1536206|         Sant Antoni|         false|                  NULL|       12|              NULL| 319000.0|     1994.0|    32431762|        flat|    2|      false|160.0|  good|            false|        Q720994| 99.94545454545455| 38300.72727272727|\n",
      "|        3|    3169|           Eixample|    true|    2|  true|    false|   true|   true|     false|   false|41.3818376|2.1502826|La Nova Esquerra ...|         false|                  NULL|       11|              NULL| 595000.0|     4250.0|    32719442|        flat|    4|      false|140.0|  good|            false|       Q1026658|110.32727272727271|           58016.0|\n",
      "|        3|     279|       Ciutat Vella|    true|    1| false|    false|   true|  false|     false|   false|41.3883666|2.1728152|            El Gòtic|         false|                  NULL|       34|              NULL| 590000.0|     3933.0|    32851115|        flat|    3|      false|150.0|  good|            false|         Q17154| 98.14545454545454| 18795.81818181818|\n",
      "|        8|     643|Sarrià-Sant Gervasi|   false| NULL| false|    false|   NULL|  false|     false|   false|41.4061366|2.1213645|Sant Gervasi - La...|         false|                  NULL|       32|{true, true, NULL}|2600000.0|     5328.0|    33743918|      chalet|    7|      false|488.0|  good|            false|       Q3321657|186.79090909090908|24792.545454545456|\n",
      "|        5|     250|       Ciutat Vella|    true| NULL| false|    false|   true|  false|     false|   false|41.3848123|2.1707164|            El Gòtic|         false|                  NULL|       29|{true, true, NULL}|1700000.0|     5862.0|    33806860|        flat|    4|      false|290.0|  good|            false|         Q17154| 98.14545454545454| 18795.81818181818|\n",
      "|        6|    2468|Sarrià-Sant Gervasi|   false| NULL|  true|    false|   NULL|  false|     false|    true|41.4152481| 2.108565|Vallvidrera - El ...|         false|                  NULL|       25|              NULL|1850000.0|     4868.0|    33932885|      chalet|    6|      false|380.0|  good|            false|       Q3310216|             159.7| 4422.727272727273|\n",
      "|        7|     363|Sarrià-Sant Gervasi|   false| NULL| false|    false|   NULL|  false|     false|   false| 41.413874|2.1276171|Sant Gervasi - La...|         false|                  NULL|       31|{true, true, NULL}|6800000.0|     7816.0|    34234916|      chalet|    5|      false|870.0|  good|            false|       Q3321657|186.79090909090908|24792.545454545456|\n",
      "|        8|    2993|Sarrià-Sant Gervasi|   false| NULL| false|    false|   NULL|   true|     false|   false|41.4007566|2.1081092|              Sarrià|         false|                  NULL|       38|{true, true, NULL}|3000000.0|     4464.0|    34591620|      chalet|    5|      false|672.0|  good|            false|       Q3043699|185.66363636363639|24255.636363636364|\n",
      "+---------+--------+-------------------+--------+-----+------+---------+-------+-------+----------+--------+----------+---------+--------------------+--------------+----------------------+---------+------------------+---------+-----------+------------+------------+-----+-----------+-----+------+-----------------+---------------+------------------+------------------+\n",
      "only showing top 20 rows\n"
     ]
    }
   ],
   "source": [
    "final_cleaned.show()"
   ]
  },
  {
   "cell_type": "markdown",
   "id": "ca3a585f",
   "metadata": {},
   "source": [
    "### Exporting final Parquet to Formatted Zone"
   ]
  },
  {
   "cell_type": "markdown",
   "id": "9b027c87",
   "metadata": {},
   "source": [
    "For property price prediction, which is our goal, we want to partition by column that will:\n",
    "\n",
    "-Filter commonly in queries \n",
    "\n",
    "-Have moderate cardinality \n",
    "\n",
    "-Not explode into millions of tiny files\n",
    "\n",
    "Because of the data size filtering by neighborhood (>70 unique values) won't be very efficient.\n",
    "\n",
    "We will assume that our queries will filter by district a lot. Then:"
   ]
  },
  {
   "cell_type": "code",
   "execution_count": 28,
   "id": "07f85dd2",
   "metadata": {},
   "outputs": [],
   "source": [
    "final_cleaned.write.mode(\"overwrite\") \\\n",
    "    .partitionBy(\"district\") \\\n",
    "    .parquet(f\"{formatted_zone}/formatted_data\")"
   ]
  },
  {
   "cell_type": "markdown",
   "id": "5dfb4a1b",
   "metadata": {},
   "source": [
    "## A.3 Exploitation"
   ]
  },
  {
   "cell_type": "markdown",
   "id": "fbe0c7bd",
   "metadata": {},
   "source": [
    "### Feature Engineering"
   ]
  },
  {
   "cell_type": "code",
   "execution_count": 29,
   "id": "095dd206",
   "metadata": {},
   "outputs": [],
   "source": [
    "from pyspark.sql.functions import col, when, isnan, isnull, mean, stddev, abs as spark_abs\n",
    "from pyspark.sql.types import DoubleType\n",
    "from pyspark.ml.feature import StringIndexer, OneHotEncoder, VectorAssembler\n",
    "from pyspark.ml import Pipeline"
   ]
  },
  {
   "cell_type": "code",
   "execution_count": 30,
   "id": "8271570b",
   "metadata": {},
   "outputs": [],
   "source": [
    "# set a Spark session\n",
    "spark = SparkSession.builder \\\n",
    "    .appName(\"DataExploitation\") \\\n",
    "    .master(\"local[*]\") \\\n",
    "    .getOrCreate()"
   ]
  },
  {
   "cell_type": "code",
   "execution_count": 31,
   "id": "568fc25e",
   "metadata": {},
   "outputs": [],
   "source": [
    "# set the paths for the input and output data\n",
    "formatted_zone = (\"formatted_zone\")\n",
    "exploitation_zone = (\"exploitation_zone\")"
   ]
  },
  {
   "cell_type": "code",
   "execution_count": 32,
   "id": "c4cb69d1",
   "metadata": {},
   "outputs": [],
   "source": [
    "# load data previously formatted\n",
    "data = spark.read.option(\"multiline\", True).parquet(f\"{formatted_zone}/formatted_data\")"
   ]
  },
  {
   "cell_type": "code",
   "execution_count": 33,
   "id": "26ad5134",
   "metadata": {},
   "outputs": [
    {
     "name": "stdout",
     "output_type": "stream",
     "text": [
      "+---------+--------+--------+-----+------+---------+-------+-------+----------+--------+----------+---------+--------------------+--------------+----------------------+---------+------------+--------+-----------+------------+------------+-----+-----------+-----+------+-----------------+---------------+-----------------+------------------+--------------+\n",
      "|bathrooms|distance|exterior|floor|has360|has3DTour|hasLift|hasPlan|hasStaging|hasVideo|  latitude|longitude|        neighborhood|newDevelopment|newDevelopmentFinished|numPhotos|parkingSpace|   price|priceByArea|propertyCode|propertyType|rooms|showAddress| size|status|topNewDevelopment|neighborhood_id|Index_RFD_average|  Poblacio_average|      district|\n",
      "+---------+--------+--------+-----+------+---------+-------+-------+----------+--------+----------+---------+--------------------+--------------+----------------------+---------+------------+--------+-----------+------------+------------+-----+-----------+-----+------+-----------------+---------------+-----------------+------------------+--------------+\n",
      "|        1|     820|    true|    5| false|    false|   true|  false|     false|   false|41.3628229|2.1377974|  La Marina del Port|         false|                  NULL|       24|        NULL|185000.0|     2569.0|    31262745|        flat|    3|      false| 72.0|  good|            false|       Q3751076|72.42727272727271| 30139.18181818182|Sants-Montjuïc|\n",
      "|        2|    2121|    true|   bj| false|    false|   true|   true|     false|   false|  41.37561|2.1274558|       Sants - Badal|         false|                  NULL|       23|        NULL|319000.0|     2874.0|    36761536|        flat|    3|      false|111.0|  good|            false|       Q3596096|79.12727272727273|24272.454545454544|Sants-Montjuïc|\n",
      "|        2|    2615|    true|    5| false|    false|   true|   true|     false|    true|41.3731147|2.1546618|El Poble Sec - Pa...|         false|                  NULL|       25|        NULL|339000.0|     4461.0|    38196572|        flat|    2|      false| 76.0|  good|            false|        Q980253|73.00000000000001|40601.181818181816|Sants-Montjuïc|\n",
      "|        1|    1527|   false|    3| false|    false|   true|  false|     false|   false|41.3699827|2.1373603|          La Bordeta|         false|                  NULL|       11|        NULL|214000.0|     3101.0|    38866868|        flat|    3|       true| 69.0|  good|            false|       Q3753110|75.61818181818182|18533.909090909092|Sants-Montjuïc|\n",
      "|        2|    2172|    true|    2|  true|    false|   true|   true|     false|   false|41.3763863|2.1318328|               Sants|         false|                  NULL|       26|        NULL|440000.0|     4000.0|    39866254|        flat|    4|      false|110.0|  good|            false|       Q2476184|87.79999999999998| 41356.72727272727|Sants-Montjuïc|\n",
      "|        1|    1862|   false|    1| false|    false|   true|  false|     false|   false|41.3727738|2.1251217|       Sants - Badal|         false|                  NULL|       13|        NULL|200000.0|     3125.0|    39904595|        flat|    3|      false| 64.0|  good|            false|       Q3596096|79.12727272727273|24272.454545454544|Sants-Montjuïc|\n",
      "|        2|    2543|    true|    1| false|    false|   true|   true|     false|   false|41.3707147|2.1562618|El Poble Sec - Pa...|         false|                  NULL|       17|        NULL|445000.0|     5933.0|    40084649|        flat|    2|      false| 75.0|  good|            false|        Q980253|73.00000000000001|40601.181818181816|Sants-Montjuïc|\n",
      "|        2|     875|    true|    7| false|    false|   true|  false|     false|    true|41.3603742|2.1414026|  La Marina del Port|         false|                  NULL|       20|        NULL|315000.0|     3182.0|    81313047|        flat|    3|      false| 99.0|  good|            false|       Q3751076|72.42727272727271| 30139.18181818182|Sants-Montjuïc|\n",
      "|        2|    2992|    true|    1| false|    false|   true|  false|     false|   false|41.3833285|2.1384266|               Sants|         false|                  NULL|       45|        NULL|595000.0|     5891.0|    81945931|        flat|    3|      false|101.0|  good|            false|       Q2476184|87.79999999999998| 41356.72727272727|Sants-Montjuïc|\n",
      "|        2|    3082|   false|    2| false|    false|   NULL|  false|     false|   false|41.3713507|2.1634982|El Poble Sec - Pa...|         false|                  NULL|       20|        NULL|335000.0|     5234.0|    82040045|        flat|    2|      false| 64.0|  good|            false|        Q980253|73.00000000000001|40601.181818181816|Sants-Montjuïc|\n",
      "|        1|    3123|    true|    5| false|    false|   true|   true|     false|   false|  41.38437|   2.1395|               Sants|         false|                  NULL|       21|        NULL|429500.0|     4295.0|    82328750|        flat|    4|      false|100.0|  good|            false|       Q2476184|87.79999999999998| 41356.72727272727|Sants-Montjuïc|\n",
      "|        2|    2446|    true|    2| false|    false|   true|  false|     false|   false|41.3705381|2.1549707|El Poble Sec - Pa...|         false|                  NULL|       19|        NULL|445000.0|     5933.0|    82703440|        flat|    2|      false| 75.0|  good|            false|        Q980253|73.00000000000001|40601.181818181816|Sants-Montjuïc|\n",
      "|        2|    2762|    true|    4| false|    false|   true|  false|     false|   false|41.3740147|2.1559618|El Poble Sec - Pa...|         false|                  NULL|       34|        NULL|440000.0|     5867.0|    83030418|        flat|    2|      false| 75.0|  good|            false|        Q980253|73.00000000000001|40601.181818181816|Sants-Montjuïc|\n",
      "|        2|     498|    true|    5|  true|    false|   true|   true|     false|   false|41.3706467|2.1338747|          La Bordeta|         false|                  NULL|       50|        NULL|240000.0|     3000.0|    83619808|        flat|    2|       true| 80.0|  good|            false|       Q3753110|75.61818181818182|18533.909090909092|Sants-Montjuïc|\n",
      "|        2|    2740|    true|    6| false|    false|   true|   true|     false|    true|41.3733147|2.1564618|El Poble Sec - Pa...|         false|                  NULL|       27|        NULL|470000.0|     6351.0|    83759555|        flat|    2|      false| 74.0|  good|            false|        Q980253|73.00000000000001|40601.181818181816|Sants-Montjuïc|\n",
      "|        1|    1076|   false|   bj| false|    false|  false|  false|     false|    true|41.3651065|2.1387587|  La Marina del Port|         false|                  NULL|       19|        NULL|176000.0|     2983.0|    83812281|        flat|    2|      false| 59.0|  good|            false|       Q3751076|72.42727272727271| 30139.18181818182|Sants-Montjuïc|\n",
      "|        1|     714|   false|   en| false|    false|   true|   true|     false|    true|41.3595681|2.1397778|  La Marina del Port|         false|                  NULL|       18|        NULL|124000.0|     3100.0|    83870660|        flat|    1|       true| 40.0|  good|            false|       Q3751076|72.42727272727271| 30139.18181818182|Sants-Montjuïc|\n",
      "|        2|     490|   false|    3| false|    false|  false|  false|     false|   false|41.3709507|2.1669982|El Poble Sec - Pa...|         false|                  NULL|       33|        NULL|345000.0|     4929.0|    84372470|        flat|    2|      false| 70.0|  good|            false|        Q980253|73.00000000000001|40601.181818181816|Sants-Montjuïc|\n",
      "|        1|     492|    true|    3| false|    false|  false|   true|     false|    true|41.3708918|2.1672772|El Poble Sec - Pa...|         false|                  NULL|       21|        NULL|299500.0|     4910.0|    84401224|        flat|    2|      false| 61.0|  good|            false|        Q980253|73.00000000000001|40601.181818181816|Sants-Montjuïc|\n",
      "|        1|    3026|    true|    1| false|    false|  false|  false|     false|   false|41.3706601|2.1632709|El Poble Sec - Pa...|         false|                  NULL|       12|        NULL|185000.0|     3304.0|    84674883|        flat|    3|      false| 56.0|  good|            false|        Q980253|73.00000000000001|40601.181818181816|Sants-Montjuïc|\n",
      "+---------+--------+--------+-----+------+---------+-------+-------+----------+--------+----------+---------+--------------------+--------------+----------------------+---------+------------+--------+-----------+------------+------------+-----+-----------+-----+------+-----------------+---------------+-----------------+------------------+--------------+\n",
      "only showing top 20 rows\n"
     ]
    }
   ],
   "source": [
    "data.show()"
   ]
  },
  {
   "cell_type": "code",
   "execution_count": 34,
   "id": "ce5c58e0",
   "metadata": {},
   "outputs": [],
   "source": [
    "# clean numerical features: if price, size, or priceByArea are null or less than or equal to zero (=probably errors),\n",
    "# set them to None. When instead they are valid, cast them to DoubleType (as anyways VectorAssembler would convert \n",
    "# to this type)\n",
    "data_features = data.withColumn(\n",
    "    \"price_clean\", \n",
    "    when(col(\"price\").isNull() | (col(\"price\") <= 0), None).otherwise(col(\"price\").cast(DoubleType()))\n",
    ").withColumn(\n",
    "    \"size_clean\",\n",
    "    when(col(\"size\").isNull() | (col(\"size\") <= 0), None).otherwise(col(\"size\").cast(DoubleType()))\n",
    ").withColumn(\n",
    "    \"priceByArea_clean\",\n",
    "    when(col(\"priceByArea\").isNull() | (col(\"priceByArea\") <= 0), None).otherwise(col(\"priceByArea\").cast(DoubleType())))"
   ]
  },
  {
   "cell_type": "code",
   "execution_count": 35,
   "id": "f174c4a7",
   "metadata": {},
   "outputs": [],
   "source": [
    "# create categorical features for size, income, and rooms\n",
    "data_features = data_features.withColumn(\n",
    "    \"size_category\",\n",
    "    when(col(\"size_clean\") <= 50, \"small\")\n",
    "    .when(col(\"size_clean\") <= 100, \"medium\") \n",
    "    .when(col(\"size_clean\") <= 150, \"large\")\n",
    "    .otherwise(\"extra_large\")\n",
    ").withColumn(\n",
    "    \"income_category\", \n",
    "    when(col(\"Index_RFD_average\") <= 70, \"low_income\")\n",
    "    .when(col(\"Index_RFD_average\") <= 100, \"medium_income\")\n",
    "    .when(col(\"Index_RFD_average\") <= 130, \"high_income\") \n",
    "    .otherwise(\"very_high_income\")\n",
    ").withColumn(\n",
    "    \"rooms_category\",\n",
    "    when(col(\"rooms\") <= 2, \"small\")\n",
    "    .when(col(\"rooms\") <= 4, \"medium\")\n",
    "    .otherwise(\"large\"))"
   ]
  },
  {
   "cell_type": "code",
   "execution_count": 36,
   "id": "08db44ea",
   "metadata": {},
   "outputs": [],
   "source": [
    "# try to convert floor to numeric when possible\n",
    "data_features = data_features.withColumn(\n",
    "    \"floor_numeric\",\n",
    "    when(col(\"floor\").rlike(\"^\\\\d+$\"), col(\"floor\").cast(\"int\")).otherwise(0))"
   ]
  },
  {
   "cell_type": "code",
   "execution_count": 37,
   "id": "63bd46dd",
   "metadata": {},
   "outputs": [],
   "source": [
    "# create binary features for parking, exterior, and lift availability\n",
    "data_features = data_features.withColumn(\n",
    "    \"has_parking\", \n",
    "    when(col(\"parkingSpace\").isNotNull(), 1).otherwise(0)\n",
    ").withColumn(\n",
    "    \"is_exterior\",\n",
    "    when(col(\"exterior\") == True, 1).otherwise(0)\n",
    ").withColumn(\n",
    "    \"has_lift_binary\",\n",
    "    when(col(\"hasLift\") == True, 1).otherwise(0))"
   ]
  },
  {
   "cell_type": "code",
   "execution_count": 38,
   "id": "1031b83a",
   "metadata": {},
   "outputs": [
    {
     "name": "stdout",
     "output_type": "stream",
     "text": [
      "removed 112 outliers\n"
     ]
    }
   ],
   "source": [
    "# detect and remove outliers \n",
    "price_stats = data_features.select(\n",
    "    mean(\"price_clean\").alias(\"price_mean\"),\n",
    "    stddev(\"price_clean\").alias(\"price_std\")\n",
    ").collect()[0]\n",
    "\n",
    "size_stats = data_features.select(\n",
    "    mean(\"size_clean\").alias(\"size_mean\"), \n",
    "    stddev(\"size_clean\").alias(\"size_std\")\n",
    ").collect()[0]\n",
    "\n",
    "# remove outliers (beyond 3 standard deviations) \n",
    "price_lower = price_stats[\"price_mean\"] - 3 * price_stats[\"price_std\"] \n",
    "price_upper = price_stats[\"price_mean\"] + 3 * price_stats[\"price_std\"]\n",
    "size_lower = size_stats[\"size_mean\"] - 3 * size_stats[\"size_std\"]\n",
    "size_upper = size_stats[\"size_mean\"] + 3 * size_stats[\"size_std\"]\n",
    "\n",
    "data_cleaned = data_features.filter(\n",
    "    (col(\"price_clean\").between(price_lower, price_upper)) &\n",
    "    (col(\"size_clean\").between(size_lower, size_upper)) &\n",
    "    (col(\"price_clean\").isNotNull()) &\n",
    "    (col(\"size_clean\").isNotNull()) &\n",
    "    (col(\"Index_RFD_average\").isNotNull()) &\n",
    "    (col(\"neighborhood\").isNotNull()))\n",
    "\n",
    "print(f\"removed {data.count() - data_cleaned.count()} outliers\")"
   ]
  },
  {
   "cell_type": "code",
   "execution_count": 39,
   "id": "5991d9e4",
   "metadata": {},
   "outputs": [],
   "source": [
    "# convert all numerical columns to DoubleType - same reason as above \n",
    "data_cleaned = data_cleaned.withColumn(\"distance\", col(\"distance\").cast(DoubleType())) \\\n",
    "    .withColumn(\"numPhotos\", col(\"numPhotos\").cast(DoubleType())) \\\n",
    "    .withColumn(\"rooms\", col(\"rooms\").cast(DoubleType())) \\\n",
    "    .withColumn(\"bathrooms\", col(\"bathrooms\").cast(DoubleType())) \\\n",
    "    .withColumn(\"latitude\", col(\"latitude\").cast(DoubleType())) \\\n",
    "    .withColumn(\"longitude\", col(\"longitude\").cast(DoubleType()))"
   ]
  },
  {
   "cell_type": "code",
   "execution_count": 40,
   "id": "4926de36",
   "metadata": {},
   "outputs": [],
   "source": [
    "# define the features we will use for prediction\n",
    "numerical_features = [\n",
    "    \"size_clean\", \"rooms\", \"bathrooms\", \"Index_RFD_average\", \"Poblacio_average\",\n",
    "    \"latitude\", \"longitude\", \"distance\", \"numPhotos\", \"floor_numeric\",\n",
    "    \"has_parking\", \"is_exterior\", \"has_lift_binary\"]\n",
    "\n",
    "# handle boolean columns - convert to integer, and then VectorAssembler will convert to DoubleType\n",
    "for bool_col in [\"has360\", \"has3DTour\", \"hasVideo\", \"hasPlan\", \"newDevelopment\"]:\n",
    "    data_cleaned = data_cleaned.withColumn(bool_col + \"_int\", when(col(bool_col) == True, 1).otherwise(0))\n",
    "    numerical_features.append(bool_col + \"_int\")\n",
    "\n",
    "# handle categorical features by doing string indexing and one-hot encoding\n",
    "categorical_features = [\n",
    "    \"propertyType\", \"size_category\", \"income_category\", \"rooms_category\",\n",
    "    \"neighborhood\", \"status\"]\n",
    "\n",
    "# create string indexers for categorical variables\n",
    "indexers = []\n",
    "for cat_col in categorical_features:\n",
    "    indexer = StringIndexer(inputCol=cat_col, outputCol=f\"{cat_col}_indexed\", handleInvalid=\"keep\")\n",
    "    indexers.append(indexer)\n",
    "\n",
    "# create one-hot encoders  \n",
    "encoders = []\n",
    "encoded_cols = []\n",
    "for cat_col in categorical_features:\n",
    "    encoder = OneHotEncoder(inputCol=f\"{cat_col}_indexed\", outputCol=f\"{cat_col}_encoded\")\n",
    "    encoders.append(encoder)\n",
    "    encoded_cols.append(f\"{cat_col}_encoded\")"
   ]
  },
  {
   "cell_type": "code",
   "execution_count": 41,
   "id": "02abb865",
   "metadata": {},
   "outputs": [
    {
     "name": "stdout",
     "output_type": "stream",
     "text": [
      "Selected 18 numerical features and 6 categorical features\n",
      "ML dataset shape: 3950 rows, 25 columns\n"
     ]
    }
   ],
   "source": [
    "# target variable\n",
    "target_column = \"price_clean\"\n",
    "\n",
    "# select only the columns we need\n",
    "all_features = [target_column] + numerical_features + categorical_features\n",
    "ml_data = data_cleaned.select(all_features)\n",
    "\n",
    "# fill missing values\n",
    "ml_data = ml_data.fillna({\n",
    "    \"floor_numeric\": 0,\n",
    "    \"numPhotos\": 0,\n",
    "    \"distance\": 0.0,\n",
    "    \"status\": \"unknown\"})\n",
    "\n",
    "print(f\"Selected {len(numerical_features)} numerical features and {len(categorical_features)} categorical features\")\n",
    "print(f\"ML dataset shape: {ml_data.count()} rows, {len(all_features)} columns\")"
   ]
  },
  {
   "cell_type": "markdown",
   "id": "4aca953d",
   "metadata": {},
   "source": [
    "### Checking missing values in features"
   ]
  },
  {
   "cell_type": "code",
   "execution_count": 42,
   "id": "1fa99834",
   "metadata": {},
   "outputs": [
    {
     "name": "stdout",
     "output_type": "stream",
     "text": [
      "Missing values in 'price_clean': 0\n",
      "Missing values in 'size_clean': 0\n",
      "Missing values in 'rooms': 0\n",
      "Missing values in 'bathrooms': 0\n",
      "Missing values in 'Index_RFD_average': 0\n",
      "Missing values in 'Poblacio_average': 0\n",
      "Missing values in 'latitude': 0\n",
      "Missing values in 'longitude': 0\n",
      "Missing values in 'distance': 0\n",
      "Missing values in 'numPhotos': 0\n",
      "Missing values in 'floor_numeric': 0\n",
      "Missing values in 'has_parking': 0\n",
      "Missing values in 'is_exterior': 0\n",
      "Missing values in 'has_lift_binary': 0\n",
      "Missing values in 'has360_int': 0\n",
      "Missing values in 'has3DTour_int': 0\n",
      "Missing values in 'hasVideo_int': 0\n",
      "Missing values in 'hasPlan_int': 0\n",
      "Missing values in 'newDevelopment_int': 0\n",
      "Missing values in 'propertyType': 0\n",
      "Missing values in 'size_category': 0\n",
      "Missing values in 'income_category': 0\n",
      "Missing values in 'rooms_category': 0\n",
      "Missing values in 'neighborhood': 0\n",
      "Missing values in 'status': 0\n"
     ]
    }
   ],
   "source": [
    "# Sanity check (no missing values)\n",
    "for col_name in all_features:\n",
    "    n_null = ml_data.filter(col(col_name).isNull()).count()\n",
    "    print(f\"Missing values in '{col_name}': {n_null}\")"
   ]
  },
  {
   "cell_type": "code",
   "execution_count": 43,
   "id": "30ddaf14",
   "metadata": {},
   "outputs": [],
   "source": [
    "# combine all feature columns for VectorAssembler\n",
    "all_feature_cols = numerical_features + encoded_cols\n",
    "\n",
    "# assemble all features into a single vector - which is the input for ML algorithms\n",
    "assembler = VectorAssembler(inputCols=all_feature_cols, outputCol=\"features\")\n",
    "\n",
    "# create preprocessing pipeline\n",
    "pipeline_stages = indexers + encoders + [assembler]\n",
    "preprocessing_pipeline = Pipeline(stages=pipeline_stages)"
   ]
  },
  {
   "cell_type": "markdown",
   "id": "5d0cee42",
   "metadata": {},
   "source": [
    "### Train test split"
   ]
  },
  {
   "cell_type": "code",
   "execution_count": 44,
   "id": "877b1a8b",
   "metadata": {},
   "outputs": [
    {
     "name": "stdout",
     "output_type": "stream",
     "text": [
      "Train set: 3,194 records\n",
      "Test set: 756 records\n"
     ]
    }
   ],
   "source": [
    "# fit and transform the preprocessing pipeline\n",
    "pipeline_model = preprocessing_pipeline.fit(ml_data)\n",
    "ml_data_processed = pipeline_model.transform(ml_data)\n",
    "\n",
    "# select final columns for ML (target, features, and neighborhood for analysis)\n",
    "final_ml_data = ml_data_processed.select(\"price_clean\", \"features\", \"neighborhood\")\n",
    "\n",
    "# split data 80/20 for train/test\n",
    "train_data, test_data = final_ml_data.randomSplit([0.8, 0.2], seed=42)\n",
    "\n",
    "print(f\"Train set: {train_data.count():,} records\")\n",
    "print(f\"Test set: {test_data.count():,} records\")"
   ]
  },
  {
   "cell_type": "markdown",
   "id": "83bfd937",
   "metadata": {},
   "source": [
    "### Checking missing values in target"
   ]
  },
  {
   "cell_type": "code",
   "execution_count": 45,
   "id": "0fe8f2d4",
   "metadata": {},
   "outputs": [
    {
     "name": "stdout",
     "output_type": "stream",
     "text": [
      " missing values in target column ->  train: 0, test: 0\n"
     ]
    }
   ],
   "source": [
    "# check for missing values in target\n",
    "null_targets_train = train_data.filter(col(\"price_clean\").isNull()).count()\n",
    "null_targets_test = test_data.filter(col(\"price_clean\").isNull()).count()\n",
    "\n",
    "print(f\" missing values in target column ->  train: {null_targets_train}, test: {null_targets_test}\")"
   ]
  },
  {
   "cell_type": "markdown",
   "id": "41085d11",
   "metadata": {},
   "source": [
    "### Saving data in exploitation Zone"
   ]
  },
  {
   "cell_type": "code",
   "execution_count": 46,
   "id": "4aa31a72",
   "metadata": {},
   "outputs": [],
   "source": [
    "# save train set \n",
    "train_data.write.mode(\"overwrite\").parquet(f\"{exploitation_zone}/train_data\")\n",
    "# save test set \n",
    "test_data.write.mode(\"overwrite\").parquet(f\"{exploitation_zone}/test_data\")\n",
    "# save full processed dataset\n",
    "final_ml_data.write.mode(\"overwrite\").parquet(f\"{exploitation_zone}/ml_ready_data\")\n",
    "# preprocessing pipeline\n",
    "pipeline_model.write().overwrite().save(f\"{exploitation_zone}/preprocessing_pipeline\")\n",
    "\n",
    "spark.stop()"
   ]
  },
  {
   "cell_type": "markdown",
   "id": "bad3c6ba",
   "metadata": {},
   "source": [
    "## A.4 Validation"
   ]
  },
  {
   "cell_type": "code",
   "execution_count": 47,
   "id": "36e0d0d4",
   "metadata": {},
   "outputs": [],
   "source": [
    "from pyspark.sql import SparkSession\n",
    "from pyspark.sql.functions import col, count, sum as spark_sum, avg, min as spark_min, max as spark_max, stddev, isnan, isnull, when\n",
    "from pyspark.sql.types import NumericType"
   ]
  },
  {
   "cell_type": "code",
   "execution_count": 48,
   "id": "81bdbd4b",
   "metadata": {},
   "outputs": [],
   "source": [
    "# set spark session \n",
    "spark = SparkSession.builder \\\n",
    "    .appName(\"DataValidation\") \\\n",
    "    .master(\"local[*]\") \\\n",
    "    .getOrCreate()"
   ]
  },
  {
   "cell_type": "code",
   "execution_count": 49,
   "id": "0a3fb4f9",
   "metadata": {},
   "outputs": [],
   "source": [
    "# paths for the zones\n",
    "formatted_zone = \"formatted_zone\"\n",
    "exploitation_zone = \"exploitation_zone\""
   ]
  },
  {
   "cell_type": "markdown",
   "id": "fa6c848c",
   "metadata": {},
   "source": [
    "### Validation formatted zone"
   ]
  },
  {
   "cell_type": "code",
   "execution_count": 50,
   "id": "5941e2c8",
   "metadata": {},
   "outputs": [
    {
     "name": "stdout",
     "output_type": "stream",
     "text": [
      "Columns in formatted data:\n",
      "   1. bathrooms                 : bigint\n",
      "   2. distance                  : string\n",
      "   3. exterior                  : boolean\n",
      "   4. floor                     : string\n",
      "   5. has360                    : boolean\n",
      "   6. has3DTour                 : boolean\n",
      "   7. hasLift                   : boolean\n",
      "   8. hasPlan                   : boolean\n",
      "   9. hasStaging                : boolean\n",
      "  10. hasVideo                  : boolean\n",
      "  11. latitude                  : double\n",
      "  12. longitude                 : double\n",
      "  13. neighborhood              : string\n",
      "  14. newDevelopment            : boolean\n",
      "  15. newDevelopmentFinished    : boolean\n",
      "  16. numPhotos                 : bigint\n",
      "  17. parkingSpace              : struct<hasParkingSpace:boolean,isParkingSpaceIncludedInPrice:boolean,parkingSpacePrice:double>\n",
      "  18. price                     : double\n",
      "  19. priceByArea               : double\n",
      "  20. propertyCode              : string\n",
      "  21. propertyType              : string\n",
      "  22. rooms                     : bigint\n",
      "  23. showAddress               : boolean\n",
      "  24. size                      : double\n",
      "  25. status                    : string\n",
      "  26. topNewDevelopment         : boolean\n",
      "  27. neighborhood_id           : string\n",
      "  28. Index_RFD_average         : double\n",
      "  29. Poblacio_average          : double\n",
      "  30. district                  : string\n",
      "\n",
      "total columns: 30\n"
     ]
    }
   ],
   "source": [
    "# validate data in the formatted zone\n",
    "\n",
    "# load data\n",
    "formatted_data = spark.read.parquet(f\"{formatted_zone}/formatted_data\")\n",
    "\n",
    "# visualize schema\n",
    "print(\"Columns in formatted data:\")\n",
    "for i, (col_name, col_type) in enumerate(formatted_data.dtypes, 1):\n",
    "    print(f\"  {i:2d}. {col_name:<25} : {col_type}\")\n",
    "\n",
    "print(f\"\\ntotal columns: {len(formatted_data.columns)}\")"
   ]
  },
  {
   "cell_type": "code",
   "execution_count": 51,
   "id": "9203f971",
   "metadata": {},
   "outputs": [
    {
     "name": "stdout",
     "output_type": "stream",
     "text": [
      "Column Name               Non-Null Count  Null Count   Null %   Data Type      \n",
      "--------------------------------------------------------------------------------\n",
      "bathrooms                 4,062           0            0.0    % bigint         \n",
      "distance                  4,062           0            0.0    % string         \n",
      "exterior                  4,062           0            0.0    % boolean        \n",
      "floor                     3,486           576          14.2   % string         \n",
      "has360                    4,062           0            0.0    % boolean        \n",
      "has3DTour                 4,062           0            0.0    % boolean        \n",
      "hasLift                   3,736           326          8.0    % boolean        \n",
      "hasPlan                   4,062           0            0.0    % boolean        \n",
      "hasStaging                4,062           0            0.0    % boolean        \n",
      "hasVideo                  4,062           0            0.0    % boolean        \n",
      "latitude                  4,062           0            0.0    % double         \n",
      "longitude                 4,062           0            0.0    % double         \n",
      "neighborhood              4,062           0            0.0    % string         \n",
      "newDevelopment            4,062           0            0.0    % boolean        \n",
      "newDevelopmentFinished    103             3,959        97.5   % boolean        \n",
      "numPhotos                 4,062           0            0.0    % bigint         \n",
      "parkingSpace              578             3,484        85.8   % struct<hasParkingSpace:boolean,isParkingSpaceIncludedInPrice:boolean,parkingSpacePrice:double>\n",
      "price                     4,062           0            0.0    % double         \n",
      "priceByArea               4,062           0            0.0    % double         \n",
      "propertyCode              4,062           0            0.0    % string         \n",
      "propertyType              4,062           0            0.0    % string         \n",
      "rooms                     4,062           0            0.0    % bigint         \n",
      "showAddress               4,062           0            0.0    % boolean        \n",
      "size                      4,062           0            0.0    % double         \n",
      "status                    4,062           0            0.0    % string         \n",
      "topNewDevelopment         4,062           0            0.0    % boolean        \n",
      "neighborhood_id           4,062           0            0.0    % string         \n",
      "Index_RFD_average         4,062           0            0.0    % double         \n",
      "Poblacio_average          4,062           0            0.0    % double         \n",
      "district                  4,062           0            0.0    % string         \n"
     ]
    }
   ],
   "source": [
    "# verify where we have null values\n",
    "print(f\"{'Column Name':<25} {'Non-Null Count':<15} {'Null Count':<12} {'Null %':<8} {'Data Type':<15}\")\n",
    "print(\"-\" * 80)\n",
    "total_records = formatted_data.count()\n",
    "for col_name, col_type in formatted_data.dtypes:\n",
    "    non_null_count = formatted_data.filter(col(col_name).isNotNull()).count()\n",
    "    null_count = total_records - non_null_count\n",
    "    null_percentage = (null_count / total_records) * 100\n",
    "    \n",
    "    print(f\"{col_name:<25} {non_null_count:<15,} {null_count:<12,} {null_percentage:<7.1f}% {col_type:<15}\")"
   ]
  },
  {
   "cell_type": "code",
   "execution_count": 52,
   "id": "f4681de2",
   "metadata": {},
   "outputs": [
    {
     "name": "stdout",
     "output_type": "stream",
     "text": [
      "Price statistics:\n",
      "  Count: 4,062\n",
      "  Average: €579,315\n",
      "  Min: €34,000\n",
      "  Max: €12,000,000\n",
      "  Std Dev: €683,459\n"
     ]
    }
   ],
   "source": [
    "# check statistics for the price column\n",
    "price_stats = formatted_data.select(\n",
    "    count(\"price\").alias(\"count\"),\n",
    "    avg(\"price\").alias(\"avg_price\"),\n",
    "    spark_min(\"price\").alias(\"min_price\"),\n",
    "    spark_max(\"price\").alias(\"max_price\"),\n",
    "    stddev(\"price\").alias(\"std_price\")\n",
    ").collect()[0]\n",
    "\n",
    "print(f\"Price statistics:\")\n",
    "print(f\"  Count: {price_stats['count']:,}\")\n",
    "print(f\"  Average: €{price_stats['avg_price']:,.0f}\")\n",
    "print(f\"  Min: €{price_stats['min_price']:,.0f}\")\n",
    "print(f\"  Max: €{price_stats['max_price']:,.0f}\")\n",
    "print(f\"  Std Dev: €{price_stats['std_price']:,.0f}\")"
   ]
  },
  {
   "cell_type": "code",
   "execution_count": 53,
   "id": "550603f7",
   "metadata": {},
   "outputs": [
    {
     "name": "stdout",
     "output_type": "stream",
     "text": [
      "\n",
      "Income Index statistics:\n",
      "  Count: 4,062\n",
      "  Average Index: 108.0\n",
      "  Min Index: 43.6\n",
      "  Max Index: 229.0\n"
     ]
    }
   ],
   "source": [
    "# check statistics for the income index\n",
    "income_stats = formatted_data.select(\n",
    "    count(\"Index_RFD_average\").alias(\"count\"),\n",
    "    avg(\"Index_RFD_average\").alias(\"avg_income\"),\n",
    "    spark_min(\"Index_RFD_average\").alias(\"min_income\"),\n",
    "    spark_max(\"Index_RFD_average\").alias(\"max_income\")\n",
    ").collect()[0]\n",
    "\n",
    "print(f\"\\nIncome Index statistics:\")\n",
    "print(f\"  Count: {income_stats['count']:,}\")\n",
    "print(f\"  Average Index: {income_stats['avg_income']:.1f}\")\n",
    "print(f\"  Min Index: {income_stats['min_income']:.1f}\")\n",
    "print(f\"  Max Index: {income_stats['max_income']:.1f}\")"
   ]
  },
  {
   "cell_type": "code",
   "execution_count": 54,
   "id": "a4047d64",
   "metadata": {},
   "outputs": [
    {
     "name": "stdout",
     "output_type": "stream",
     "text": [
      "\n",
      ">>> Neighborhood distribution (top 10):\n",
      "+-------------------------------+-----+\n",
      "|neighborhood                   |count|\n",
      "+-------------------------------+-----+\n",
      "|La Dreta de l'Eixample         |352  |\n",
      "|Sants                          |346  |\n",
      "|El Poble Sec - Parc de Montjuïc|300  |\n",
      "|La Nova Esquerra de l'Eixample |298  |\n",
      "|La Marina del Port             |231  |\n",
      "|La Maternitat i Sant Ramon     |229  |\n",
      "|Sants - Badal                  |226  |\n",
      "|El Gòtic                       |218  |\n",
      "|Les Corts                      |214  |\n",
      "|La Bordeta                     |201  |\n",
      "+-------------------------------+-----+\n",
      "only showing top 10 rows\n"
     ]
    }
   ],
   "source": [
    "# neighborhood distribution\n",
    "print(f\"\\n>>> Neighborhood distribution (top 10):\")\n",
    "neighborhood_dist = formatted_data.groupBy(\"neighborhood\") \\\n",
    "    .count() \\\n",
    "    .orderBy(col(\"count\").desc())\n",
    "\n",
    "neighborhood_dist.show(10, truncate=False)"
   ]
  },
  {
   "cell_type": "code",
   "execution_count": 55,
   "id": "73efe35b",
   "metadata": {},
   "outputs": [
    {
     "name": "stdout",
     "output_type": "stream",
     "text": [
      ">>> Property type distribution:\n",
      "+------------+-----+\n",
      "|propertyType|count|\n",
      "+------------+-----+\n",
      "|flat        |3421 |\n",
      "|penthouse   |231  |\n",
      "|chalet      |216  |\n",
      "|duplex      |127  |\n",
      "|studio      |66   |\n",
      "|countryHouse|1    |\n",
      "+------------+-----+\n",
      "\n"
     ]
    }
   ],
   "source": [
    "# property type distribution\n",
    "print(f\">>> Property type distribution:\")\n",
    "property_dist = formatted_data.groupBy(\"propertyType\") \\\n",
    "    .count() \\\n",
    "    .orderBy(col(\"count\").desc())\n",
    "\n",
    "property_dist.show(truncate=False)"
   ]
  },
  {
   "cell_type": "markdown",
   "id": "95382aa6",
   "metadata": {},
   "source": [
    "### Validation exploitation zone"
   ]
  },
  {
   "cell_type": "code",
   "execution_count": 56,
   "id": "4c80b7e5",
   "metadata": {},
   "outputs": [],
   "source": [
    "# validate data in the exploitation zone\n",
    "\n",
    "# laod data \n",
    "train_data = spark.read.parquet(f\"{exploitation_zone}/train_data\")\n",
    "test_data = spark.read.parquet(f\"{exploitation_zone}/test_data\")\n",
    "ml_ready_data = spark.read.parquet(f\"{exploitation_zone}/ml_ready_data\")"
   ]
  },
  {
   "cell_type": "code",
   "execution_count": 57,
   "id": "ede76893",
   "metadata": {},
   "outputs": [
    {
     "name": "stdout",
     "output_type": "stream",
     "text": [
      "  Total ML records: 3,950\n",
      "  Train records: 3,194 (80.9%)\n",
      "  Test records: 756 (19.1%)\n"
     ]
    }
   ],
   "source": [
    "# check the splits\n",
    "total_ml_records = ml_ready_data.count()\n",
    "train_records = train_data.count()\n",
    "test_records = test_data.count()\n",
    "\n",
    "print(f\"  Total ML records: {total_ml_records:,}\")\n",
    "print(f\"  Train records: {train_records:,} ({train_records/total_ml_records*100:.1f}%)\")\n",
    "print(f\"  Test records: {test_records:,} ({test_records/total_ml_records*100:.1f}%)\")"
   ]
  },
  {
   "cell_type": "code",
   "execution_count": 58,
   "id": "7b60b74e",
   "metadata": {},
   "outputs": [
    {
     "name": "stdout",
     "output_type": "stream",
     "text": [
      "Train data columns:\n",
      "root\n",
      " |-- price_clean: double (nullable = true)\n",
      " |-- features: vector (nullable = true)\n",
      " |-- neighborhood: string (nullable = true)\n",
      "\n",
      "\n",
      "First feature vector:\n",
      "+------------------------------------------------------------------------------------------------------------------------------------------------------------------+\n",
      "|features                                                                                                                                                          |\n",
      "+------------------------------------------------------------------------------------------------------------------------------------------------------------------+\n",
      "|(91,[0,1,2,3,4,5,6,7,8,9,12,18,23,27,31,36,88],[80.0,4.0,2.0,73.00000000000001,40601.181818181816,41.374478,2.1553834,2764.0,7.0,3.0,1.0,1.0,1.0,1.0,1.0,1.0,1.0])|\n",
      "+------------------------------------------------------------------------------------------------------------------------------------------------------------------+\n",
      "only showing top 1 row\n",
      "Vector has 91 dimensions\n"
     ]
    }
   ],
   "source": [
    "# check what columns we have\n",
    "print(\"Train data columns:\")\n",
    "train_data.printSchema()\n",
    "\n",
    "# check feature vector\n",
    "print(\"\\nFirst feature vector:\")\n",
    "train_data.select(\"features\").show(1, truncate=False)\n",
    "\n",
    "# get vector size\n",
    "vector_size = len(train_data.select(\"features\").first()[\"features\"])\n",
    "print(f\"Vector has {vector_size} dimensions\")"
   ]
  },
  {
   "cell_type": "markdown",
   "id": "d48941b5",
   "metadata": {},
   "source": [
    "Please note that this step (above) ensures there are not missing values in features"
   ]
  },
  {
   "cell_type": "code",
   "execution_count": 59,
   "id": "e0c22f32",
   "metadata": {},
   "outputs": [
    {
     "name": "stdout",
     "output_type": "stream",
     "text": [
      "\n",
      "Target variable (=price_clean) statistics:\n",
      "  Count: 3,194\n",
      "  Average: €500,212\n",
      "  Min: €39,000\n",
      "  Max: €2,600,000\n",
      "  Std Dev: €409,415\n"
     ]
    }
   ],
   "source": [
    "# check statistics for the target variable (=price_clean)\n",
    "target_stats = train_data.select(\n",
    "    count(\"price_clean\").alias(\"count\"),\n",
    "    avg(\"price_clean\").alias(\"avg_price\"),\n",
    "    spark_min(\"price_clean\").alias(\"min_price\"),\n",
    "    spark_max(\"price_clean\").alias(\"max_price\"),\n",
    "    stddev(\"price_clean\").alias(\"std_price\")\n",
    ").collect()[0]\n",
    "\n",
    "print(f\"\\nTarget variable (=price_clean) statistics:\")\n",
    "print(f\"  Count: {target_stats['count']:,}\")\n",
    "print(f\"  Average: €{target_stats['avg_price']:,.0f}\")\n",
    "print(f\"  Min: €{target_stats['min_price']:,.0f}\")\n",
    "print(f\"  Max: €{target_stats['max_price']:,.0f}\")\n",
    "print(f\"  Std Dev: €{target_stats['std_price']:,.0f}\")"
   ]
  },
  {
   "cell_type": "code",
   "execution_count": 60,
   "id": "361006e5",
   "metadata": {},
   "outputs": [
    {
     "name": "stdout",
     "output_type": "stream",
     "text": [
      "  Null values: 0\n"
     ]
    }
   ],
   "source": [
    "# check for missing values in target\n",
    "null_targets = train_data.filter(col(\"price_clean\").isNull()).count()\n",
    "print(f\"  Null values: {null_targets}\")"
   ]
  },
  {
   "cell_type": "code",
   "execution_count": 61,
   "id": "6587eca7",
   "metadata": {},
   "outputs": [
    {
     "name": "stdout",
     "output_type": "stream",
     "text": [
      "  Formatted Zone: 4,062 records\n",
      "  Exploitation Zone: 3,950 records\n",
      "  Records removed: 112 (2.8%)\n",
      "  Formatted Zone price range: €34,000 - €12,000,000\n",
      "  ML Zone price range: €34,000 - €2,600,000\n"
     ]
    }
   ],
   "source": [
    "# compare record counts between zones\n",
    "formatted_count = formatted_data.count()\n",
    "ml_ready_count = ml_ready_data.count()\n",
    "records_removed = formatted_count - ml_ready_count\n",
    "removal_percentage = (records_removed / formatted_count) * 100\n",
    "\n",
    "print(f\"  Formatted Zone: {formatted_count:,} records\")\n",
    "print(f\"  Exploitation Zone: {ml_ready_count:,} records\")\n",
    "print(f\"  Records removed: {records_removed:,} ({removal_percentage:.1f}%)\")\n",
    "\n",
    "# check price ranges\n",
    "formatted_price_range = formatted_data.select(\n",
    "    spark_min(\"price\").alias(\"min\"), \n",
    "    spark_max(\"price\").alias(\"max\")\n",
    ").collect()[0]\n",
    "\n",
    "ml_price_range = ml_ready_data.select(\n",
    "    spark_min(\"price_clean\").alias(\"min\"), \n",
    "    spark_max(\"price_clean\").alias(\"max\")\n",
    ").collect()[0]\n",
    "\n",
    "print(f\"  Formatted Zone price range: €{formatted_price_range['min']:,.0f} - €{formatted_price_range['max']:,.0f}\")\n",
    "print(f\"  ML Zone price range: €{ml_price_range['min']:,.0f} - €{ml_price_range['max']:,.0f}\")"
   ]
  },
  {
   "cell_type": "code",
   "execution_count": 62,
   "id": "b2ba2913",
   "metadata": {},
   "outputs": [],
   "source": [
    "spark.stop()"
   ]
  }
 ],
 "metadata": {
  "kernelspec": {
   "display_name": "myenv",
   "language": "python",
   "name": "python3"
  },
  "language_info": {
   "codemirror_mode": {
    "name": "ipython",
    "version": 3
   },
   "file_extension": ".py",
   "mimetype": "text/x-python",
   "name": "python",
   "nbconvert_exporter": "python",
   "pygments_lexer": "ipython3",
   "version": "3.9.20"
  }
 },
 "nbformat": 4,
 "nbformat_minor": 5
}
